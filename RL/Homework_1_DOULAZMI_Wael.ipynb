{
  "nbformat": 4,
  "nbformat_minor": 0,
  "metadata": {
    "colab": {
      "provenance": [],
      "collapsed_sections": []
    },
    "kernelspec": {
      "name": "python3",
      "display_name": "Python 3"
    },
    "language_info": {
      "name": "python"
    }
  },
  "cells": [
    {
      "cell_type": "markdown",
      "metadata": {
        "id": "IAE8kMxe6E6k"
      },
      "source": [
        "# MVA - Homework 1 - Reinforcement Learning (2022/2023)\n",
        "\n",
        "**Name:** DOULAZMI Waël"
      ]
    },
    {
      "cell_type": "markdown",
      "metadata": {
        "id": "vY4MH0nU637o"
      },
      "source": [
        "## Instructions\n",
        "\n",
        "* The deadline is **November 10 at 11:59 pm (Paris time).**\n",
        "\n",
        "* By doing this homework you agree to the late day policy, collaboration and misconduct rules reported on [Piazza](https://piazza.com/class/l4y5ubadwj64mb/post/6).\n",
        "\n",
        "* **Mysterious or unsupported answers will not receive full credit**. A correct answer, unsupported by calculations, explanation, or algebraic work will receive no credit; an incorrect answer supported by substantially correct calculations and explanations might still receive partial credit.\n",
        "\n",
        "* Answers should be provided in **English**."
      ]
    },
    {
      "cell_type": "markdown",
      "metadata": {
        "id": "YB__2uUC5U1r"
      },
      "source": [
        "# Colab setup"
      ]
    },
    {
      "cell_type": "code",
      "metadata": {
        "id": "2XNj1_VZ2FGJ",
        "colab": {
          "base_uri": "https://localhost:8080/"
        },
        "outputId": "0bd03e15-81aa-4e18-b399-602d1c87369f"
      },
      "source": [
        "from IPython import get_ipython\n",
        "\n",
        "if 'google.colab' in str(get_ipython()):\n",
        "  # install rlberry library\n",
        "  !pip install git+https://github.com/rlberry-py/rlberry.git@mva2021#egg=rlberry[default] > /dev/null 2>&1\n",
        "\n",
        "  # install ffmpeg-python for saving videos\n",
        "  !pip install ffmpeg-python > /dev/null 2>&1\n",
        "\n",
        "  # packages required to show video\n",
        "  !pip install pyvirtualdisplay > /dev/null 2>&1\n",
        "  !apt-get install -y xvfb python-opengl ffmpeg > /dev/null 2>&1\n",
        "\n",
        "  print(\"Libraries installed, please restart the runtime!\")\n"
      ],
      "execution_count": 1,
      "outputs": [
        {
          "output_type": "stream",
          "name": "stdout",
          "text": [
            "Libraries installed, please restart the runtime!\n"
          ]
        }
      ]
    },
    {
      "cell_type": "code",
      "metadata": {
        "id": "s8F7RiPXjutB"
      },
      "source": [
        "# Create directory for saving videos\n",
        "!mkdir videos > /dev/null 2>&1\n",
        "\n",
        "# Initialize display and import function to show videos\n",
        "import rlberry.colab_utils.display_setup\n",
        "from rlberry.colab_utils.display_setup import show_video"
      ],
      "execution_count": 2,
      "outputs": []
    },
    {
      "cell_type": "code",
      "metadata": {
        "id": "KISV44N_nCNm"
      },
      "source": [
        "# Useful libraries\n",
        "import numpy as np\n",
        "import matplotlib.pyplot as plt"
      ],
      "execution_count": 3,
      "outputs": []
    },
    {
      "cell_type": "markdown",
      "metadata": {
        "id": "L4hKBRTCh6Gk"
      },
      "source": [
        "# Preparation\n",
        "\n",
        "In the coding exercises, you will use a *grid-world* MDP, which is represented in Python using the interface provided by the [Gym](https://gym.openai.com/) library. The cells below show how to interact with this MDP and how to visualize it.\n"
      ]
    },
    {
      "cell_type": "code",
      "metadata": {
        "id": "514mHDeQooKa",
        "colab": {
          "base_uri": "https://localhost:8080/"
        },
        "outputId": "2c30378f-9fa0-44e0-cdc2-5b41c30d7402"
      },
      "source": [
        "from rlberry.envs import GridWorld\n",
        "\n",
        "def get_env():\n",
        "  \"\"\"Creates an instance of a grid-world MDP.\"\"\"\n",
        "  env = GridWorld(\n",
        "      nrows=5,\n",
        "      ncols=7,\n",
        "      reward_at = {(0, 6):1.0},\n",
        "      walls=((0, 4), (1, 4), (2, 4), (3, 4)),\n",
        "      success_probability=0.9,\n",
        "      terminal_states=((0, 6),)\n",
        "  )\n",
        "  return env\n",
        "\n",
        "def render_policy(env, policy=None, horizon=50):\n",
        "  \"\"\"Visualize a policy in an environment\n",
        "\n",
        "  Args:\n",
        "    env: GridWorld\n",
        "        environment where to run the policy\n",
        "    policy: np.array\n",
        "        matrix mapping states to action (Ns).\n",
        "        If None, runs random policy.\n",
        "    horizon: int\n",
        "        maximum number of timesteps in the environment.\n",
        "  \"\"\"\n",
        "  env.enable_rendering()\n",
        "  state = env.reset()                       # get initial state\n",
        "  for timestep in range(horizon):\n",
        "      if policy is None:\n",
        "        action = env.action_space.sample()  # take random actions\n",
        "      else:\n",
        "        action = policy[state]\n",
        "      next_state, reward, is_terminal, info = env.step(action)\n",
        "      state = next_state\n",
        "      if is_terminal:\n",
        "        break\n",
        "  # save video and clear buffer\n",
        "  env.save_video('./videos/gw.mp4', framerate=5)\n",
        "  env.clear_render_buffer()\n",
        "  env.disable_rendering()\n",
        "  # show video\n",
        "  show_video('./videos/gw.mp4')\n"
      ],
      "execution_count": 4,
      "outputs": [
        {
          "output_type": "stream",
          "name": "stderr",
          "text": [
            "[INFO] OpenGL_accelerate module loaded \n",
            "[INFO] Using accelerated ArrayDatatype \n",
            "[INFO] Generating grammar tables from /usr/lib/python3.7/lib2to3/Grammar.txt \n",
            "[INFO] Generating grammar tables from /usr/lib/python3.7/lib2to3/PatternGrammar.txt \n",
            "/usr/local/lib/python3.7/dist-packages/past/types/oldstr.py:5: DeprecationWarning: Using or importing the ABCs from 'collections' instead of from 'collections.abc' is deprecated since Python 3.3,and in 3.9 it will stop working\n",
            "  from collections import Iterable\n",
            "/usr/local/lib/python3.7/dist-packages/past/builtins/misc.py:4: DeprecationWarning: Using or importing the ABCs from 'collections' instead of from 'collections.abc' is deprecated since Python 3.3,and in 3.9 it will stop working\n",
            "  from collections import Mapping\n"
          ]
        }
      ]
    },
    {
      "cell_type": "code",
      "metadata": {
        "id": "hQAHUBw_ifMI",
        "colab": {
          "base_uri": "https://localhost:8080/",
          "height": 543
        },
        "outputId": "878cf6ba-227f-4c6c-d12c-1ee52f89d059"
      },
      "source": [
        "# Create an environment and visualize it\n",
        "env = get_env()\n",
        "render_policy(env)  # visualize random policy\n",
        "\n",
        "# The reward function and transition probabilities can be accessed through\n",
        "# the R and P attributes:\n",
        "print(f\"Shape of the reward array = (S, A) = {env.R.shape}\")\n",
        "print(f\"Shape of the transition array = (S, A, S) = {env.P.shape}\")\n",
        "print(f\"Reward at (s, a) = (1, 0): {env.R[1, 0]}\")\n",
        "print(f\"Prob[s\\'=2 | s=1, a=0]: {env.P[1, 0, 2]}\")\n",
        "print(f\"Number of states and actions: {env.Ns}, {env.Na}\")\n",
        "\n",
        "# The states in the griworld correspond to (row, col) coordinates.\n",
        "# The environment provides a mapping between (row, col) and the index of\n",
        "# each state:\n",
        "print(f\"Index of state (1, 0): {env.coord2index[(1, 0)]}\")\n",
        "print(f\"Coordinates of state 5: {env.index2coord[5]}\")"
      ],
      "execution_count": 5,
      "outputs": [
        {
          "output_type": "display_data",
          "data": {
            "text/plain": [
              "<IPython.core.display.HTML object>"
            ],
            "text/html": [
              "<video alt=\"videos/gw.mp4\" autoplay\n",
              "                      loop controls style=\"height: 400px;\">\n",
              "                    <source src=\"data:video/mp4;base64,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\" type=\"video/mp4\" />\n",
              "                 </video>"
            ]
          },
          "metadata": {}
        },
        {
          "output_type": "stream",
          "name": "stdout",
          "text": [
            "Shape of the reward array = (S, A) = (31, 4)\n",
            "Shape of the transition array = (S, A, S) = (31, 4, 31)\n",
            "Reward at (s, a) = (1, 0): 0.0\n",
            "Prob[s'=2 | s=1, a=0]: 0.04999999999999999\n",
            "Number of states and actions: 31, 4\n",
            "Index of state (1, 0): 6\n",
            "Coordinates of state 5: (0, 6)\n"
          ]
        }
      ]
    },
    {
      "cell_type": "markdown",
      "metadata": {
        "id": "ibGD_3I89CNu"
      },
      "source": [
        "# Part 1 - Dynamic Programming"
      ]
    },
    {
      "cell_type": "markdown",
      "metadata": {
        "id": "NR7h5won9NQY"
      },
      "source": [
        "## Question 1.1\n",
        "\n",
        "Consider a general MDP with a discount factor of $\\gamma < 1$. Assume that the horizon is infinite (so there is no termination). A policy $\\pi$ in this MDP\n",
        "induces a value function $V^\\pi$. Suppose an affine transformation is applied to the reward, what is\n",
        "the new value function? Is the optimal policy preserved?\n",
        "\n"
      ]
    },
    {
      "cell_type": "markdown",
      "metadata": {
        "id": "313W4K3B_LtN"
      },
      "source": [
        "### **Answer**\n",
        "\n",
        "We now have a new MDP $M'$ with the same state and action space $(S,A)$, the same transition function $p$ and a new reward function $r'=ar+b, \\; (a,b)∈ \\mathbb{R}^2$.\n",
        "\n",
        "Then let $\\pi$ be a policy, and $s\\in S$  we have: \n",
        "\n",
        "$$V_{M'}^\\pi (s) = \\mathbb{E} [\\sum_{t=0}^∞γ^tr'_t | s_0=s, \\pi] = a\\mathbb{E} [\\sum_{t=0}^∞γ^tr_t | s_0=s, \\pi]  + b\\mathbb{E} [\\sum_{t=0}^∞γ^t | s_0=s, \\pi]= aV^\\pi(s) + \\frac{b}{1-γ}$$\n",
        "\n",
        "Thus $V_{M'}^\\pi = aV^\\pi + \\frac{b}{1-γ} $\n",
        "\n",
        "If $a> 0$ the optimal policies for $M$ are the optimal policies for $M'$ and conversely.\n",
        "\n",
        "If $a=0$ an optimal policy for $M$ is an optimal policy for $M'$ as any policy is optimal for $M'$\n",
        "\n",
        "If $a< 0$ an optimal policy for $M$ is a \"worst\" policy for $M'$, so it would be optimal only in cases where all the policies lead to the same value.  "
      ]
    },
    {
      "cell_type": "markdown",
      "metadata": {
        "id": "0uCVgkDo9vTM"
      },
      "source": [
        "## Question 1.2\n",
        "\n",
        "Consider an infinite-horizon $\\gamma$-discounted MDP. We denote by $Q^*$ the $Q$-function of the optimal policy $\\pi^*$. Prove that, for any function $Q(s, a)$ (which is **not** necessarily the value function of a policy), the following inequality holds for any state $s$:\n",
        "\n",
        "$$\n",
        "V^{\\pi_Q}(s) \\geq V^*(s) - \\frac{2}{1-\\gamma}||Q^*-Q||_\\infty,\n",
        "$$\n",
        "\n",
        "where $||Q^*-Q||_\\infty = \\max_{s, a} |Q^*(s, a) - Q(s, a)|$ and $\\pi_Q(s) \\in \\arg\\max_a Q(s, a)$. Can you use this result to show that any policy $\\pi$ such that $\\pi(s) \\in \\arg\\max_a Q^*(s, a)$ is optimal?"
      ]
    },
    {
      "cell_type": "markdown",
      "metadata": {
        "id": "8MqGWPPD_OAI"
      },
      "source": [
        "### **Answer**\n",
        "\n",
        "We first note the following property, for any state-action pair $(s,a)$:\n",
        "\n",
        "\\begin{align}\n",
        "\\mathcal{T}Q(s,a) &= r(s,a) + \\gamma \\sum_{s'}p(s'|s,a)\\max_{a'}Q(s',a')\\\\\n",
        "&= r(s,a) + \\gamma \\sum_{s'}p(s'|s,a)Q(s',\\pi_Q(s'))\\\\\n",
        "&= \\mathcal{T}^{\\pi_Q}Q(s,a)\n",
        "\\end{align}\n",
        "\n",
        "Hence, $\\mathcal{T}Q = \\mathcal{T}^{\\pi_Q}Q$\n",
        "\n",
        "Now, we may write, for any state $s$:\n",
        "\n",
        "\\begin{align}\n",
        "V^*(s) - V^{\\pi_Q}(s)&= Q^*(s,\\pi^*(s)) - Q^{\\pi_Q}(s,\\pi_Q(s))\\\\\n",
        " &= \\mathcal{T}Q^*(s,\\pi^*(s)) - \\mathcal{T}^{\\pi_Q}Q^{\\pi_Q}(s,\\pi_Q(s))\\\\\n",
        "&= \\mathcal{T}Q^*(s,\\pi^*(s)) - \\mathcal{T}Q(s,\\pi^*(s)) + \\mathcal{T}Q(s,\\pi^*(s)) - \\mathcal{T}Q(s,\\pi_Q(s)) + \\mathcal{T}^{\\pi_Q}Q(s,\\pi_Q(s)) - \\mathcal{T}^{\\pi_Q}Q^{\\pi_Q}(s,\\pi_Q(s))\n",
        "\\end{align}\n",
        "\n",
        "On one hand using contractivity:\n",
        "$$\n",
        "\\mathcal{T}Q^*(s,\\pi^*(s)) - \\mathcal{T}Q(s,\\pi^*(s)) \\leq \\gamma ||Q^* - Q||_∞\n",
        "$$\n",
        "\n",
        "Then:\n",
        "\n",
        "\\begin{align}\n",
        "&\\mathcal{T}^{\\pi_Q}Q(s,\\pi_Q(s)) - \\mathcal{T}^{\\pi_Q}Q^{\\pi_Q}(s,\\pi_Q(s)) = \\gamma \\sum_{s'}p(s'|s,\\pi_Q(s))\\Big(Q(s', \\pi_Q(s')) - Q^{\\pi_Q}(s', \\pi_Q(s'))\\Big)\\\\\n",
        "&\\leq \\gamma||Q-Q^*||_∞  + \\gamma \\sum_{s'}p(s'|s,\\pi_Q(s))\\Big(Q^*(s', \\pi_Q(s')) - Q^{\\pi_Q}(s', \\pi_Q(s'))\\Big)\\\\\n",
        "& \\leq \\gamma||Q-Q^*||_∞  + \\gamma ||V^* - V^{\\pi_Q}||_\\infty\n",
        "\\end{align}\n",
        "\n",
        "We used the following fact: $V^*(s') = Q^*(s',\\pi^*(s'))\\geq Q^*(s', \\pi_Q(s'))$\n",
        "\n",
        "Now we must deal with the remaining term: $\\mathcal{T}Q(s,\\pi^*(s)) - \\mathcal{T}Q(s,\\pi_Q(s))$\n",
        "\n",
        "----\n",
        " If we managed to prove the inequality, then if $\\pi$ is such that $\\pi(s) \\in \\arg\\max_a Q^*(s, a)$ then we will be in the previous case, but having this time $Q=Q^*$ and thus $V^\\pi(s)\\geq V^*(s) \\geq V^\\pi(s)$, thus $V^\\pi=V^*$, $\\pi$ is optimal.\n",
        "\n",
        "\n"
      ]
    },
    {
      "cell_type": "markdown",
      "metadata": {
        "id": "yIrtb7sihYcM"
      },
      "source": [
        "## Question 1.3\n",
        "\n",
        "In this question, you will implement and compare the policy and value iteration algorithms for a finite MDP. \n",
        "\n",
        "Complete the functions `policy_evaluation`, `policy_iteration` and `value_iteration` below.\n",
        "\n",
        "\n",
        "Compare value iteration and policy iteration. Highlight pros and cons of each method."
      ]
    },
    {
      "cell_type": "markdown",
      "metadata": {
        "id": "GLmQtk-wt0HS"
      },
      "source": [
        "### **Answer**\n",
        "\n",
        "Value iteration: \n",
        "- Pros: \n",
        "    - No need to invert matrixes, or to solve linear equations\n",
        "    - Can use a tolerance parameter to control distance to Q*\n",
        "- Cons:\n",
        "    - Not an exact algorithm\n",
        "    - No control on the number of steps required to achieve convergence\n",
        "\n",
        "Policy iteration:\n",
        "- Pros:\n",
        "  - Converge in a finite number of steps to the optimal solution\n",
        "- Cons:\n",
        "  - Require linear system solving $(O(|S|^2))$\n"
      ]
    },
    {
      "cell_type": "code",
      "metadata": {
        "id": "9yI0YYtMmpDQ"
      },
      "source": [
        "def policy_evaluation(P, R, policy, gamma=0.9, tol=1e-2):\n",
        "    \"\"\"\n",
        "    Args:\n",
        "        P: np.array\n",
        "            transition matrix (NsxNaxNs)\n",
        "        R: np.array\n",
        "            reward matrix (NsxNa)\n",
        "        policy: np.array\n",
        "            matrix mapping states to action (Ns)\n",
        "        gamma: float\n",
        "            discount factor\n",
        "        tol: float\n",
        "            precision of the solution\n",
        "    Return:\n",
        "        value_function: np.array\n",
        "            The value function of the given policy\n",
        "    \"\"\"\n",
        "    Ns, Na = R.shape\n",
        "    # ====================================================\n",
        "\t  # YOUR IMPLEMENTATION HERE \n",
        "    #\n",
        "    value_function = np.zeros(Ns)\n",
        "    error = 100\n",
        "    while error > tol:\n",
        "      new_value_function = np.zeros(Ns)\n",
        "      for s in range(Ns):\n",
        "        new_value_function[s] = R[s, policy[s]] + gamma * P[s, policy[s], :] @ value_function\n",
        "      error = np.max(np.abs(new_value_function - value_function))\n",
        "      value_function = new_value_function\n",
        "    # ====================================================\n",
        "    return value_function\n",
        "\n",
        "# We also implent it using matrix inversion\n",
        "\n",
        "def policy_evaluation_matrix(P, R, policy, gamma=0.9):\n",
        "    \"\"\"\n",
        "    Args:\n",
        "        P: np.array\n",
        "            transition matrix (NsxNaxNs)\n",
        "        R: np.array\n",
        "            reward matrix (NsxNa)\n",
        "        policy: np.array\n",
        "            matrix mapping states to action (Ns)\n",
        "        gamma: float\n",
        "            discount factor\n",
        "        tol: float\n",
        "            precision of the solution\n",
        "    Return:\n",
        "        value_function: np.array\n",
        "            The value function of the given policy\n",
        "    \"\"\"\n",
        "    Ns, Na = R.shape\n",
        "    Rpi = np.zeros(Ns)\n",
        "    Ppi = np.zeros((Ns, Ns))\n",
        "    for s in range(Ns):\n",
        "      Rpi[s] = R[s, policy[s]]\n",
        "      for s_prime in range(Ns):\n",
        "        Ppi[s, s_prime] = P[s, policy[s], s_prime]\n",
        "    V = np.linalg.solve(np.eye(Ns) - gamma * Ppi, Rpi)\n",
        "    return V"
      ],
      "execution_count": 6,
      "outputs": []
    },
    {
      "cell_type": "code",
      "metadata": {
        "id": "ncqbPx99ncVY"
      },
      "source": [
        "def policy_iteration(P, R, gamma=0.9, tol=1e-3):\n",
        "    \"\"\"\n",
        "    Args:\n",
        "        P: np.array\n",
        "            transition matrix (NsxNaxNs)\n",
        "        R: np.array\n",
        "            reward matrix (NsxNa)\n",
        "        gamma: float\n",
        "            discount factor\n",
        "        tol: float\n",
        "            precision of the solution\n",
        "    Return:\n",
        "        policy: np.array\n",
        "            the final policy\n",
        "        V: np.array\n",
        "            the value function associated to the final policy\n",
        "    \"\"\"\n",
        "    Ns, Na = R.shape\n",
        "    V = np.zeros(Ns)\n",
        "    policy = np.ones(Ns, dtype=int)\n",
        "    # ====================================================\n",
        "\t  # YOUR IMPLEMENTATION HERE \n",
        "    #\n",
        "    improved_policy = True\n",
        "    while improved_policy:\n",
        "      V = policy_evaluation_matrix(P, R, policy)\n",
        "      new_policy = np.argmax(R + gamma * P @ V, axis=1)\n",
        "      improved_policy = (new_policy != policy).any()\n",
        "      policy = new_policy\n",
        "    # ====================================================\n",
        "    return policy, V"
      ],
      "execution_count": 7,
      "outputs": []
    },
    {
      "cell_type": "code",
      "metadata": {
        "id": "3jB7dfA5nRCZ"
      },
      "source": [
        "def value_iteration(P, R, gamma=0.9, tol=1e-3):\n",
        "    \"\"\"\n",
        "    Args:\n",
        "        P: np.array\n",
        "            transition matrix (NsxNaxNs)\n",
        "        R: np.array\n",
        "            reward matrix (NsxNa)\n",
        "        gamma: float\n",
        "            discount factor\n",
        "        tol: float\n",
        "            precision of the solution\n",
        "    Return:\n",
        "        Q: final Q-function (at iteration n)\n",
        "        greedy_policy: greedy policy wrt Qn\n",
        "        Qfs: all Q-functions generated by the algorithm (for visualization)\n",
        "    \"\"\"\n",
        "    Ns, Na = R.shape\n",
        "    Q = np.zeros((Ns, Na))\n",
        "    Qfs = [Q]\n",
        "    # ====================================================\n",
        "\t  # YOUR IMPLEMENTATION HERE \n",
        "    #\n",
        "    error = 100\n",
        "    while error > tol:\n",
        "      Q_new = R + gamma * P @ np.max(Q, axis=1)\n",
        "      error = np.max(np.abs(Q_new - Q))\n",
        "      Q = Q_new\n",
        "      Qfs.append(Q)\n",
        "    # ====================================================\n",
        "    greedy_policy = np.argmax(Q, axis=1)\n",
        "    return Q, greedy_policy, Qfs"
      ],
      "execution_count": 8,
      "outputs": []
    },
    {
      "cell_type": "markdown",
      "metadata": {
        "id": "-Fi0IzZJp74Z"
      },
      "source": [
        "### Testing your code"
      ]
    },
    {
      "cell_type": "code",
      "metadata": {
        "id": "P7JKrc1oqFI2",
        "colab": {
          "base_uri": "https://localhost:8080/",
          "height": 1000
        },
        "outputId": "c146a48b-e3f2-4e93-d5cc-5cd17eca28ff"
      },
      "source": [
        "# Parameters\n",
        "tol = 1e-5\n",
        "gamma = 0.99\n",
        "\n",
        "# Environment\n",
        "env = get_env()\n",
        "\n",
        "# run value iteration to obtain Q-values\n",
        "VI_Q, VI_greedypol, all_qfunctions = value_iteration(env.P, env.R, gamma=gamma, tol=tol)\n",
        "\n",
        "# render the policy\n",
        "print(\"[VI]Greedy policy: \")\n",
        "render_policy(env, VI_greedypol)\n",
        "\n",
        "# compute the value function of the greedy policy using matrix inversion\n",
        "# ====================================================\n",
        "# YOUR IMPLEMENTATION HERE \n",
        "# compute value function of the greedy policy\n",
        "#\n",
        "greedy_V = policy_evaluation_matrix(env.P, env.R, VI_greedypol)\n",
        "# ====================================================\n",
        "\n",
        "# show the error between the computed V-functions and the final V-function\n",
        "# (that should be the optimal one, if correctly implemented)\n",
        "# as a function of time\n",
        "final_V = all_qfunctions[-1].max(axis=1)\n",
        "norms = [ np.linalg.norm(q.max(axis=1) - final_V) for q in all_qfunctions]\n",
        "plt.plot(norms)\n",
        "plt.xlabel('Iteration')\n",
        "plt.ylabel('Error')\n",
        "plt.title(\"Value iteration: convergence\")\n",
        "\n",
        "#### POLICY ITERATION ####\n",
        "PI_policy, PI_V = policy_iteration(env.P, env.R, gamma=gamma, tol=tol)\n",
        "print(\"\\n[PI]final policy: \")\n",
        "render_policy(env, PI_policy)\n",
        "\n",
        "## Uncomment below to check that everything is correct\n",
        "assert np.allclose(PI_policy, VI_greedypol),\\\n",
        "     \"You should check the code, the greedy policy computed by VI is not equal to the solution of PI\"\n",
        "assert np.allclose(PI_V, greedy_V),\\\n",
        "     \"Since the policies are equal, even the value function should be\"\n",
        "\n",
        "plt.show()"
      ],
      "execution_count": 9,
      "outputs": [
        {
          "output_type": "stream",
          "name": "stdout",
          "text": [
            "[VI]Greedy policy: \n"
          ]
        },
        {
          "output_type": "display_data",
          "data": {
            "text/plain": [
              "<IPython.core.display.HTML object>"
            ],
            "text/html": [
              "<video alt=\"videos/gw.mp4\" autoplay\n",
              "                      loop controls style=\"height: 400px;\">\n",
              "                    <source src=\"data:video/mp4;base64,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\" type=\"video/mp4\" />\n",
              "                 </video>"
            ]
          },
          "metadata": {}
        },
        {
          "output_type": "stream",
          "name": "stdout",
          "text": [
            "\n",
            "[PI]final policy: \n"
          ]
        },
        {
          "output_type": "display_data",
          "data": {
            "text/plain": [
              "<IPython.core.display.HTML object>"
            ],
            "text/html": [
              "<video alt=\"videos/gw.mp4\" autoplay\n",
              "                      loop controls style=\"height: 400px;\">\n",
              "                    <source src=\"data:video/mp4;base64,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\" type=\"video/mp4\" />\n",
              "                 </video>"
            ]
          },
          "metadata": {}
        },
        {
          "output_type": "display_data",
          "data": {
            "text/plain": [
              "<Figure size 432x288 with 1 Axes>"
            ],
            "image/png": "[encoded data removed]"
          },
          "metadata": {
            "needs_background": "light"
          }
        }
      ]
    },
    {
      "cell_type": "markdown",
      "metadata": {
        "id": "2V1QdoH-xFX0"
      },
      "source": [
        "# Part 2 - Tabular RL"
      ]
    },
    {
      "cell_type": "markdown",
      "metadata": {
        "id": "Qf51VhoPxbV4"
      },
      "source": [
        "## Question 2.1\n",
        "\n",
        "The code below collects two datasets of transitions (containing states, actions, rewards and next states) for a discrete MDP.\n",
        "\n",
        "For each of the datasets:\n",
        "\n",
        "1. Estimate the transitions and rewards, $\\hat{P}$ and $\\hat{R}$.\n",
        "2. Compute the optimal value function and the optimal policy with respect to the estimated MDP (defined by $\\hat{P}$ and $\\hat{R}$), which we denote by $\\hat{\\pi}$ and $\\hat{V}$.\n",
        "3. Numerically compare the performance of $\\hat{\\pi}$ and $\\pi^\\star$ (the true optimal policy), and the error between $\\hat{V}$ and $V^*$ (the true optimal value function).\n",
        "\n",
        "Which of the two data collection methods do you think is better? Why?"
      ]
    },
    {
      "cell_type": "markdown",
      "metadata": {
        "id": "eWSyewG2EZpJ"
      },
      "source": [
        "### **Answer**\n",
        "\n",
        "The risk with the first data collection method, is that if we never manage to reach the goal using a random policy, which is likely to happen because of the wall, then our estimated reward function will be null, and we won't be able to compute any good policy.\n",
        "While with uniform sampling, each state and action pair is tested, so we have a more global estimation of $R$, and we will have better results.\n",
        "\n",
        "So the second data collection method is definetely better."
      ]
    },
    {
      "cell_type": "code",
      "metadata": {
        "id": "8lNPhB28EcGd",
        "colab": {
          "base_uri": "https://localhost:8080/",
          "height": 965
        },
        "outputId": "401e4fd8-c770-437a-dd2c-80a6d109f409"
      },
      "source": [
        "def get_random_policy_dataset(env, n_samples):\n",
        "  \"\"\"Get a dataset following a random policy to collect data.\"\"\"\n",
        "  states = []\n",
        "  actions = []\n",
        "  rewards = []\n",
        "  next_states = []\n",
        "  \n",
        "  state = env.reset()\n",
        "  for _ in range(n_samples):\n",
        "    action = env.action_space.sample()\n",
        "    next_state, reward, is_terminal, info = env.step(action)\n",
        "    states.append(state)\n",
        "    actions.append(action)\n",
        "    rewards.append(reward)\n",
        "    next_states.append(next_state)\n",
        "    # update state\n",
        "    state = next_state\n",
        "    if is_terminal:\n",
        "      state = env.reset()\n",
        "\n",
        "  dataset = (states, actions, rewards, next_states)\n",
        "  return dataset\n",
        "\n",
        "def get_uniform_dataset(env, n_samples):\n",
        "  \"\"\"Get a dataset by uniformly sampling states and actions.\"\"\"\n",
        "  states = []\n",
        "  actions = []\n",
        "  rewards = []\n",
        "  next_states = []\n",
        "  for _ in range(n_samples):\n",
        "    state = env.observation_space.sample()\n",
        "    action = env.action_space.sample()\n",
        "    next_state, reward, is_terminal, info = env.sample(state, action)\n",
        "    states.append(state)\n",
        "    actions.append(action)\n",
        "    rewards.append(reward)\n",
        "    next_states.append(next_state)\n",
        "\n",
        "  dataset = (states, actions, rewards, next_states)\n",
        "  return dataset\n",
        "\n",
        "\n",
        "# Collect two different datasets\n",
        "num_samples = 500\n",
        "env = get_env()\n",
        "dataset_1 = get_random_policy_dataset(env, num_samples)\n",
        "dataset_2 = get_uniform_dataset(env, num_samples)\n",
        "\n",
        "\n",
        "# Item 3: Estimate the MDP with the two datasets; compare the optimal value\n",
        "# functions in the true and in the estimated MDPs\n",
        "\n",
        "# Ground truth\n",
        "# Parameters\n",
        "tol = 1e-5\n",
        "gamma = 0.99\n",
        "PI_policy, PI_V = policy_iteration(env.P, env.R, gamma=gamma, tol=tol)\n",
        "\n",
        "# We introduce the N fuctions, and estimate P and R\n",
        "N_1 = np.zeros((env.Ns, env.Na, env.Ns)) \n",
        "R_1 = np.zeros((env.Ns, env.Na))\n",
        "P_1 = np.zeros((env.Ns, env.Na, env.Ns)) \n",
        "\n",
        "for sample in range(num_samples):\n",
        "  state = dataset_1[0][sample]\n",
        "  action = dataset_1[1][sample]\n",
        "  reward = dataset_1[2][sample]\n",
        "  next_state = dataset_1[3][sample]\n",
        "\n",
        "  N_1[state, action, next_state] += 1\n",
        "  R_1[state, action] += reward\n",
        "\n",
        "# In order to deal with divisions by 0\n",
        "with np.errstate(divide='ignore', invalid='ignore'):\n",
        "    R_1 = np.true_divide(R_1, np.sum(N_1, axis=2))\n",
        "    R_1[R_1 == np.inf] = 0\n",
        "    R_1 = np.nan_to_num(R_1)\n",
        "    P_1 = np.true_divide(N_1, np.sum(N_1, axis=2)[:,:,np.newaxis])\n",
        "    P_1[P_1 == np.inf] = 0\n",
        "    P_1 = np.nan_to_num(P_1)\n",
        "\n",
        "hat_policy_1, hat_V_1  = policy_iteration(P_1, R_1, gamma=gamma, tol=tol)\n",
        "\n",
        "print(\"\\nOptimal policy wrt estimation using random policy dataset\")\n",
        "render_policy(env, hat_policy_1)\n",
        "\n",
        "print(\"\\nDistance to the optimal value: {}\".format(np.max(np.abs(hat_V_1 -PI_V))))\n",
        "\n",
        "# Same thing with the other dataset\n",
        "\n",
        "N_2 = np.zeros((env.Ns, env.Na, env.Ns)) \n",
        "R_2 = np.zeros((env.Ns, env.Na))\n",
        "P_2 = np.zeros((env.Ns, env.Na, env.Ns)) \n",
        "\n",
        "for sample in range(num_samples):\n",
        "  state = dataset_2[0][sample]\n",
        "  action = dataset_2[1][sample]\n",
        "  reward = dataset_2[2][sample]\n",
        "  next_state = dataset_2[3][sample]\n",
        "\n",
        "  N_2[state, action, next_state] += 1\n",
        "  R_2[state, action] += reward\n",
        "\n",
        "# In order to deal with divisions by 0\n",
        "with np.errstate(divide='ignore', invalid='ignore'):\n",
        "    R_2 = np.true_divide(R_2, np.sum(N_2, axis=2))\n",
        "    R_2[R_2 == np.inf] = 0\n",
        "    R_2 = np.nan_to_num(R_2)\n",
        "    P_2 = np.true_divide(N_2, np.sum(N_2, axis=2)[:,:,np.newaxis])\n",
        "    P_2[P_2 == np.inf] = 0\n",
        "    P_2 = np.nan_to_num(P_2)\n",
        "\n",
        "hat_policy_2, hat_V_2  = policy_iteration(P_2, R_2, gamma=gamma, tol=tol)\n",
        "\n",
        "print(\"\\nOptimal policy wrt estimation using uniform dataset\")\n",
        "render_policy(env, hat_policy_2)\n",
        "\n",
        "print(\"\\nDistance to the optimal value: {}\".format(np.max(np.abs(hat_V_2-PI_V))))"
      ],
      "execution_count": 10,
      "outputs": [
        {
          "output_type": "stream",
          "name": "stdout",
          "text": [
            "\n",
            "Optimal policy wrt estimation using random policy dataset\n"
          ]
        },
        {
          "output_type": "display_data",
          "data": {
            "text/plain": [
              "<IPython.core.display.HTML object>"
            ],
            "text/html": [
              "<video alt=\"videos/gw.mp4\" autoplay\n",
              "                      loop controls style=\"height: 400px;\">\n",
              "                    <source src=\"data:video/mp4;base64,AAAAIGZ0eXBpc29tAAACAGlzb21pc28yYXZjMW1wNDEAAAAIZnJlZQAAMQJtZGF0AAACrQYF//+p3EXpvebZSLeWLNgg2SPu73gyNjQgLSBjb3JlIDE1MiByMjg1NCBlOWE1OTAzIC0gSC4yNjQvTVBFRy00IEFWQyBjb2RlYyAtIENvcHlsZWZ0IDIwMDMtMjAxNyAtIGh0dHA6Ly93d3cudmlkZW9sYW4ub3JnL3gyNjQuaHRtbCAtIG9wdGlvbnM6IGNhYmFjPTEgcmVmPTMgZGVibG9jaz0xOjA6MCBhbmFseXNlPTB4MzoweDExMyBtZT1oZXggc3VibWU9NyBwc3k9MSBwc3lfcmQ9MS4wMDowLjAwIG1peGVkX3JlZj0xIG1lX3JhbmdlPTE2IGNocm9tYV9tZT0xIHRyZWxsaXM9MSA4eDhkY3Q9MSBjcW09MCBkZWFkem9uZT0yMSwxMSBmYXN0X3Bza2lwPTEgY2hyb21hX3FwX29mZnNldD0tMiB0aHJlYWRzPTMgbG9va2FoZWFkX3RocmVhZHM9MSBzbGljZWRfdGhyZWFkcz0wIG5yPTAgZGVjaW1hdGU9MSBpbnRlcmxhY2VkPTAgYmx1cmF5X2NvbXBhdD0wIGNvbnN0cmFpbmVkX2ludHJhPTAgYmZyYW1lcz0zIGJfcHlyYW1pZD0yIGJfYWRhcHQ9MSBiX2JpYXM9MCBkaXJlY3Q9MSB3ZWlnaHRiPTEgb3Blbl9nb3A9MCB3ZWlnaHRwPTIga2V5aW50PTI1MCBrZXlpbnRfbWluPTUgc2NlbmVjdXQ9NDAgaW50cmFfcmVmcmVzaD0wIHJjX2xvb2thaGVhZD00MCByYz1jcmYgbWJ0cmVlPTEgY3JmPTIzLjAgcWNvbXA9MC42MCBxcG1pbj0wIHFwbWF4PTY5IHFwc3RlcD00IGlwX3JhdGlvPTEuNDAgYXE9MToxLjAwAIAAAAXsZYiEADv//vBuvgU0apUrs/o0E9i+dz9TQG5F3NmgpKyheVSoEmNHtAAAAwAAAwAAAwAAMy8bycOw6DiWzoCDbFB9AAADAAADAAmwsWAAAzIC6ASUCX27UGAAE3DT9l1mQks+eZDr4pApCNqIH9YxsLqB2pa7kCwsoiqL/YtoKKeh1ucjswsfS378zIR7xfkrON+FXuFqKd0213NT2ypIG4IQH4uhlGCviioltTRRKRC7gMddnkfAoyGICmlQUSBM2PseAoDbBELLTP35vmNzILQL8LAyAsDSCwNyoBEsIHfUAkGED9qAUPCCI1AKULBFcIIvhBF8IJHitdhd/IDdDde+cMPDMsHv1LEOapvQpDBbP81vxnPYT/wCvQhdir33RHoMOQ4u9K2eFTD6fy8UEVXkDrmLwdPDadiVYt/5qY6NH90tsQX+/xDQK/vSIXOrEbaCLM/Da5SFh6yryNpInM07DUo1JLKLJ2o7Whrp6YL0nYl8HwVnHioNsQsYtHlkmCKXSKQwME7u+x2Spe7aN45cmMsyb6ZdhdAwgpt6rblw3CK5xUBMlBjhjX9tAGo6rzi8DnRn3rwz9a9pzrQVMUwgIxY4cwh0y6rpKI18LV+jRZXdnj06zThmYNPs7uPebwlHOk1fpTWYvj1bZ77oXp68yf4/Psp8Q6p48wvpzzU1zIlyP3fUQYn2Ii/N2nO5fQ36pgsJKL2LecWrtzYTA8GUnQxfrxVC0y4pA2VSnc4NTeVCoZxPuk8ELyXEgXw6XDtVIW1tMAHF6FDjT5NIaWRq7mUH/zskQWnVgLIVqWgCyLa52M7nwVcVTAmaFdBqpD+Lg43NCvei8MU45IMxv+1wAu9SVfXrbzhFxWytBbwxfRF9SpsMKna0M2OjGBJpeiDb3nan5yBZ7vkYGnATmcARhISWfpjjaM3SBWz/yMEKhMPPOB24eC9gsdOogoc7/k472r3d2i2Lnbez+3XzsELiWICyDPW39a/08jP6CBBegVLDwJXxQdifU2YDH27VpPWlGD7ddfEIGjQLKC3zLBWra1lT9iBv/ZNaL2ONRlu4yaX7XS/QN0Ozag5Lebojx/AVZBGKdb/nlIr5aHu8hwjDnmNGOvkBG5lUoqc2W+8w1Escdp06j9iB9vK1bXcGUrDfwQAs2ieRavecp2gsy/OTIicsLGE4niHF1JRG+P+FXCTDv+Lz91D75H63CUVQ73fbFEnwSDla258ADwHPHmvYwSUp8w8xTOmhQ3ox04by9vy/F1MXj/cDUMooFmS8S3magBccvaAVuzOfKavZNFkHrnCSjwLbcfjNkA0XsC7u9UxSsUVWmx5Qv1F60Og/Lbq0ZF7kG/wTtauABINWsrY6IgskNj7yttw/OjzL/bWobW5HGQBd3NvDcBuMdlhslVUHkMwAUHzQnqFLpVfoUDuqCgNexPtq3iKm3L7XVUiijyc1GHzKL63REE5LCLxNuylGM9uHmzHingZw6eYPY3mNW4IoUpoiDXrpjirqb2iJVAwFBKjtb55Kvc4Ya0iFLedouodN2D/8qbIhoa//37tei+6CtLdqNbi7nhPp0ViKFqfiuD/oNRYoj6nmYVcA/48qQ0EpBDSyOR7Cp6+kh+pk4TspBXOdM3CyGPEfQJp3iDe7pbQAVZ6OcL6j7SN3bnH6xQKdcv4zMMl59JcdzH+9/aB32l/dGJimVc13a+0mtA2JnkDWlPnn0MDMwQabTAhqvisktmXTxeVphpV1KlfpN10J0Jvdju1csRb1TDr8JtAgK6MKhorDYN7kPA+a5YujWNS4bJT+n3qzlw4YO1dANWVoJSO0ZHDd8jVmvb1B8oAuVWQnsgV42hgICIMwx2//eaDT6fP8b972NwlX4zeO0h26+JtvGOEsl8yeePZqM8PEgMhHn1S0Fcz8Dpiub+JWAKe7dTLyKqeM+OaGj/nkfqCAJpNp8KWXSmkzehdGtmuL6b69tuwAP8/ZEFXQUpNxOcXbF1OTakRAlAADzVrSJydmbJcSt4opIQAAAldBmiFsQ7/+qZYAAAMAAAMAAAMABMfkob9M50Vb63K/zMeAgCgyiUKsNU+CmCwy7MFJ/AY6TOiRwagwQ6Lw31w5Xan9rJdxG9oVC/MOALxffiV+tqK1N3hsfk2Ebm95MG0VAsdnVS5082fzXGqW7VTbHmdIllVIt8s3A5DZk7DVvsYQXEIV0mp8hXFZD0xKFpVDxslho88aNWrlpzBBg0NC7ciLAk0AZOATGGHo4+Y+YiUzUszVSarrX9X4fQ6iYn/5mrO6FjW+bwb0NJs99ayxjR+1eHDoay4xzp/j1o+DTdvMRDBnfO5bSH3HVDEzcxBSU85VkOv6Rwv7rqgXPBbQjArtH9PWGJYNTcPpyzIlwsqQO+czNfmazS5yeTU+spbyAmhfsL5YUpn18tKogB5DbbyjgVNFRU7EVjwn5QMGDQXldSuziggIKl4Ja/7aYwS3r5PuqAOuOyJrUKo5mt4fFMhzPR8lrjLcqZ49uNw+/Oux35yVOfvFFMDs6ERfejFj2qejpNOzrdPc//jjEMCSVAv1sz3rvbWk2hCoZgX07LeJRddb2meY7Eho6hwX4gxY2rawstuIUrbEctPACs6VAbbVCh19Dm2Q3B9eM57a1kUiJbQx3Se7HTeObnDcbr+hFjwkS0zfg6JlQ3kIQGuMwO+j91e93f6Ad7RAPpO8qjA1437mnV9bsWcpFli+r/yFw5YERQIOrEYmv1ldFLV9mzMOXyeBO9uBUoUlVk1P2EYlDKwZmTjGD+cFYiSgv9X/GqgJZXO0ChmZma/3OkFlakODBBxfIAAAAixBmkI8IZMphDv//qmWAAADAAADAAADAAPr7cBKy6PRVv4qdl8CbV0BDL1a+pbSa5l8UL+YUukwd12jU/W2p2eqnHLb2hUL6e0lW6/BlD02cBV11JXeLGb5qZctfaknAUX2mAJuM4FAIho+Kel4TsLlxp7SaFOkmJqJcBpnlUS8GGMdRWUNTPQablnifGOI3a0/VfwiUtYKmQKh8QJ5+fGjae5paGLiWIYn8co9FCYR92upL+dysWTfjLMEVRLrDWLMTsMfOIthyCB9RIHtutY6etYqM2cPAz6R8cs+c1n/fElz1IBCDTO2W7J3mzgC23qIPOcQsurpAzGCe9CTgdJR741XF6d5Gj6B8MAADdnoSh23CxhsSFRXTf93rAjV+qUZteKiWKFZWvzzT9LQFYYbzRRTafZa8f4Tz9cYOCKRP1QZ+fLe2PU6Z4GdZncmi5r226Uc2bBIuQqoHk+LQ77ltiYmbwwX0JIdUJ/x2KuTZ9rGH+BhKl0Hb9zcUxlUZ5rOkzCwY6Ec6OiaqohNLrLLkB/asNxblPZdz+DQSvokab0ep7wA1rsGCe/6BMiG55KZA+Q4HkE5hzB7XfV1FYDjRGAKNTTWRydaKxZ5Fpp3HcCj1ns7PRX6GmiUi16+5bsdcI3OkE03shBzefILPRsLwYwm6eTJM1Z+alYnEL9U3H4jI2I9dXUufhTMYIQ+fI6qHIZXizGulgiDA3fi11lFKxzmPpyN1aF/pABBAAACDEGaY0nhDyZTAh3//qmWAAADAAADAABoNn5WZC5oD0AEqkAX29YZP12EFLNjYTbbsB4W4G5nojBluZHaGHqJ5T8sA8WcsRz8VVULsQ7UMa3gqB+LMlt7drFsy1iOTugAcNfaBsCg+Svka6OaXBOSc2Kn7AnfFJbQ12p/aYO0paRwImVr6mbalSeOyBUDBN/q8hrpMvPHk74IumAyqGC52Y+qYHtbNGkH/XQKBzrMJRZO8yVjaz8ad/XId42Hg6pCmqs0wrHLHze759rxEdvp462vQ2YNrJNN12H8aIH4zpQ6cgXQv/BDatBx8rpcs3A3+ORlu7xwbQiVZO8mvo/6WyYc7mkbcQ5s5Hp5K7TI9y4pVJLszSxSObmRztQLEznS8Eb2XdgOViBdIiNtDv7TKIsq6v+ZvvRL0X3ZADUFz+KU7frcGkD5192+Gx8vKp5aKe20HM4jEowFnZXQRIJ2uqGhVnSPqWvV8B3nBfas6dPusqbzL0Coo6U25hkeFjlZ8HaU+lXuZIs4z3wtPh2kvXk7rVojgg/8EiavDL4r/FeVDqdKgvvSkV/zbz39juw245ZBvCuI9s4kC3Ol5DG7useD7l68pPcmmwOz0JshsWtMDzecMqn5b7YFSfPB96RarueCBofqvoPU6l8MfBsreFsdCG+7RjDs6EazU/cRi7M10lG56KABjlRj8uZgAAACAUGahEnhDyZTAh3//qmWAAADAAAMts/JzKRg0sAJVE9fc3VvZH9VsnnYCqwuoUNiWaH7IA4VviJBhZ0NT/8ydILReXbR0MaZMmPjSPW/moLFjXGLOkV3tYFfpUJIdmP038xtk9ngvclzOlSdT8UqTBf6jBKbN5VAkxPdzx01A4G0dZ3mQl+1L2WhWUyiw+AC9govhYSqTNJj/pNgMyxxWrt0MC0BC8kb53kEoTLWEj+2xWIU2BkzwWpwNLmyuA9o9Ih08M8cNZrgVLeV8eaSN9GIAWkjf+MqDVqoX/opFfhARM/j/dWWf3d0Nld8dh5mDirdFodHOO7yZc2CB7iCeELPIGH0sSAF1kV02J5Bu6gPo+Chp8SOYX9hUyCvox/aYyORKZ1pnnBZ3/oe2An53gbYE9V4j4C06rUB5IMZQIwDsQkQJdsS04XhFNbem+lj3nCc13Is3olJpMjWwCFI/pBQPeAEofyUiMsfkyx4wWSdQy0XlZ/EKc01lPGo2mOKs2/Scs/VZICx2pHsL236pHV3p5ABAPgVJssBFSI3KvUsYLEk+vmoScBxSVT3FwbxGh/VNyFDa5H0AYUNQEj9LvexhpbCy2tK0QLTtSKNm2ae3pho/X9aGOGeO1hQjiXgAzeUeV657EN9mDTw0qs2P1PC/DMcku+LVM6gGyoP78AKaQAAAgxBmqVJ4Q8mUwId//6plgAAAwAADQe3ASaxyAN5ScRfGrfPMLUwK4hQgelkNU+CmK0EVSZZsMHQ0wDKFz0KqU97kV/LdY+6V6a1cctU1r/hsQTwUGP9KYuonaMrLv3Hh6ydGkprvli3b3kzTX1cLgg/JcUBC52PXlqlxwMrY1ymWU4G9aTN8RugtwXqAJNMbqh5uhwHXO4bnGE182KaCK1hYdnY9knsAfeoZ3gAThJ7BD9PhD2eXux3IAeYAVcnX5CMWIGdyvMAnLOGtXWSGu44qGobcdJUmXGW4I/q3mU0ATC8qS1Ut0t0okmFQQezj/h+/va2zS5HuZVDGg9zFxv1FUpUTfnVk4nPwxyFn5zKJJVTWC4Ym2JKf4JNU7tuL4a8PgoV7jpPrEyg2Mp0APUWgQAAKLrEOh0RgpxTOwBtjIBXM7XZwwF54Yv4zqXyVN3J2soF1HwRIP75WnXu4MFsVZZCt8Le8l1jKR0vkmM2SXoUAtsjbiGFefM4MSHx5EejYkw8wmbjm8RxhP+VQ2iM7JvsqwRFYw8d/oBXz+s3aiBYnPtsNYZmSoWZqtDhTPB4WOAFIzRvlqk6EgvTyx8AOBnY5nvJxMfRXNIHQP09ox9NPBJWZmtM5pCL9A6WW40/Yg28VTMkGJTlwj1K7RXkn/ecUbx0LvPvuW2qouRMqh7K/+ZZWVZ/wAAFlQAAAgZBmsZJ4Q8mUwId//6plgAABIDiaoA2yDSuMWIacXUY+gID5vzSgLafZk234hm/E+ZiWlDFhtk2CKQ5vELhp7i+Ra3lL1SI89Uh7+Wsxf2PewI9Lar7bLXLOPzLrqBbVbGA16C8IyJlYWzntTq2p2TSrEl9D6p7+z1nBP5VL5UKG0xBjGrlpbaDcKz2XePwyF3TEPrfL3lefjNjBwtVODQlCAmbM726lAPx2WKz65g/9RG4HfVjZwkhUykFkJlhkj4orxnJw0PlGAW6qLxSDPI5Dd/3NJlBvgfngD6yqvBpqc/2b88vd7Z6nA1vOO81YRCayJ8G1tYXSmFE8+KLXrOarJdbxtX502dh5Kz1N3kti7odIDQzx6zoG/tF0bNDGdz5eA9MIOdGq7ureCcPql7R8k8NAG9C3xsKEJUTbB5GN8OVBv/9Og2q5mUGInawOt6apAU5GAGjdsqoIafuKTzjM41HjnC9nA/Hi3AsmpNnI3yg4IQGA58e4l5l++mVnmLj42ggOgiYKH0DpKUQ+FwCsS/kB2z/ZE0kGPk2qmc+9g0kcBTWDhi9zeg34gjVlGN9BQkH94KWAoXdIW8XbFKgbdjSIczngrD8WBuMAp/99yAUTcGZAU0rGC/rhIIkpaXaUKEAmbYmmC2+0FPccL3CrtkZav4lWJAbJQFJSMD6awweUAABDwAAAmNBmudJ4Q8mUwId//6plgCQGvlADpWnwbbr2adqbq0ApfcA0WeyhqXF8VQaFtPfeBfxr309Z+IEDhGlqySXwcKGBjWVIWq1sGOCQ+Urmla6OPh1edRJ+W+Kcpsky9FiMcyoCF0jpFS1G67mKmEpjjBPJ/3z8nOKNDya3w60t2ODX7IEC8lDwn9fqNOU74JPxHzGWSR1Dp73faaDZXNScQMSbiPwApCUxgCt6eUbr2KyTlgKmSmiSF+tweIXXly+CRXyvdn8bDVvmdRrzG+ZIKudI5yjBlU8Wian1/YMBG5iLuHWpN0ACVyUtuv26lH9JjrztIyY6JhPnQkZCopPQATpz57CPWw4ZMvySAoGoMiXkZIVRuYWr3a5VGaBqCLdaormFdVQK8Q8ACJeVcouPI2Qa3n0jTmnMo2x4gWCmwdbSWvqoWF2UvegAfcWDOFJTD7Lq1RW8gOtz1UkjDcT7q5y7UNmSKpkr8jUKiW5NY2/6FVzVP33ppx+FLU+XPN964tIt6EPMj+W6xq9oGZJzcLyirTvhO+8oNs85lOKyAE7YhVoAmDahGw2CH6tU7eGuXvSVVnwc2/01vzMpC72UCYkdEHEIckn9BBFUg3mDdqLYcvE0P3hmRo576kHJh5nyZxVVZJTD1YAjxAAnoaJ2fZMFvUSsFFkVQG6Kq4+tG3UAbbzif5b7FEnAvA/UiS6fZVegF77W2TPIxO9OMB5gKyIwjvSZ8oZ461PBGFY9DdR9biGsifYds/vNYPVbq0MOzoTu3M2wPEC8LavZdgRlS1LNS0/6G82aq7PlV1OAAADAAAKCQAAAjRBmwhJ4Q8mUwId//6plgCQ/I60F93mCQC13QC+4OA20g2QN4GtilGBBzw/z/ZOsFmztUANP1jGQ/O8Y8AnuR+abaqQlGCM6vTmjTojBNxDpqcpLSBiUxzs4RFfqnEczjOpDIpvH09P75Fxdi3JTzUXh5wx94AkCgV14Tr+0y84U9cC5YajRuc1Ly48sj41Wf+2DXWFGOp/buVYVrnn/Z/8otsC7MaPpB+lD94dMqM6BpMzIHbPZ0hkEgW3l4LntmzjtJkRdhYcs1oEiHwxHA/68bDtD/fN8FKaBO2MzKszFFfrSNwrU7TRCax9zyjCwvzi1Vnt/xcTP1nu9XZDadNgTQ/oCq8D2NGZEReRNOCyrqE/3rXV999lH1stvFEH6JMVjJCXINlhMUlQWJ5OakHPH6MI4NxET4gFlo3gA7Fjmlp5f0+qTC158Y6q+cn9CxfRBFDHOEN8tKG/xeZiP1UAbHA/iJsVnThrknMslTMiGJBd8/BgAAMiZ9LH4a4MWTfnVxBG+mzrX3s2tkYCqD07CLih9oLgtKoCTVFx2lFUNgsfAfvLdEjNpOENTut3jiUScW5Y1kukHIboEaSv88IfwqGYkHgSvCjgtkckjHx1idOrdFMHwJe2YEIVLerU012Ytp5VSlV1kue28kfMxxh8f2Y1HHVFsrM7wuI6KsapxSmVPWgncKJ3efSzzogHU8st1xeZCQbW02RQqd34DcE8VsC1DNj1ZSLLrzgAAAMAAAMAAsoAAABGQZspSeEPJlMCHf/+qZYAkCpZXKN2z39+OSKfQyn1rNdQq+e/mC0GzUBipSFljOWgvyS7Q9jIeQ8GCHrmAAADAAADAABdwAAAAFlBm0pJ4Q8mUwId//6plgCQ/I60F94zLGtc6zVT21KqzssegBJpG8J5n4h1hGDZ7WYsDCtFtaYjeK7WbiVEBqqRyoJgBbGyOAyi2FAEhj58EAAAAwAAAwAD1wAAAEJBm2tJ4Q8mUwId//6plgCQKllco3bPf345Ip9DKfWs11Cr57+J4d9Gupc4TbxQCK2W1h6Rl5opnAAAAwAAAwAAu4AAAABTQZuMSeEPJlMCHf/+qZYAkPyUN+mc5+89jWudYynzTztZ2OMIWRH6xpnn/867/x/5JaaGVHTkLz8qlr45GrjCf8r3bdscOA+LLBAAAAMAAAMAA9YAAAIiQZutSeEPJlMCHf/+qZYAd/20C+EU1ZMgCMUGUShb8MEZ+M0KXJ3u9fnD9BUUewGMv5y+aj3/5lZRvnf/0Haf/Nb3XQHKbhZFgnISRQFucMoYlSPhzlzQQXRbIRi6p3RSOgGps4KpZnvsJDGygkmu/GZ9V33eCbi46yrCxa76PrQyjFIXGSsgfmDn6/RnhXYNg6KPADmCcX+iHdiLaUJXwZ0VbHxcdFPkoJ5MIuJ8PAzwoMCIYS6GXm0x7JOpvmo7ezK7+04c4bkb8s1QUAl9NawRLrCnOLLbp+7/jkc7OHXYQY4v4uqq6d8vDUNexHNXF1/86nWl5oBTYsFLVV7bbWwsA+KNYo5HKBgA9uuiTM3dB8NReNsuxCnYFKMVvDRgt7mBalFSvntnjsrwpi8FCnG3bBOdgjpVyA1ia0VHMSZ+1691rXu9JzFlSdApcoXRp8vaXnCp4AN8PYROI+q6rsF5T1Eg/J42v4GhBC6VjfGc32PuGtXOpNgsxZR44QaPuvK4VoPsZ0eTMVU8XBQi/2kQU5T6nWDAkZOSMbmnPUGI4GRgJvEaf613N13KYwBdqdpIlm9jjAXZPwrfYGouMOtsgkTLHWinPtgJoRxTgBYtjUXvefudhq28Km8Bx69KN5JKk1obXBkdM/nlF93cfoQCVgdMQ56pBP0sFQPwNHK1Il0RAIC4wE30GuZ60iTPx34s7lOACrmAAAADAAADABvRAAAAREGbzknhDyZTAh3//qmWAHdXQK5MO2fnWYnUkz9WHvGLuWOXIz3uYsv2jxfBGrIM6m9LnUepUBqu7XOcAAADAAADAAoZAAAAT0Gb70nhDyZTAh3//qmWAHf9uAlZdHlP0wgNYynwilImVifGOsTWzX1JnSU0YBDN3FPfNXElcz/qEqjkvAmzzb9tVQrGnNQAAAMAAAMAA3sAAAJPQZoQSeEPJlMCHf/+qZYAYz20HJEnUgmc8PDqJEqwkLVjUdxx2m1/ym7GYvee6gC13QC+wsQ04uox9APmJZgAySOkOadWYc+RQsGUx6B558D7b+ttF3NWD0QNWBm+Gtz6M6Vzn0BUIm2ZDJ3Sf4/z/ZIrOckDKkDwQIVb9PZNEVOrCJdr6oIlrr2f4asl1hWYQ7AvV/jxB8J5TzgxD8BYEZFyCmo/nhZChx+phUBelc0SwGCOSn/7iz9RyfygcSJGhv5U2+41N0lVc4M8Rbyx2KKA75hoKOoEniDtqP8ztnwl9d8giXcYJN5XqaCBd+oH3iqbjQBj/1bZbz9WWu98mYrL2oLE1ACB0Bcm6V/jwXs1QWD89LKM9O7nukOjKe0FdgGIOeP8aRIeo1TyOVAaEZ2cJzWZ/1ABFx4aim6mJO8FBZSNHvQedO/4gNLvE78ifVCBr8tBdcUr55WlMJl3hbnBIiexJUJ3/xgBh6bo936rNSeAf87zmlLza0aqnssKTp2cZKyGoF5WH1HgGEEp5BoMIg4TzUIvbxbpXiaafnFXh9SnS5qba18E3ZmK2ag9CtV6Q7bFd8vuooG3soGqvBT9sO5/XveIh4NZmn61piYM5hVWCMtsVeDtP3WF5502JEqK5ev08I0a3++QyOZr92oEYc05d9gQyykjIePkt+gSOmp9pty8l1gUzEJavt2mEv0yM3HvMSXIbfISVy18FYE8YqWE/u5V1XlwI3Mc+UsIjhBjSSukiIXxHjQLYZ/BGOo855KdfEkAAAMAABswAAACNUGaMUnhDyZTAh///qmWAAADAy3utP9OfpDBLrC2cLwQPpg13MrYxw0BlHTZwv/KqlAFQB312V52VkQ8OunWVkLDM1twD28R6cc5qUtd+Oqa4b0H71sb3wlvGYT06ryYDsuTy2DZefsG/OxXFFjoWBwJIzxJ5MTD6BO6mblDTvMTpEiOFLVA7Tff+ZisOhMTMbguIusbiewXI4ov/nkcpxsEIDUJ/OtBG33eSL1l/e9cgPzITHuAvGJPouwtR+qI3BJwr0yI0XgXj0vrj10RXXSV9Ag0GiQBGtvNNB2kGntQJdaEGoYnSddXgJ6tJVXOMX/VlUgTAOAAPPl9Jt7p0A+eEmjgL8h0G4MAnHY8EbCvUEzCJSZ2fiJoPMkwBOXzkVq5xl1MgdCcF/OYIlPyDBdzbd5IWFy3OdjxSK8Z4OJldJ0lOmFN09nxyuY+hbaR7JW4JMBvLAkPuV3gbZAJqUYJgvLaEbyrDHStID5IgXXXMCRVmEPPC9PiIhenbzYYuy0suSAV8YdAISL4Q7BXFHc0mCYhCTX/SpwqfinjalA/mEpSJ9y6ptJ8ty+gUrhNpIPWeK2oCdj7uSyOkFgxcy4pQHBxo35eCtSYDEv61z5sYGMYcu5z+pZCl4V0bGnqIAYsH1EWkOqQTa/lba05sWpOPvsztpE25cBs6qeh63GIy/4VEoR/ypq7wffV9iri0gxc15kbgveloe85mg2UZAFY6riuJ8/ltDOq22C2/3LREAAAXsAAAAI3QZpSSeEPJlMCH//+qZYAAAMAXjnnllaCPZDGhvGY9+4XghE7KABcnlSxmyHZmVNCNdca+CTXv7B+e0DfNX7X0dfM/NCID4bU+e7SxXPWAgOuAQAY+wXPgRNlEB1zedb3uHVrEwIhUoh7zlf5xBplK4cIdiMcr+eSGD1xMXIDAj0t8xo7fN7gMra2kY6z2SV9zMhrjOB5aG23KzvCfrE7XkSKQfDn4TTnxz6DdbuPh9LZdxVlNGRqp2cVfqpBsrXTF3iwQ84hYXfLyytq4+Ktkn9/P3qbe3To/O8/ZFgtjWzq9RQjdyz7EWj5z/heq3d5+PiyXTDmWMMubYRXPnVORA5Pr04a0umIfQbz7rFJNcFXSkUFI7bhiocIUKPUpTQdwTRECuWPnV6ynPn6n8q7YCnKDRcXvDRzJlZbxCFE0HBq6AAfaHPCx+h4DU2EcD1i1O3uBkKMlIEjQ3X7NHsnqECPiM2E6SDpSkL5ryh62hESziaVQjc1tAUUXH6HTndW3FO9aDOD02IsfrFabti0ClQfH8q7V+3+FVHlAVH7FoDqYoh7R7Qjl9gGhKA6qP4qvt2Nyo3kioaf5nx6k/LYeuGo8//OhwfICblnctWIj/8c8YGziDSOS6A6xry9onXLmuTZLPEn5zkWGf6WtvZMjmTWTB5kWrYC6hK2rg9z2853N638VBQr7m5+J9CJkzhh4iEWDfArCVxONOCQCb0YHQw/ZTCS/vvV1xaNfYtJsGO4CGNDzYC5AAACQ0Gac0nhDyZTAgh//qpVAAADAAAFm+L2hPt1jWavwELxGSFbKplyNQdQoIAC63+Jfq3d/C7EFwGF68lSNw7PDrpu7FIqI67wldHXBl+EuJLO11jY/YCUSgr9D4ynCRZySZOVG5Yowa3APDq/dYt3hODS8XlYDZw/KO2mHeFwnnuvbcQ+zdSnaWBmBl9Kw9WkcsFzEIzOj98cgigCgq7YNjVfjrtY9zsqfMgFMYeXBqPI+hL8PSNl01hcphR9cSs79JJipiJixqV/zr7gEd+ggB9rdSXLreOz2vXlCLKuU6xqEWex75mhTjzqI9kP2DlZcVobKV4QhVE4jpeQmOSU5W8nzy2kpwzWEOi5lCxlNAmEMTyvxQqg5xn1OwWYIILbTMbOusnW/mQsXcNcoxTJstz/pHOZtSKoumMOKR5BAzT/1Kp5ODtnuXQ1ThWIW8Joe5g/fpnc9P1VYkL6ocYkIi9z3iXo18QTa2yL9SNkfsX5L/RnlK3/315LNXQFB4ZrcWMbqXdLp3c+eDbOysbbyfku5I5rAUSIbi9mOT1cgsTZPF2nr9vk81Kkm15+LSgecIQOb2MundzVPMr7IScmc8WIP257343Ag4S/+lpSBA2+pWV+4o9NqLedJ5CfPzWBjIQ2N9EyrpsZOTneuva93EBY7Vq/df6ADJWbqIbQFx42EzGj+21UaASQ797KBPbXhaR3toatVf+zO2ARr2pCB/NR9Os+bVYniD7v26bX3oRS6Tg3oGJTmJaJGCHHKjeK2cgG9AAAA+NBmpdJ4Q8mUwIIf/6qVQAAAwAAAwAAD1bS/hb8GgYprAOH/fAxi1a8b/KqJZtMOJ+qyMarVVsl1S9/1B4JtR3mfD7E079PTvAMfAaqPsP+qIX2XiJuTVCSQkV/bvcJhBJ4uwz1M6NFptXN25q8aTm//n3MpXIrLcOPo6bDJQWFLoipUeSeoCCU13fA+s/2jP5u+nNdArtcpdP6n+WWisNpD1ntZCaUXkVpQX9ko6V5EeqDALHonxP3UkhTWl+i6x91F/UePhQpZrRBxy5gKjYsKkGg7tn3zuKK6X6bs3goY093JJBu2gdSkaOY+JOp4d+ZwqCcGIq3TerQTO2NYdeaQZBAus+3FD/IOELo28JY34CjQgNzsXlWuVmCbE5eF0MEX0G6mGLOw0112YV7qrszPKGJz0rvRiDymNdoFNfnnChHf//gpDKzngLTkm6UvZ4AEnCQod3upqg9m9aT22EbNqjf68V4uQSnHtDppHeNZpdogUa0vG6HjJYc6LoHqFIPgXQWhACmE7iA5LZAgoQVsQKVvaOmm7YecDyghcacxE3tayP+xIKOWAOxlCC6ek6OgMy/FnaIQt72pk3domX/mHXmnAHpGlWkZEQgouBHkr52QmkGvpXuLIlhVxyK494EU2JjUtVdwAwgUlzYb8DtsDkGGUxNKa2ThhOk2yNFJfF9sZEFsn27Q6/nAsuJJhASoC667sDiHSX1UYPhZI6T4viIr5DKjtT9nL9HNeh2LQfVCQlNL9Yt3/BxnM/tq/bVMNf4I9rMi9K6oG9Oxe1TKaB4oTFGNwm8PRJYTiRd6iXGe6+QzoGBhqMwyHklWs3Q7O0JLwcBruhkhk/CtQIU9HiJpoUINIM0WLGLMGHlk+o64daTGp1i6k+koUJFQ1GrEr3avIDb6QQ0OtQYa81//jl3fEA/+/s3HHUPaR9DPMfY7oZXyo//Piikrc5Wcdr/FAg6L2cdetewcpPdmJ7j6yasEZUKNWbvHukec2GbIc8fO/I7vxi/DYSe8AAblhWCMMr/bTAMjAE1BM+QDLIYYSYhabjBc47itUVzQyAlQDW3NFmsSD0XJNNcibhJLX/ynURX20DO89PXQyK8ky/wa74+FB1ZVZfQD/9XZ98QRCl0x8NzIDTMRuqhdefRj7BzAvfswWeKpFEjQsiX5XM2+7PhPsQCgA5Z3N/toWsJsuN474Eez1miKl/VT8v4i/58JHGCEicO7m8nBTrJiTk6de1jIjUoDUH1Efn8mnxMzFQML5cnqvI1tK0LMIaiwvyYBzd/I5955MUj6VhKfbzAQi3qddkDV2fNC9jXBHnui7BhQAAAAC9BnrVFETw3/wAAAwAAH31PloaBDZ+5cjxtZL51N7DuwyQhJOMybDHhl+yDAABSQQAAACkBntR0Qv8AAAMAADX9+5gGH0ESiPxmOCyWA0HfcvD9olH2rjnnEAAD1gAAABYBntZqQv8AAAMAADYKb5gAD4puxwJPAAAAZUGa20moQWiZTAgh//6qVQAAAwAAAwAADvZLSABQtep9BfDDg4xlIWtXXQHhxhZZ0SLdmL7D73ttrogOQHx160R/fiM4+hFNM3AuWcMkbpHmxQrHLMbVW6oXFHKQfnLhVS7k2k0zAAAAH0Ge+UURLDf/AAADAAAfxSpygBqNg1H9I25QbJlwJ2AAAAAcAZ8YdEL/AAADAAA1/fuYAbnQR1QEeMgdZjgTsQAAABYBnxpqQv8AAAMAADYKb5gAD4puxwJOAAAAJEGbH0moQWyZTAgh//6qVQAAAwAAAwAAAwEgPrlAK1kFuAAd0QAAABlBnz1FFSw3/wAAAwAAH8UqcoAA7y95HAk5AAAAFgGfXHRC/wAAAwAANf37mAAPhbGOBJwAAAAWAZ9eakL/AAADAAA2Cm+YAA+KbscCTgAAAB5Bm0NJqEFsmUwIIf/+qlUAAAMAAAMAAAMAAAMAJ2EAAAAZQZ9hRRUsN/8AAAMAAB/FKnKAAO8veRwJOAAAABYBn4B0Qv8AAAMAADX9+5gAD4WxjgSdAAAAFgGfgmpC/wAAAwAANgpvmAAPim7HAk4AAAAeQZuHSahBbJlMCCH//qpVAAADAAADAAADAAADACdhAAAAGUGfpUUVLDf/AAADAAAfxSpygADvL3kcCTkAAAAWAZ/EdEL/AAADAAA1/fuYAA+FsY4EnQAAABYBn8ZqQv8AAAMAADYKb5gAD4puxwJPAAAAHkGby0moQWyZTAh///6plgAAAwAAAwAAAwAAAwCZgAAAABlBn+lFFSw3/wAAAwAAH8UqcoAA7y95HAk4AAAAFgGeCHRC/wAAAwAANf37mAAPhbGOBJ0AAAAWAZ4KakL/AAADAAA2Cm+YAA+KbscCTgAAAB5Bmg9JqEFsmUwId//+qZYAAAMAAAMAAAMAAAMAmYAAAAAZQZ4tRRUsN/8AAAMAAB/FKnKAAO8veRwJOQAAABYBnkx0Qv8AAAMAADX9+5gAD4WxjgSdAAAAFgGeTmpC/wAAAwAANgpvmAAPim7HAk8AAAIYQZpSSahBbJlMCF///oywAAADAAADAAHU4Tprvjl/HRWCxWuQ7ucVyuwdWU8N35azg0XkoAWCi4q4IeTe+n65mSjcAxglcabeyXKNnXgLD+NgwWIJKtJwZcnrn7swK9EvGxfbiRKzascRHMHlwr2aM49LcKAHdDDgpcZTTQNbJes6uRRxEOnIKWmwO2xz92XohPmRNrNRmF/uBw8j3d2AecxPlvd7DAEvz1R1k0PYwoadkv8oy2Z3Q3nG4GlNbiYnowOS/4zUvowT40FmQjalZQWP2hfcLj4IGV5VLZJS1vemft/VmQjR3dlAIW84sK1lrwjHiiPsSSYYj/8NEcr7UbB2Peayi6wbmLNMYd7ayoKOP66Ujn+8h/8H+z6nkVCoF3pCyUTnZO/aeK6rsFfa99AV2j2VOjvvCvUMetjMDTWIeci83bo+UY7LUiLlEb4OvfSyL/i/gtb8prO/LeVkmgQEMCxs0ZxfGceh4zeYG0EhNWmi72aN09+MX1+xurp2/BnbiCjjk3lvEjv53ruAwbYWSEv7Q5ujANn0wwRhsdOW1agV1fVdKJk7eRCySfMQTYRs9YqMroKd2fqGlcyl43EP0CUCsd5AtU5LsiTkMSHjIiZRAz4AQIGVphT26y52+nTg9Dd32+dsKf/A5j8c5JnHx03iV8OmUaIDefCHmIvYxeaxb+KVhlRPNAKOSMIWvkYEFcMFma0AAAAuQZ5wRRUsM/8AAAMAACfU1FgBUH1xxvb6Yeyo17eKzXanlgchvixX2CEnoQQFlAAAAC8BnpFqQv8AAAMAADYKb5gGITUrI/EKD4GREnOHq8YaaJHzYv77/WpqHDVwgUUWUQAABNdtb292AAAAbG12aGQAAAAAAAAAAAAAAAAAAAPoAAAn2AABAAABAAAAAAAAAAAAAAAAAQAAAAAAAAAAAAAAAAAAAAEAAAAAAAAAAAAAAAAAAEAAAAAAAAAAAAAAAAAAAAAAAAAAAAAAAAAAAAAAAAACAAAEAXRyYWsAAABcdGtoZAAAAAMAAAAAAAAAAAAAAAEAAAAAAAAn2AAAAAAAAAAAAAAAAAAAAAAAAQAAAAAAAAAAAAAAAAAAAAEAAAAAAAAAAAAAAAAAAEAAAAADIAAAAjwAAAAAACRlZHRzAAAAHGVsc3QAAAAAAAAAAQAAJ9gAABAAAAEAAAAAA3ltZGlhAAAAIG1kaGQAAAAAAAAAAAAAAAAAACgAAAGYAFXEAAAAAAAtaGRscgAAAAAAAAAAdmlkZQAAAAAAAAAAAAAAAFZpZGVvSGFuZGxlcgAAAAMkbWluZgAAABR2bWhkAAAAAQAAAAAAAAAAAAAAJGRpbmYAAAAcZHJlZgAAAAAAAAABAAAADHVybCAAAAABAAAC5HN0YmwAAACYc3RzZAAAAAAAAAABAAAAiGF2YzEAAAAAAAAAAQAAAAAAAAAAAAAAAAAAAAADIAI8AEgAAABIAAAAAAAAAAEAAAAAAAAAAAAAAAAAAAAAAAAAAAAAAAAAAAAAAAAAAAAY//8AAAAyYXZjQwFkAB//4QAZZ2QAH6zZQMgSfuEAAAMAAQAAAwAKDxgxlgEABmjr48siwAAAABhzdHRzAAAAAAAAAAEAAAAzAAAIAAAAABRzdHNzAAAAAAAAAAEAAAABAAABCGN0dHMAAAAAAAAAHwAAABQAABAAAAAAAQAAKAAAAAABAAAQAAAAAAEAAAAAAAAAAQAACAAAAAABAAAoAAAAAAEAABAAAAAAAQAAAAAAAAABAAAIAAAAAAEAACgAAAAAAQAAEAAAAAABAAAAAAAAAAEAAAgAAAAAAQAAKAAAAAABAAAQAAAAAAEAAAAAAAAAAQAACAAAAAABAAAoAAAAAAEAABAAAAAAAQAAAAAAAAABAAAIAAAAAAEAACgAAAAAAQAAEAAAAAABAAAAAAAAAAEAAAgAAAAAAQAAKAAAAAABAAAQAAAAAAEAAAAAAAAAAQAACAAAAAABAAAgAAAAAAIAAAgAAAAAHHN0c2MAAAAAAAAAAQAAAAEAAAAzAAAAAQAAAOBzdHN6AAAAAAAAAAAAAAAzAAAIoQAAAlsAAAIwAAACEAAAAgUAAAIQAAACCgAAAmcAAAI4AAAASgAAAF0AAABGAAAAVwAAAiYAAABIAAAAUwAAAlMAAAI5AAACOwAAAkcAAAPnAAAAMwAAAC0AAAAaAAAAaQAAACMAAAAgAAAAGgAAACgAAAAdAAAAGgAAABoAAAAiAAAAHQAAABoAAAAaAAAAIgAAAB0AAAAaAAAAGgAAACIAAAAdAAAAGgAAABoAAAAiAAAAHQAAABoAAAAaAAACHAAAADIAAAAzAAAAFHN0Y28AAAAAAAAAAQAAADAAAABidWR0YQAAAFptZXRhAAAAAAAAACFoZGxyAAAAAAAAAABtZGlyYXBwbAAAAAAAAAAAAAAAAC1pbHN0AAAAJal0b28AAAAdZGF0YQAAAAEAAAAATGF2ZjU3LjgzLjEwMA==\" type=\"video/mp4\" />\n",
              "                 </video>"
            ]
          },
          "metadata": {}
        },
        {
          "output_type": "stream",
          "name": "stdout",
          "text": [
            "\n",
            "Distance to the optimal value: 8.805868081057003\n",
            "\n",
            "Optimal policy wrt estimation using uniform dataset\n"
          ]
        },
        {
          "output_type": "display_data",
          "data": {
            "text/plain": [
              "<IPython.core.display.HTML object>"
            ],
            "text/html": [
              "<video alt=\"videos/gw.mp4\" autoplay\n",
              "                      loop controls style=\"height: 400px;\">\n",
              "                    <source src=\"data:video/mp4;base64,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\" type=\"video/mp4\" />\n",
              "                 </video>"
            ]
          },
          "metadata": {}
        },
        {
          "output_type": "stream",
          "name": "stdout",
          "text": [
            "\n",
            "Distance to the optimal value: 1.604379168231035\n"
          ]
        }
      ]
    },
    {
      "cell_type": "markdown",
      "metadata": {
        "id": "UKINsa_yGLGL"
      },
      "source": [
        "## Question 2.2\n",
        "\n",
        "Suppose that $\\hat{P}$ and $\\hat{R}$ are estimated from a dataset of exactly $N$ i.i.d. samples from **each** state-action pair. This means that, for each $(s,a)$, we have $N$ samples $\\{(s_1',r_1, \\dots, s_N', r_N\\}$, where $s_i' \\sim P(\\cdot | s,a)$ and $r_i \\sim R(s,a)$ for $i=1,\\dots,N$, and\n",
        "$$ \\hat{P}(s'|s,a) = \\frac{1}{N}\\sum_{i=1}^N \\mathbb{1}(s_i' = s'), $$\n",
        "$$ \\hat{R}(s,a) = \\frac{1}{N}\\sum_{i=1}^N r_i.$$\n",
        "Suppose that $R$ is a distribution with support in $[0,1]$. Let $\\hat{V}$ be the optimal value function computed in the empirical MDP (i.e., the one with transitions $\\hat{P}$ and rewards $\\hat{R}$). For any $\\delta\\in(0,1)$, derive an upper bound to the error\n",
        "\n",
        "$$ \\| \\hat{V} - V^* \\|_\\infty $$\n",
        "\n",
        "which holds with probability at least $1-\\delta$.\n",
        "\n",
        "**Note** Your bound should only depend on deterministic quantities like $N$, $\\gamma$, $\\delta$, $S$, $A$. It should *not* dependent on the actual random samples.\n",
        "\n",
        "**Hint** The following two inequalities may be helpful.\n",
        "\n",
        "1. **A (simplified) lemma**. For any state $\\bar{s}$,\n",
        "\n",
        "$$ |\\hat{V}(\\bar{s}) - V^*(\\bar{s})| \\leq \\frac{1}{1-\\gamma}\\max_{s,a} \\left| R(s,a) - \\hat{R}(s,a) + \\gamma \\sum_{s'}(P(s'|s,a) - \\hat{P}(s'|s,a)) V^*(s') \\right|$$\n",
        "\n",
        "2. **Hoeffding's inequality**. Let $X_1, \\dots X_N$ be $N$ i.i.d. random variables bounded in the interval $[0,b]$ for some $b>0$. Let $\\bar{X} = \\frac{1}{N}\\sum_{i=1}^N X_i$ be the empirical mean. Then, for any $\\epsilon > 0$,\n",
        "\n",
        "$$ \\mathbb{P}(|\\bar{X} - \\mathbb{E}[\\bar{X}]| > \\epsilon) \\leq 2e^{-\\frac{2N\\epsilon^2}{b^2}}.$$"
      ]
    },
    {
      "cell_type": "markdown",
      "metadata": {
        "id": "fKmdulLaMoiN"
      },
      "source": [
        "### **Answer**\n",
        "\n",
        "We will use the lemmas without proving them.\n",
        "\n",
        "For $\\delta\\in(0,1)$ we may rewrite Hoeffding's inequality as:\n",
        "\n",
        "\\begin{align}\n",
        "\\mathbb{P}\\Bigg(\\Big|\\frac{1}{N}\\sum_{i=1}^N X_i - \\mathbb{E}[X_1] \\Big| > b\\sqrt{\\frac{\\log(\\frac{2}{δ})}{2N}}\\Bigg) & \\leq \\delta\\\\\n",
        "\\mathbb{P}\\Bigg(\\frac{1}{1-\\gamma}\\Big|\\frac{1}{N}\\sum_{i=1}^N X_i - \\mathbb{E}[X_1] \\Big| > \\frac{b}{1-\\gamma}\\sqrt{\\frac{\\log(\\frac{2}{δ})}{2N}}\\Bigg) & \\leq \\delta\\\\\n",
        "\\end{align}\n",
        "\n",
        "Now let's use the first lemma,\n",
        "\n",
        "\\begin{align}\n",
        "||\\hat{V} - V^*||_∞ &\\leq \\frac{1}{1-\\gamma}(||\\hat{R} - R||_∞ + \\gamma ||\\hat{P}- P||_∞ \\sum_{s'}V^*(s')) \\qquad \\text{and} \\; V^*(s') \\leq \\frac{R_{max}}{1-\\gamma}\\leq \\frac{1}{1-\\gamma}\\\\\n",
        "& \\leq \\frac{1}{1-\\gamma}(||\\hat{R} - R||_∞ + \\gamma ||\\hat{P}- P||_∞\\frac{S}{1-\\gamma})\n",
        "\\end{align}\n",
        "\n",
        "Now if we recall that:\n",
        "\n",
        "$$ \n",
        "r(s,a) = \\mathbb{E}_{r\\sim R(s,a)}[r], \\qquad \\text{and} \\, \\mathbb{P}(s'|s,a)=\\mathbb{E}_{s,a}[\\mathbb{1}(s'_i =s')]\n",
        "$$\n",
        "\n",
        "We may apply Hoeffding to both $(r_i)$ and $(\\mathbb{1}(s'=s))$ with $b=1$:\n",
        "\n",
        "\\begin{align}\n",
        "\\mathbb{P}\\Bigg(\\frac{1}{1-\\gamma}||\\hat{R} - R||_∞ > \\frac{1}{1-\\gamma}\\sqrt{\\frac{\\log(\\frac{2}{δ})}{2N}}\\Bigg) & \\leq \\delta\\\\\n",
        "\\mathbb{P}\\Bigg(\\frac{\\gamma S}{(1-\\gamma)^2}||\\hat{P} - P||_∞ > \\frac{\\gamma S}{(1-\\gamma)^2}\\sqrt{\\frac{\\log(\\frac{2}{δ})}{2N}}\\Bigg) & \\leq \\delta\\\\\n",
        "\\end{align}\n",
        "\n",
        "Combining both, we get to:\n",
        "\n",
        "$$\n",
        "\\mathbb{P}\\Bigg(||\\hat{V} - V^*||_∞ \\leq \\frac{1}{1-\\gamma}\\bigg(1+\\frac{γS}{1-γ}\\bigg)\\sqrt{\\frac{\\log(\\frac{2}{δ})}{2N}}\\Bigg) \\geq 1-\\delta\n",
        "$$\n"
      ]
    },
    {
      "cell_type": "markdown",
      "metadata": {
        "id": "tpqwCBG2MwxO"
      },
      "source": [
        "## Question 2.3\n",
        "\n",
        "Suppose once again that we are given a dataset of $N$ samples in the form of tuples $(s_i,a_i,s_i',r_i)$. We know that each tuple contains a valid transition from the true MDP, i.e., $s_i' \\sim P(\\cdot | s_i, a_i)$ and $r_i \\sim R(s_i,a_i)$, while the state-action pairs $(s_i,a_i)$ from which the transition started can be arbitrary.\n",
        "\n",
        "Suppose we want to apply Q-learning to this MDP. Can you think of a way to leverage this offline data to improve the sample-efficiency of the algorithm? What if we were using SARSA instead?"
      ]
    },
    {
      "cell_type": "markdown",
      "metadata": {
        "id": "mbYTKetHOYU_"
      },
      "source": [
        "### **Answer**\n",
        "\n",
        "We can use this offline data in the initialization of Q, for example by using VI on the approximated MDP. Then Q-learning could iterate on this first estimation of Q and might converge faster.\n",
        "\n",
        "What can also be done is to directly do offline updates of the Q-function:\n",
        "\n",
        "\\begin{align}\n",
        "& Q_0 ← \\mathrm{VI}(\\hat{P}, \\hat{R)}, \\; N ← 0\\\\\n",
        "&\\mathrm{for}\\; i=1,\\dots, N_{samples}:&\\\\\n",
        "& \\qquad N(s_i,a_i) ← N(s_i,a_i) + 1\\\\\n",
        "& \\qquad Q(s_i,a_i) ← Q(s_i,a_i) + \\frac{1}{N(s_i,a_i)}(r_i + \\gamma \\max_{a'}(Q(s_i',a'))\n",
        "\\end{align}\n",
        "\n",
        "If we use SARSA, we want our updates to be on-policy, meaning that we should use $(s,a,r, s', a')$ tuples. But we still can use our offline data to generate an initial value for $Q_0$."
      ]
    },
    {
      "cell_type": "markdown",
      "metadata": {
        "id": "542QxKsSOs21"
      },
      "source": [
        "# Part 3 - RL with Function Approximation"
      ]
    },
    {
      "cell_type": "markdown",
      "metadata": {
        "id": "OiGZBiJ4PiIE"
      },
      "source": [
        "## Question 3.1\n",
        "\n",
        "Given a datset $(s_i, a_i, r_i, s_i')$ of (states, actions, rewards, next states), the Fitted Q-Iteration (FQI) algorithm proceeds as follows:\n",
        "\n",
        "\n",
        "* We start from a $Q$ function $Q_0 \\in \\mathcal{F}$, where $\\mathcal{F}$ is a function space;\n",
        "* At every iteration $k$, we compute $Q_{k+1}$ as:\n",
        "\n",
        "$$\n",
        "Q_{k+1}\\in\\arg\\min_{f\\in\\mathcal{F}} \\frac{1}{2}\\sum_{i=1}^N\n",
        "\\left(\n",
        "  f(s_i, a_i) - y_i^k\n",
        "\\right)^2 + \\lambda \\Omega(f)\n",
        "$$\n",
        "where $y_i^k = r_i + \\gamma \\max_{a'}Q_k(s_i', a')$, $\\Omega(f)$ is a regularization term and $\\lambda > 0$ is the regularization coefficient.\n",
        "\n",
        "\n",
        "Consider FQI with *linear* function approximation. That is, for a given feature map $\\phi : S \\rightarrow \\mathbb{R}^d$, we consider a parametric family of $Q$ functions $Q_\\theta(s,a) = \\phi(s)^T\\theta_a$ for $\\theta_a\\in\\mathbb{R}^d$. Suppose we are applying FQI on a given dataset of $N$ tuples of the form $(s_i, a_i, r_i, s_i')$ and we are at the $k$-th iteration. Let $\\theta_k \\in\\mathbb{R}^{d \\times A}$ be our current parameter. Derive the *closed-form* update to find $\\theta_{k+1}$, using $\\frac{1}{2}\\sum_a ||\\theta_a||_2^2$ as regularization."
      ]
    },
    {
      "cell_type": "markdown",
      "metadata": {
        "id": "7jx7aE41DkEM"
      },
      "source": [
        "### **Answer**\n",
        "\n",
        "Using the proposed family function and regularization we aim to minimize the following loss: \n",
        "\n",
        "$$\n",
        "L(θ)= \\frac{1}{2}\\sum_{i=1}^N\n",
        "\\left(\n",
        "  \\phi(s_i)^Tθ_{a_i} - y_i^k\n",
        "\\right)^2 + \\frac{λ}{2}\\sum_a ||\\theta_a||_2^2 = D(θ) + Ω(θ)\n",
        "$$\n",
        "\n",
        "Where $\\theta = (\\theta_a)_a \\in \\mathbb{R}^{d×A}$, we may compute the semi-gradient (recall that $y_i^k = r_i + \\gamma \\max_{a'}Q_k(s_i', a')$ depends on $θ^k$):\n",
        "\n",
        "$$ Ω(θ) = \\frac{λ}{2}||\\theta||_2^2, \\quad ∇Ω(θ) = λθ $$\n",
        "\n",
        "$$D(θ) = \\frac{1}{2}\\sum_{i=1}^N\n",
        "\\left(\n",
        "  \\phi(s_i)^Tθ_{a_i} - y_i^k\n",
        "\\right)^2, \\quad ∇D(\\theta) = (∇_aD(\\theta))_{a\\in A} $$\n",
        "\n",
        "And for $a \\in A$:\n",
        "\n",
        "$$∇_aD(θ) = \\sum_{i, \\, a_i=a} (\\phi(s_i)^Tθ_a - y_i^k)\\phi(s_i) $$\n",
        "\n",
        "Then $θ^{k+1}$ satisfies, $∀a \\in A$:\n",
        "\n",
        "\\begin{align*}\n",
        "λ θ_a +\\sum_{i, \\, a_i=a} (\\phi(s_i)^Tθ_a - y_i^k)\\phi(s_i)&=0\\\\\n",
        "λθ_a +\\sum_{i, \\, a_i=a} \\phi(s_i)\\phi(s_i)^Tθ_j &= \\sum_{i, \\, a_i=a}y_i^k\\phi(s_i)\\\\\n",
        "\\Big(I_d + \\frac{1}{λ} \\sum_{i, \\, a_i=a} \\phi(s_i)\\phi(s_i)^T\\Big)θ_a &= \\frac{1}{λ}\\sum_{i, \\, a_i=a}y_i^k\\phi(s_i)\\\\\n",
        "θ_a &= \\Big(I_d + \\frac{1}{λ} \\sum_{i, \\, a_i=a} \\phi(s_i)\\phi(s_i)^T\\Big)^{-1}\\frac{1}{λ}\\sum_{i, \\, a_i=a}y_i^k\\phi(s_i)\n",
        "\\end{align*}\n",
        "\n",
        "The matrix is invertible since it is symmetric with strictly positive eigenvalues.\n",
        "\n",
        "$L$ being stricly convex, it is minimized in $θ^{k+1}$, and the minimum is global.\n",
        "\n",
        "\n",
        "\n"
      ]
    },
    {
      "cell_type": "markdown",
      "metadata": {
        "id": "ewHzjm7MVGBg"
      },
      "source": [
        "## Question 3.2\n",
        "\n",
        "The code below creates a larger gridworld (with more states than the one used in the previous questions), and defines a feature map. Implement linear FQI to this environment (in the function `linear_fqi()` below), and compare the approximated $Q$ function to the optimal $Q$ function computed with value iteration.\n",
        "\n",
        "Can you improve the feature map in order to reduce the approximation error?"
      ]
    },
    {
      "cell_type": "markdown",
      "metadata": {
        "id": "Tu4g-HSnEcBs"
      },
      "source": [
        "### **Answer**\n",
        "\n",
        "The problem with the proposed feature map, is that the information encoded is the euclidian distance between two states. I see two ameliorations that can be done :\n",
        "\n",
        "- Euclidian distance considers that we can move diagonnally, while we actually can't, $L_1$ distance is more representative of the link between states.\n",
        "\n",
        "- Cheating: we could take the wall into account when computing the similarity between two states.\n",
        "\n",
        "Indeed, using a similarity that doesn't take into account that two points on opposite sides of the wall are far away, and might lead by construction to solutions where the agent gets stuck on the wall.\n",
        "\n",
        "So the last feature map we implement tries to consider the wall in the distance computation."
      ]
    },
    {
      "cell_type": "code",
      "metadata": {
        "id": "ZovF3VXOVfCs"
      },
      "source": [
        "def get_large_gridworld():\n",
        "  \"\"\"Creates an instance of a grid-world MDP with more states.\"\"\"\n",
        "  walls = [(ii, 10) for ii in range(15) if (ii != 7 and ii != 8)]\n",
        "  env = GridWorld(\n",
        "      nrows=15,\n",
        "      ncols=15,\n",
        "      reward_at = {(14, 14):1.0},\n",
        "      walls=tuple(walls),\n",
        "      success_probability=0.9,\n",
        "      terminal_states=((14, 14),)\n",
        "  )\n",
        "  return env\n",
        "\n",
        "\n",
        "class GridWorldFeatureMap:\n",
        "  \"\"\"Create features for state-action pairs\n",
        "  \n",
        "  Args:\n",
        "    dim: int\n",
        "      Feature dimension\n",
        "    sigma: float\n",
        "      RBF kernel bandwidth\n",
        "  \"\"\"\n",
        "  def __init__(self, env, distance=\"L2\", dim=15, sigma=0.25):\n",
        "    self.index2coord = env.index2coord\n",
        "    self.n_states = env.Ns\n",
        "    self.n_actions = env.Na\n",
        "    self.dim = dim\n",
        "    self.sigma = sigma\n",
        "\n",
        "    n_rows = env.nrows\n",
        "    n_cols = env.ncols\n",
        "\n",
        "    row_wall, col_wall = (7.5, 10)\n",
        "    x_wall = row_wall / n_rows\n",
        "    y_wall = col_wall / n_cols\n",
        "\n",
        "    # build similarity matrix\n",
        "    sim_matrix = np.zeros((self.n_states, self.n_states))\n",
        "    for ii in range(self.n_states):\n",
        "        row_ii, col_ii = self.index2coord[ii]\n",
        "        x_ii = row_ii / n_rows\n",
        "        y_ii = col_ii / n_cols\n",
        "        for jj in range(self.n_states):\n",
        "            row_jj, col_jj = self.index2coord[jj]\n",
        "            x_jj = row_jj / n_rows\n",
        "            y_jj = col_jj / n_cols\n",
        "            if distance==\"L2\":\n",
        "              dist = np.sqrt((x_jj - x_ii) ** 2.0 + (y_jj - y_ii) ** 2.0)\n",
        "            elif distance==\"L1\":\n",
        "              dist = np.abs(x_jj - x_ii) + np.abs(y_ii - y_jj)\n",
        "            elif distance==\"Wall\":\n",
        "              wall_y = 10\n",
        "              if col_ii < 10 and col_jj < 10 or col_ii > 10 and col_jj > 10:\n",
        "                # The states are ton the same size of the wall\n",
        "                 dist = np.abs(x_jj - x_ii) + np.abs(y_ii - y_jj)\n",
        "              else:\n",
        "                #dist = i --> wall + wall --> j\n",
        "                dist = np.abs(x_wall - x_ii) + np.abs(x_wall - x_jj) +\\\n",
        "                       np.abs(y_wall - y_ii) + np.abs(y_wall - y_jj)\n",
        "            sim_matrix[ii, jj] = np.exp(-(dist / sigma) ** 2.0)\n",
        "\n",
        "    # factorize similarity matrix to obtain features\n",
        "    uu, ss, vh = np.linalg.svd(sim_matrix, hermitian=True)\n",
        "    self.feats = vh[:dim, :]\n",
        "\n",
        "  def map(self, observation):\n",
        "    feat = self.feats[:, observation].copy()\n",
        "    return feat"
      ],
      "execution_count": 11,
      "outputs": []
    },
    {
      "cell_type": "code",
      "source": [
        "def linear_fqi(env, feat_map, num_iterations, lambd=0.1, gamma=0.95):\n",
        "  \"\"\"\n",
        "  # Linear FQI implementation\n",
        "  # TO BE COMPLETED\n",
        "  \"\"\"\n",
        "\n",
        "  # get a dataset\n",
        "  #    dataset = get_uniform_dataset(env, n_samples=...)\n",
        "  # OR dataset = get_random_policy_dataset(env, n_samples=...)\n",
        "  # We have Ns states and for each state Na action, to be sure that we sample \n",
        "  # each state-action pair at least once, we should take:\n",
        "  n_samples = 10 * env.Ns * env.Na\n",
        "  dataset = get_uniform_dataset(env, n_samples=n_samples)\n",
        "  #dataset = np.array(dataset, dtype=int)\n",
        "\n",
        "  # Precompute all distances\n",
        "  features = [feat_map.map(s) for s in range(env.Ns)]\n",
        "\n",
        "  theta = np.zeros((feat_map.dim, env.Na))\n",
        "\n",
        "  for it in range(num_iterations):\n",
        "    # We first compute y\n",
        "    y = np.zeros(len(dataset[0]))\n",
        "    for sample in range(n_samples):\n",
        "      y[sample] = dataset[2][sample] + gamma * np.max(features[dataset[3][sample]] @ theta)\n",
        "    for a in range(env.Na):\n",
        "      # We compute each term\n",
        "      left_sum = np.zeros((feat_map.dim, feat_map.dim))\n",
        "      right_sum = np.zeros(feat_map.dim)\n",
        "      for sample in range(n_samples):\n",
        "          if dataset[1][sample] == a:\n",
        "            phi = features[dataset[0][sample]].reshape((feat_map.dim, 1))\n",
        "            left_sum += phi @ phi.T\n",
        "            right_sum += y[sample] * phi[:,0]\n",
        "      left_term = np.eye(feat_map.dim) + 1/lambd * left_sum\n",
        "      theta[:,a] = np.linalg.solve(left_term, 1/lambd * right_sum)   \n",
        "  \n",
        "  return theta"
      ],
      "metadata": {
        "id": "byaJUsPZkkUp"
      },
      "execution_count": 12,
      "outputs": []
    },
    {
      "cell_type": "markdown",
      "source": [
        "**Ground Truth**"
      ],
      "metadata": {
        "id": "C8gCgYSAJpS_"
      }
    },
    {
      "cell_type": "code",
      "source": [
        "env = get_large_gridworld()\n",
        "\n",
        "tol = 1e-7\n",
        "gamma = 0.95\n",
        "VI_Q, VI_greedypol, all_qfunctions = value_iteration(env.P, env.R, gamma=gamma, tol=tol)\n",
        "\n",
        "VI_V = VI_Q.max(axis=1)\n",
        "\n",
        "\n",
        "render_policy(env, VI_greedypol, horizon=100)\n",
        "\n",
        "# Visualize the approximate value function in the gridworld.\n",
        "img = env.get_layout_img(VI_V)    \n",
        "plt.imshow(img)\n",
        "plt.show()"
      ],
      "metadata": {
        "id": "47BquHgZ7w9w",
        "colab": {
          "base_uri": "https://localhost:8080/",
          "height": 669
        },
        "outputId": "92bafe5f-0f82-4b00-b0cd-425a04b95ff1"
      },
      "execution_count": 13,
      "outputs": [
        {
          "output_type": "display_data",
          "data": {
            "text/plain": [
              "<IPython.core.display.HTML object>"
            ],
            "text/html": [
              "<video alt=\"videos/gw.mp4\" autoplay\n",
              "                      loop controls style=\"height: 400px;\">\n",
              "                    <source src=\"data:video/mp4;base64,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\" type=\"video/mp4\" />\n",
              "                 </video>"
            ]
          },
          "metadata": {}
        },
        {
          "output_type": "display_data",
          "data": {
            "text/plain": [
              "<Figure size 432x288 with 1 Axes>"
            ],
            "image/png": "[encoded data removed]"
          },
          "metadata": {
            "needs_background": "light"
          }
        }
      ]
    },
    {
      "cell_type": "code",
      "metadata": {
        "id": "p21KMmruugO1",
        "colab": {
          "base_uri": "https://localhost:8080/",
          "height": 669
        },
        "outputId": "59afd9d1-6268-4683-c717-5678f2f815fe"
      },
      "source": [
        "from numpy.random.mtrand import rand\n",
        "# ----------------------------\n",
        "# Environment and feature map\n",
        "# ----------------------------\n",
        "env = get_large_gridworld()\n",
        "# you can change the parameters of the feature map, and even try other maps!\n",
        "feat_map = GridWorldFeatureMap(env, dim=50, sigma=0.25, distance=\"L2\")\n",
        "\n",
        "# -------\n",
        "# Run FQI\n",
        "# -------\n",
        "theta = linear_fqi(env, feat_map, num_iterations=100, gamma=0.95)\n",
        "\n",
        "# Compute and run greedy policy\n",
        "Q_fqi_L2 = np.zeros((env.Ns, env.Na))\n",
        "for ss in range(env.Ns):\n",
        "  state_feat = feat_map.map(ss)\n",
        "  Q_fqi_L2[ss, :] = state_feat @ theta\n",
        "\n",
        "V_fqi_L2 = Q_fqi_L2.max(axis=1)\n",
        "policy_fqi_L2 = Q_fqi_L2.argmax(axis=1)\n",
        "render_policy(env, policy_fqi_L2, horizon=100)\n",
        "\n",
        "# Visualize the approximate value function in the gridworld.\n",
        "img = env.get_layout_img(V_fqi_L2)    \n",
        "plt.imshow(img)\n",
        "plt.show()"
      ],
      "execution_count": 15,
      "outputs": [
        {
          "output_type": "display_data",
          "data": {
            "text/plain": [
              "<IPython.core.display.HTML object>"
            ],
            "text/html": [
              "<video alt=\"videos/gw.mp4\" autoplay\n",
              "                      loop controls style=\"height: 400px;\">\n",
              "                    <source src=\"data:video/mp4;base64,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\" type=\"video/mp4\" />\n",
              "                 </video>"
            ]
          },
          "metadata": {}
        },
        {
          "output_type": "display_data",
          "data": {
            "text/plain": [
              "<Figure size 432x288 with 1 Axes>"
            ],
            "image/png": "[encoded data removed]"
          },
          "metadata": {
            "needs_background": "light"
          }
        }
      ]
    },
    {
      "cell_type": "code",
      "source": [
        "feat_map = GridWorldFeatureMap(env, dim=50, sigma=0.25, distance=\"L1\")\n",
        "\n",
        "# -------\n",
        "# Run FQI\n",
        "# -------\n",
        "theta = linear_fqi(env, feat_map, num_iterations=100, gamma=0.95)\n",
        "\n",
        "# Compute and run greedy policy\n",
        "Q_fqi_L1 = np.zeros((env.Ns, env.Na))\n",
        "for ss in range(env.Ns):\n",
        "  state_feat = feat_map.map(ss)\n",
        "  Q_fqi_L1[ss, :] = state_feat @ theta\n",
        "\n",
        "V_fqi_L1 = Q_fqi_L1.max(axis=1)\n",
        "policy_fqi_L1 = Q_fqi_L1.argmax(axis=1)\n",
        "render_policy(env, policy_fqi_L1, horizon=100)\n",
        "\n",
        "# Visualize the approximate value function in the gridworld.\n",
        "img = env.get_layout_img(V_fqi_L1)    \n",
        "plt.imshow(img)\n",
        "plt.show()"
      ],
      "metadata": {
        "colab": {
          "base_uri": "https://localhost:8080/",
          "height": 669
        },
        "id": "EpWwso-dOPTB",
        "outputId": "08fbafa9-0422-41f8-cf3e-55fcedca24b1"
      },
      "execution_count": 16,
      "outputs": [
        {
          "output_type": "display_data",
          "data": {
            "text/plain": [
              "<IPython.core.display.HTML object>"
            ],
            "text/html": [
              "<video alt=\"videos/gw.mp4\" autoplay\n",
              "                      loop controls style=\"height: 400px;\">\n",
              "                    <source src=\"data:video/mp4;base64,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\" type=\"video/mp4\" />\n",
              "                 </video>"
            ]
          },
          "metadata": {}
        },
        {
          "output_type": "display_data",
          "data": {
            "text/plain": [
              "<Figure size 432x288 with 1 Axes>"
            ],
            "image/png": "[encoded data removed]"
          },
          "metadata": {
            "needs_background": "light"
          }
        }
      ]
    },
    {
      "cell_type": "code",
      "source": [
        "feat_map = GridWorldFeatureMap(env, dim=50, sigma=0.25, distance=\"Wall\")\n",
        "\n",
        "# -------\n",
        "# Run FQI\n",
        "# -------\n",
        "theta = linear_fqi(env, feat_map, num_iterations=100, gamma=0.95)\n",
        "\n",
        "# Compute and run greedy policy\n",
        "Q_fqi_Wall = np.zeros((env.Ns, env.Na))\n",
        "for ss in range(env.Ns):\n",
        "  state_feat = feat_map.map(ss)\n",
        "  Q_fqi_Wall[ss, :] = state_feat @ theta\n",
        "\n",
        "V_fqi_Wall = Q_fqi_Wall.max(axis=1)\n",
        "policy_fqi_Wall = Q_fqi_Wall.argmax(axis=1)\n",
        "render_policy(env, policy_fqi_Wall, horizon=100)\n",
        "\n",
        "# Visualize the approximate value function in the gridworld.\n",
        "img = env.get_layout_img(V_fqi_Wall)    \n",
        "plt.imshow(img)\n",
        "plt.show()"
      ],
      "metadata": {
        "colab": {
          "base_uri": "https://localhost:8080/",
          "height": 669
        },
        "id": "s7V911oQq67m",
        "outputId": "a6b8103e-9c58-402d-a31e-9c1b466851a1"
      },
      "execution_count": 18,
      "outputs": [
        {
          "output_type": "display_data",
          "data": {
            "text/plain": [
              "<IPython.core.display.HTML object>"
            ],
            "text/html": [
              "<video alt=\"videos/gw.mp4\" autoplay\n",
              "                      loop controls style=\"height: 400px;\">\n",
              "                    <source src=\"data:video/mp4;base64,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\" type=\"video/mp4\" />\n",
              "                 </video>"
            ]
          },
          "metadata": {}
        },
        {
          "output_type": "display_data",
          "data": {
            "text/plain": [
              "<Figure size 432x288 with 1 Axes>"
            ],
            "image/png": "[encoded data removed]"
          },
          "metadata": {
            "needs_background": "light"
          }
        }
      ]
    },
    {
      "cell_type": "code",
      "source": [
        "# Distance to Ground Truth:\n",
        "print(\"Distances to ground truth : \\n\")\n",
        "print(\"L2 feature map: {}\".format(np.max(np.abs(V_fqi_L2, VI_V))))\n",
        "print(\"L1 feature map: {}\".format(np.max(np.abs(V_fqi_L1, VI_V))))\n",
        "print(\"Wall feature map: {}\".format(np.max(np.abs(V_fqi_Wall, VI_V))))"
      ],
      "metadata": {
        "colab": {
          "base_uri": "https://localhost:8080/"
        },
        "id": "8IST2XwBWF4G",
        "outputId": "f0aa0799-99e8-40bb-beee-4dd06c6aa5d0"
      },
      "execution_count": 19,
      "outputs": [
        {
          "output_type": "stream",
          "name": "stdout",
          "text": [
            "Distances to ground truth : \n",
            "\n",
            "L2 feature map: 9.49496996870861\n",
            "L1 feature map: 4.819289298203185\n",
            "Wall feature map: 5.249091425965124\n"
          ]
        }
      ]
    },
    {
      "cell_type": "markdown",
      "source": [
        "When using 50 dimensions (high enough dimension to achieve convergence) we see that our proposed features outperform the original one, but in terms of infinite distance between Q values, we have no gain using the cheating trick.\n",
        "\n",
        "However, looking at the videos, the result we got is more satisfying.\n",
        "\n",
        "Now let's make one last check in lower dimension :"
      ],
      "metadata": {
        "id": "QShBBKIrtSOO"
      }
    },
    {
      "cell_type": "code",
      "source": [
        "feat_map = GridWorldFeatureMap(env, dim=25, sigma=0.25, distance=\"L2\")\n",
        "\n",
        "theta = linear_fqi(env, feat_map, num_iterations=100, gamma=0.95)\n",
        "\n",
        "# Compute and run greedy policy\n",
        "Q_fqi_L2_25 = np.zeros((env.Ns, env.Na))\n",
        "for ss in range(env.Ns):\n",
        "  state_feat = feat_map.map(ss)\n",
        "  Q_fqi_L2_25[ss, :] = state_feat @ theta\n",
        "\n",
        "V_fqi_L2_25 = Q_fqi_L2_25.max(axis=1)\n",
        "policy_fqi_L2_25 = Q_fqi_L2_25.argmax(axis=1)\n",
        "render_policy(env, policy_fqi_L2_25, horizon=100)\n",
        "\n",
        "# Visualize the approximate value function in the gridworld.\n",
        "img = env.get_layout_img(V_fqi_L2_25)    \n",
        "plt.imshow(img)\n",
        "plt.show()"
      ],
      "metadata": {
        "colab": {
          "base_uri": "https://localhost:8080/",
          "height": 669
        },
        "id": "_GHLyH0JlW0K",
        "outputId": "bd3e1eb1-73a9-49f7-9942-64709b87cdb2"
      },
      "execution_count": 20,
      "outputs": [
        {
          "output_type": "display_data",
          "data": {
            "text/plain": [
              "<IPython.core.display.HTML object>"
            ],
            "text/html": [
              "<video alt=\"videos/gw.mp4\" autoplay\n",
              "                      loop controls style=\"height: 400px;\">\n",
              "                    <source src=\"data:video/mp4;base64,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\" type=\"video/mp4\" />\n",
              "                 </video>"
            ]
          },
          "metadata": {}
        },
        {
          "output_type": "display_data",
          "data": {
            "text/plain": [
              "<Figure size 432x288 with 1 Axes>"
            ],
            "image/png": "[encoded data removed]"
          },
          "metadata": {
            "needs_background": "light"
          }
        }
      ]
    },
    {
      "cell_type": "code",
      "source": [
        "feat_map = GridWorldFeatureMap(env, dim=25, sigma=0.25, distance=\"L1\")\n",
        "\n",
        "# -------\n",
        "# Run FQI\n",
        "# -------\n",
        "theta = linear_fqi(env, feat_map, num_iterations=100, gamma=0.95)\n",
        "\n",
        "# Compute and run greedy policy\n",
        "Q_fqi_L1_25 = np.zeros((env.Ns, env.Na))\n",
        "for ss in range(env.Ns):\n",
        "  state_feat = feat_map.map(ss)\n",
        "  Q_fqi_L1_25[ss, :] = state_feat @ theta\n",
        "\n",
        "V_fqi_L1_25 = Q_fqi_L1_25.max(axis=1)\n",
        "policy_fqi_L1_25 = Q_fqi_L1_25.argmax(axis=1)\n",
        "render_policy(env, policy_fqi_L1_25, horizon=100)\n",
        "\n",
        "# Visualize the approximate value function in the gridworld.\n",
        "img = env.get_layout_img(V_fqi_L1_25)    \n",
        "plt.imshow(img)\n",
        "plt.show()"
      ],
      "metadata": {
        "colab": {
          "base_uri": "https://localhost:8080/",
          "height": 669
        },
        "id": "xBN2I2bkuPvf",
        "outputId": "5b1d336e-e001-4036-bc72-ba2492dbb319"
      },
      "execution_count": 21,
      "outputs": [
        {
          "output_type": "display_data",
          "data": {
            "text/plain": [
              "<IPython.core.display.HTML object>"
            ],
            "text/html": [
              "<video alt=\"videos/gw.mp4\" autoplay\n",
              "                      loop controls style=\"height: 400px;\">\n",
              "                    <source src=\"data:video/mp4;base64,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\" type=\"video/mp4\" />\n",
              "                 </video>"
            ]
          },
          "metadata": {}
        },
        {
          "output_type": "display_data",
          "data": {
            "text/plain": [
              "<Figure size 432x288 with 1 Axes>"
            ],
            "image/png": "[encoded data removed]"
          },
          "metadata": {
            "needs_background": "light"
          }
        }
      ]
    },
    {
      "cell_type": "code",
      "source": [
        "feat_map = GridWorldFeatureMap(env, dim=25, sigma=0.25, distance=\"Wall\")\n",
        "\n",
        "# -------\n",
        "# Run FQI\n",
        "# -------\n",
        "theta = linear_fqi(env, feat_map, num_iterations=100, gamma=0.95)\n",
        "\n",
        "# Compute and run greedy policy\n",
        "Q_fqi_Wall_25 = np.zeros((env.Ns, env.Na))\n",
        "for ss in range(env.Ns):\n",
        "  state_feat = feat_map.map(ss)\n",
        "  Q_fqi_Wall_25[ss, :] = state_feat @ theta\n",
        "\n",
        "V_fqi_Wall_25 = Q_fqi_Wall_25.max(axis=1)\n",
        "policy_fqi_Wall_25 = Q_fqi_Wall_25.argmax(axis=1)\n",
        "render_policy(env, policy_fqi_Wall_25, horizon=100)\n",
        "\n",
        "# Visualize the approximate value function in the gridworld.\n",
        "img = env.get_layout_img(V_fqi_Wall_25)    \n",
        "plt.imshow(img)\n",
        "plt.show()"
      ],
      "metadata": {
        "colab": {
          "base_uri": "https://localhost:8080/",
          "height": 669
        },
        "id": "mlllPjshuazW",
        "outputId": "7798a734-5943-46da-ea92-406e98c0bb21"
      },
      "execution_count": 30,
      "outputs": [
        {
          "output_type": "display_data",
          "data": {
            "text/plain": [
              "<IPython.core.display.HTML object>"
            ],
            "text/html": [
              "<video alt=\"videos/gw.mp4\" autoplay\n",
              "                      loop controls style=\"height: 400px;\">\n",
              "                    <source src=\"data:video/mp4;base64,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\" type=\"video/mp4\" />\n",
              "                 </video>"
            ]
          },
          "metadata": {}
        },
        {
          "output_type": "display_data",
          "data": {
            "text/plain": [
              "<Figure size 432x288 with 1 Axes>"
            ],
            "image/png": "[encoded data removed]"
          },
          "metadata": {
            "needs_background": "light"
          }
        }
      ]
    },
    {
      "cell_type": "code",
      "source": [
        "# Distance to Ground Truth:\n",
        "print(\"Distances to ground truth : \\n\")\n",
        "print(\"L2 feature map: {}\".format(np.max(np.abs(V_fqi_L2_25, VI_V))))\n",
        "print(\"L1 feature map: {}\".format(np.max(np.abs(V_fqi_L1_25, VI_V))))\n",
        "print(\"Wall feature map: {}\".format(np.max(np.abs(V_fqi_Wall_25, VI_V))))"
      ],
      "metadata": {
        "colab": {
          "base_uri": "https://localhost:8080/"
        },
        "id": "ivpqLN2HuqVm",
        "outputId": "3904d60b-46d6-48b5-baee-8b586ec93673"
      },
      "execution_count": 31,
      "outputs": [
        {
          "output_type": "stream",
          "name": "stdout",
          "text": [
            "Distances to ground truth : \n",
            "\n",
            "L2 feature map: 3.1999861623900654\n",
            "L1 feature map: 2.888178517204445\n",
            "Wall feature map: 2.583407255955672\n"
          ]
        }
      ]
    },
    {
      "cell_type": "markdown",
      "source": [
        "When working with lower dimension, our wall-trick seems to do the job, and the agents gets to the reward."
      ],
      "metadata": {
        "id": "iFVZ1W2qvAH1"
      }
    },
    {
      "cell_type": "code",
      "source": [],
      "metadata": {
        "id": "J0I8hPVCwo0M"
      },
      "execution_count": null,
      "outputs": []
    }
  ]
}