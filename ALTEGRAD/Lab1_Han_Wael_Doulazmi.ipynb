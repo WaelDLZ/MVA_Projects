{
 "cells": [
  {
   "cell_type": "markdown",
   "metadata": {
    "id": "MuVouapRmjEW"
   },
   "source": [
    "<center><h2>ALTeGraD 2022<br>Lab Session 1: HAN</h2><h3>Hierarchical Attention Network Using GRU</h3> 27 / 10 / 2022<br> M. Kamal Eddine, H. Abdine<br><br>\n",
    "\n",
    "\n",
    "<b>Student name:</b> Waël Doulazmi\n",
    "\n",
    "\n",
    "</center>\n",
    "In this lab, you will get familiar with recurrent neural networks (RNNs), self-attention, and the HAN architecture <b>(Yang et al. 2016)</b> using PyTorch. In this architecture, sentence embeddings are first individually produced, and a document embedding is then computed from the sentence embeddings.<br>\n",
    "<b>The deadline for this lab is November 14, 2022 11:59 PM.</b> More details about the submission and the architecture for this lab can be found in the handout PDF.\n"
   ]
  },
  {
   "cell_type": "markdown",
   "metadata": {
    "id": "xJaSJaIP1xRy"
   },
   "source": [
    "### = = = = =  Attention Layer = = = = =\n",
    "In thi section, you will fill the gaps in the code to implement the self-attention layer. This layer will be used later to define the HAN architecture. The basic idea behind attention is that rather than considering the last annotation $h_T$ as a summary of the entire sequence, which is prone to information loss, the annotations at <i>all</i> time steps are used.\n",
    "The self-attention mechanism computes a weighted sum of the annotations, where the weights are determined by trainable parameters. Refer to <b>section 2.2</b> in the handout for the theoretical part, it will be needed to finish the first task.\n",
    "\n",
    "#### <b>Task 1:</b>"
   ]
  },
  {
   "cell_type": "code",
   "execution_count": 1,
   "metadata": {
    "id": "yoM7H0KQncpF"
   },
   "outputs": [],
   "source": [
    "import torch\n",
    "from torch import nn\n",
    "from torch.utils.data import DataLoader\n",
    "\n",
    "class AttentionWithContext(nn.Module):\n",
    "    \"\"\"\n",
    "    Follows the work of Yang et al. [https://www.cs.cmu.edu/~diyiy/docs/naacl16.pdf]\n",
    "    \"Hierarchical Attention Networks for Document Classification\"\n",
    "    by using a context vector to assist the attention\n",
    "    # Input shape\n",
    "        3D tensor with shape: `(samples, steps, features)`.\n",
    "    # Output shape\n",
    "        2D tensor with shape: `(samples, features)`.\n",
    "    \"\"\"\n",
    "    \n",
    "    def __init__(self, input_shape, return_coefficients=False, bias=True):\n",
    "        super(AttentionWithContext, self).__init__()\n",
    "        self.return_coefficients = return_coefficients\n",
    "\n",
    "        self.W = nn.Linear(input_shape, input_shape, bias=bias)\n",
    "        self.tanh = nn.Tanh()\n",
    "        self.u = nn.Linear(input_shape, 1, bias=False)\n",
    "\n",
    "        self.init_weights()\n",
    "\n",
    "    def init_weights(self):\n",
    "        initrange = 0.1\n",
    "        self.W.weight.data.uniform_(-initrange, initrange)\n",
    "        self.W.bias.data.uniform_(-initrange, initrange)\n",
    "        self.u.weight.data.uniform_(-initrange, initrange)\n",
    "    \n",
    "    def generate_square_subsequent_mask(self, sz):\n",
    "        # do not pass the mask to the next layers\n",
    "        mask = (torch.triu(torch.ones(sz, sz)) == 1).transpose(0, 1)\n",
    "        mask = (\n",
    "            mask.float()\n",
    "            .masked_fill(mask == 0, float(\"-inf\"))\n",
    "            .masked_fill(mask == 1, float(0.0))\n",
    "        )\n",
    "        return mask\n",
    "    \n",
    "    def forward(self, x, mask=None):\n",
    "        uit = self.W(x)  # fill the gap # compute uit = W . x  where x represents ht\n",
    "        uit = self.tanh(uit)\n",
    "        ait = self.u(uit)\n",
    "        a = torch.exp(ait)\n",
    "        \n",
    "        # apply mask after the exp. will be re-normalized next\n",
    "        if mask is not None:\n",
    "            a = a*mask.double()\n",
    "        \n",
    "        # in some cases especially in the early stages of training the sum may be almost zero\n",
    "        # and this results in NaN's. A workaround is to add a very small positive number ε to the sum.\n",
    "        eps = 1e-9\n",
    "        a = a / (torch.sum(a, axis=1, keepdim=True) + eps)\n",
    "        weighted_input = a * x\n",
    "        if self.return_coefficients:\n",
    "            return [torch.sum(weighted_input, dim=1), a] ### [attentional vector, coefficients] ### use torch.sum to compute s\n",
    "        else:\n",
    "            return  torch.sum(weighted_input, dim=1)"
   ]
  },
  {
   "cell_type": "markdown",
   "metadata": {
    "id": "DgTP6GrOHlss"
   },
   "source": [
    "### = = = = = Parameters = = = = =\n",
    "In this section, we define the parameters to use in our training. Such as data path, the embedding dimention <b>d</b>, the GRU layer dimensionality <b>n_units</b>, etc..<br>\n",
    "The parameter <b>device</b> is used to train the model on GPU if it is available. for this purpose, if you are using Google Colab, switch your runtime to a GPU runtime to train the model with a maximum speed.<br>\n",
    "<b>Bonus question:</b> What is the purpose of the parameter <i>my_patience</i>?"
   ]
  },
  {
   "cell_type": "code",
   "execution_count": 2,
   "metadata": {
    "id": "czsVjxgYnczb"
   },
   "outputs": [],
   "source": [
    "import sys\n",
    "import json\n",
    "import operator\n",
    "import numpy as np\n",
    "\n",
    "path_root = ''\n",
    "path_to_data = path_root + 'data/'\n",
    "\n",
    "d = 30 # dimensionality of word embeddings\n",
    "n_units = 50 # RNN layer dimensionality\n",
    "drop_rate = 0.5 # dropout\n",
    "mfw_idx = 2 # index of the most frequent words in the dictionary \n",
    "            # 0 is for the special padding token\n",
    "            # 1 is for the special out-of-vocabulary token\n",
    "\n",
    "padding_idx = 0\n",
    "oov_idx = 1\n",
    "batch_size = 64\n",
    "nb_epochs = 15\n",
    "my_patience = 2 # for early stopping strategy\n",
    "device = torch.device(\"cuda\" if torch.cuda.is_available() else \"cpu\")"
   ]
  },
  {
   "cell_type": "code",
   "execution_count": 3,
   "metadata": {},
   "outputs": [
    {
     "name": "stdout",
     "output_type": "stream",
     "text": [
      "cuda\n"
     ]
    }
   ],
   "source": [
    "print(device)"
   ]
  },
  {
   "cell_type": "markdown",
   "metadata": {
    "id": "K8Vot_C7Hlst"
   },
   "source": [
    "### = = = = = Data Loading = = = = =\n",
    "In this section we will use first <b>wget</b> to download the data the we will load it using numpy in the first cell. While in the second cell, we will use these data to define our Pytorch data loader. Note that the data is already preprocessed, tokenized and padded.<br><br>\n",
    "<b>Note: if you are running your notebook on Windows or on MacOS, <i>wget</i> will probably not work if you did not install it manually. In this case, use the provided link to download the data and change the <i>path_to_data</i> in the <i>Parameters</i> section accordingly. Otherwise, you will face no problem on Ubuntu and Google Colab.</b>\n",
    "\n",
    "#### <b>Task 2.1:</b>"
   ]
  },
  {
   "cell_type": "code",
   "execution_count": 4,
   "metadata": {
    "id": "UD6hRh0OHlst"
   },
   "outputs": [],
   "source": [
    "my_docs_array_train = np.load(path_to_data + 'docs_train.npy')\n",
    "my_docs_array_test = np.load(path_to_data + 'docs_test.npy')\n",
    "\n",
    "my_labels_array_train = np.load(path_to_data + 'labels_train.npy')\n",
    "my_labels_array_test = np.load(path_to_data + 'labels_test.npy')\n",
    "\n",
    "# load dictionary of word indexes (sorted by decreasing frequency across the corpus)\n",
    "with open(path_to_data + 'word_to_index.json', 'r') as my_file:\n",
    "    word_to_index = json.load(my_file)\n",
    "\n",
    "# invert mapping\n",
    "index_to_word =  {word_to_index[word]: word for word in word_to_index.keys()}  ### fill the gap (use a dict comprehension) ###\n",
    "input_size = my_docs_array_train.shape"
   ]
  },
  {
   "cell_type": "code",
   "execution_count": 5,
   "metadata": {},
   "outputs": [
    {
     "data": {
      "text/plain": [
       "29936"
      ]
     },
     "execution_count": 5,
     "metadata": {},
     "output_type": "execute_result"
    }
   ],
   "source": [
    "len(index_to_word)"
   ]
  },
  {
   "cell_type": "code",
   "execution_count": 6,
   "metadata": {
    "id": "DpsCvmaiJfZc"
   },
   "outputs": [],
   "source": [
    "import numpy\n",
    "import torch\n",
    "from torch.utils.data import DataLoader, Dataset\n",
    "\n",
    "\n",
    "class Dataset_(Dataset):\n",
    "    def __init__(self, x, y):\n",
    "        self.documents = x\n",
    "        self.labels = y\n",
    "\n",
    "    def __len__(self):\n",
    "        return len(self.documents)\n",
    "\n",
    "    def __getitem__(self, index):\n",
    "        document = self.documents[index]\n",
    "        label = self.labels[index] \n",
    "        sample = {\n",
    "            \"document\": torch.tensor(document),\n",
    "            \"label\": torch.tensor(label),\n",
    "            }\n",
    "        return sample\n",
    "\n",
    "\n",
    "def get_loader(x, y, batch_size=32):\n",
    "    dataset = Dataset_(x, y)\n",
    "    data_loader = DataLoader(dataset=dataset,\n",
    "                            batch_size=batch_size,\n",
    "                            shuffle=True,\n",
    "                            pin_memory=True,\n",
    "                            drop_last=True,\n",
    "                            )\n",
    "    return data_loader"
   ]
  },
  {
   "cell_type": "markdown",
   "metadata": {
    "id": "6rzqEGOdHlst"
   },
   "source": [
    "### = = = = = Defining Architecture = = = = =\n",
    "In this section, we define the HAN architecture. We start with <i>AttentionBiGRU</i> module in order to define the sentence encoder (check Figure 3 in the handout). Then, we define the <i>TimeDistributed</i> module to allow us to forward our input (batch of document) as to the sentence encoder as <b>batch of sentences</b>, where each sentence in the document will be considered as a time step. This module also reshape the output to a batch of timesteps representations per document. Finally we define the <b>HAN</b> architecture using <i>TimeDistributed</i>, <i>AttentionWithContext</i> and <i>GRU</i>.\n",
    "\n",
    "#### <b>Task 2.2:</b>"
   ]
  },
  {
   "cell_type": "code",
   "execution_count": 7,
   "metadata": {
    "id": "AMj9j1_pHlst"
   },
   "outputs": [],
   "source": [
    "\n",
    "class AttentionBiGRU(nn.Module):\n",
    "    def __init__(self, input_shape, n_units, index_to_word, dropout=0):\n",
    "        super(AttentionBiGRU, self).__init__()\n",
    "        self.embedding = nn.Embedding(2+len(index_to_word),# fill the gap # vocab size\n",
    "                                      d, # dimensionality of embedding space\n",
    "                                      padding_idx=0)\n",
    "        self.dropout = nn.Dropout(drop_rate)\n",
    "        self.gru = nn.GRU(input_size=input_shape[2],\n",
    "                          hidden_size=n_units,\n",
    "                          num_layers=1,\n",
    "                          bias=True,\n",
    "                          batch_first=True,\n",
    "                          bidirectional=True)\n",
    "        self.attention = AttentionWithContext(2 * n_units,   # fill the gap # the input shape for the attention layer\n",
    "                                              return_coefficients=True)\n",
    "\n",
    "\n",
    "    def forward(self, sent_ints):\n",
    "        sent_wv = self.embedding(sent_ints)\n",
    "        sent_wv_dr = self.dropout(sent_wv)\n",
    "        # We need to reshape the output\n",
    "        sent_wv_dr_reshape = sent_wv_dr.view(sent_wv_dr.size(0) * sent_wv_dr.size(1), sent_wv_dr.size(2), sent_wv_dr.size(3))\n",
    "        sent_wa, _ = self.gru(sent_wv_dr_reshape) # fill the gap # RNN layer\n",
    "        sent_att_vec, word_att_coeffs = self.attention(sent_wa) # fill the gap # attentional vector for the sent\n",
    "        # Reshape again\n",
    "        sent_att_vec = sent_att_vec.view(sent_wv_dr.size(0), sent_wv_dr.size(1), sent_att_vec.size(-1))\n",
    "        sent_att_vec_dr = self.dropout(sent_att_vec)\n",
    "        # Reshape the output\n",
    "        \n",
    "        return sent_att_vec_dr, word_att_coeffs\n",
    "\n",
    "class TimeDistributed(nn.Module):\n",
    "    def __init__(self, module, batch_first=False):\n",
    "        super(TimeDistributed, self).__init__()\n",
    "        self.module = module\n",
    "        self.batch_first = batch_first\n",
    "\n",
    "    def forward(self, x):\n",
    "        if len(x.size()) <= 2:\n",
    "            return self.module(x)\n",
    "        # Squash samples and timesteps into a single axis\n",
    "        x_reshape = x.contiguous().view(-1, x.size(-1))  # (samples * timesteps, input_size) (224, 30)\n",
    "        sent_att_vec_dr, word_att_coeffs = self.module(x_reshape)\n",
    "        # We have to reshape the output\n",
    "        if self.batch_first:\n",
    "            sent_att_vec_dr = sent_att_vec_dr.contiguous().view(x.size(0), -1, sent_att_vec_dr.size(-1))  # (samples, timesteps, output_size)\n",
    "            word_att_coeffs = word_att_coeffs.contiguous().view(x.size(0), -1, word_att_coeffs.size(-1))  # (samples, timesteps, output_size)\n",
    "        else:\n",
    "            sent_att_vec_dr = sent_att_vec_dr.view(-1, x.size(1), sent_att_vec_dr.size(-1))  # (timesteps, samples, output_size)\n",
    "            word_att_coeffs = word_att_coeffs.view(-1, x.size(1), word_att_coeffs.size(-1))  # (timesteps, samples, output_size)\n",
    "        return sent_att_vec_dr, word_att_coeffs      \n",
    "\n",
    "class HAN(nn.Module):\n",
    "    def __init__(self, input_shape, n_units, index_to_word, dropout=0):\n",
    "        super(HAN, self).__init__()\n",
    "        self.encoder = AttentionBiGRU(input_shape, n_units, index_to_word, dropout)\n",
    "        self.timeDistributed = TimeDistributed(self.encoder, True)\n",
    "        self.dropout = nn.Dropout(drop_rate)\n",
    "        self.gru = nn.GRU(input_size=2*n_units,# fill the gap # the input shape of GRU layer\n",
    "                          hidden_size=n_units,\n",
    "                          num_layers=1,\n",
    "                          bias=True,\n",
    "                          batch_first=True,\n",
    "                          bidirectional=True)\n",
    "        self.attention = AttentionWithContext(2*n_units, # fill the gap # the input shape of between-sentence attention layer\n",
    "                                              return_coefficients=True)\n",
    "        self.lin_out = nn.Linear(2*n_units,   # fill the gap # the input size of the last linear layer\n",
    "                                 1)\n",
    "        self.preds = nn.Sigmoid()\n",
    "\n",
    "    def forward(self, doc_ints):\n",
    "        sent_att_vecs_dr, word_att_coeffs = self.encoder(doc_ints) # fill the gap # get sentence representation\n",
    "        doc_sa, _ = self.gru(sent_att_vecs_dr)\n",
    "        doc_att_vec, sent_att_coeffs = self.attention(doc_sa)\n",
    "        doc_att_vec_dr = self.dropout(doc_att_vec)\n",
    "        doc_att_vec_dr = self.lin_out(doc_att_vec_dr)\n",
    "        return self.preds(doc_att_vec_dr), word_att_coeffs, sent_att_coeffs\n"
   ]
  },
  {
   "cell_type": "markdown",
   "metadata": {
    "id": "sgreR5AcHlst"
   },
   "source": [
    "### = = = = = Training = = = = =\n",
    "In this section, we have two code cells. In the first one, we define our evaluation function to compute the training and validation accuracies. While in the second one, we define our model, loss and optimizer and train the model over <i>nb_epochs</i>.<br>\n",
    "<b>Bonus task:</b> use <a href=\"https://pytorch.org/tutorials/recipes/recipes/tensorboard_with_pytorch.html\" target=\"_blank\">tensorboard</a> to visualize the loss and the validation accuray during the training.\n",
    "\n",
    "#### <b>Task 2.3:</b>"
   ]
  },
  {
   "cell_type": "code",
   "execution_count": 8,
   "metadata": {
    "id": "ztF2Lkie-C25"
   },
   "outputs": [],
   "source": [
    "def evaluate_accuracy(data_loader, verbose=True):\n",
    "    model.eval()\n",
    "    total_loss = 0.0\n",
    "    ncorrect = ntotal = 0\n",
    "    with torch.no_grad():\n",
    "        for idx, data in enumerate(data_loader):\n",
    "            # inference \n",
    "            output = model(data[\"document\"].to(device))[0] \n",
    "            output = output[:, -1] # only last vector\n",
    "            # total number of examples\n",
    "            ntotal +=  output.shape[0]\n",
    "            # number of correct predictions \n",
    "            predictions = torch.round(output)\n",
    "            label = data['label'].to(device)\n",
    "            ncorrect += torch.sum(predictions==label) #fill me # number of correct prediction - hint: use torch.sum \n",
    "        acc = ncorrect.item() / ntotal\n",
    "        if verbose:\n",
    "          print(\"validation accuracy: {:3.2f}\".format(acc*100))\n",
    "        return acc"
   ]
  },
  {
   "cell_type": "code",
   "execution_count": 9,
   "metadata": {
    "id": "RRYiKhZEEidb"
   },
   "outputs": [
    {
     "name": "stderr",
     "output_type": "stream",
     "text": [
      "Epoch 1: 100%|█████████████████████████████████████████| 390/390 [00:12<00:00, 31.90batch/s, accuracy=58.3, loss=0.666]\n"
     ]
    },
    {
     "name": "stdout",
     "output_type": "stream",
     "text": [
      "===> Epoch 1 Complete: Avg. Loss: 0.6660, Validation Accuracy: 68.11%\n",
      "Validation accuracy improved, saving model...\n",
      "\n"
     ]
    },
    {
     "name": "stderr",
     "output_type": "stream",
     "text": [
      "Epoch 2: 100%|██████████████████████████████████████████| 390/390 [00:11<00:00, 33.30batch/s, accuracy=70.2, loss=0.57]\n"
     ]
    },
    {
     "name": "stdout",
     "output_type": "stream",
     "text": [
      "===> Epoch 2 Complete: Avg. Loss: 0.5700, Validation Accuracy: 75.97%\n",
      "Validation accuracy improved, saving model...\n",
      "\n"
     ]
    },
    {
     "name": "stderr",
     "output_type": "stream",
     "text": [
      "Epoch 3: 100%|█████████████████████████████████████████| 390/390 [00:11<00:00, 34.02batch/s, accuracy=74.8, loss=0.511]\n"
     ]
    },
    {
     "name": "stdout",
     "output_type": "stream",
     "text": [
      "===> Epoch 3 Complete: Avg. Loss: 0.5105, Validation Accuracy: 78.48%\n",
      "Validation accuracy improved, saving model...\n",
      "\n"
     ]
    },
    {
     "name": "stderr",
     "output_type": "stream",
     "text": [
      "Epoch 4: 100%|█████████████████████████████████████████| 390/390 [00:11<00:00, 34.37batch/s, accuracy=78.5, loss=0.461]\n"
     ]
    },
    {
     "name": "stdout",
     "output_type": "stream",
     "text": [
      "===> Epoch 4 Complete: Avg. Loss: 0.4608, Validation Accuracy: 80.91%\n",
      "Validation accuracy improved, saving model...\n",
      "\n"
     ]
    },
    {
     "name": "stderr",
     "output_type": "stream",
     "text": [
      "Epoch 5: 100%|█████████████████████████████████████████| 390/390 [00:11<00:00, 33.96batch/s, accuracy=80.4, loss=0.428]\n"
     ]
    },
    {
     "name": "stdout",
     "output_type": "stream",
     "text": [
      "===> Epoch 5 Complete: Avg. Loss: 0.4276, Validation Accuracy: 82.01%\n",
      "Validation accuracy improved, saving model...\n",
      "\n"
     ]
    },
    {
     "name": "stderr",
     "output_type": "stream",
     "text": [
      "Epoch 6: 100%|█████████████████████████████████████████| 390/390 [00:11<00:00, 33.61batch/s, accuracy=82.2, loss=0.396]\n"
     ]
    },
    {
     "name": "stdout",
     "output_type": "stream",
     "text": [
      "===> Epoch 6 Complete: Avg. Loss: 0.3956, Validation Accuracy: 82.73%\n",
      "Validation accuracy improved, saving model...\n",
      "\n"
     ]
    },
    {
     "name": "stderr",
     "output_type": "stream",
     "text": [
      "Epoch 7: 100%|█████████████████████████████████████████| 390/390 [00:11<00:00, 33.47batch/s, accuracy=83.1, loss=0.379]\n"
     ]
    },
    {
     "name": "stdout",
     "output_type": "stream",
     "text": [
      "===> Epoch 7 Complete: Avg. Loss: 0.3786, Validation Accuracy: 82.92%\n",
      "Validation accuracy improved, saving model...\n",
      "\n"
     ]
    },
    {
     "name": "stderr",
     "output_type": "stream",
     "text": [
      "Epoch 8: 100%|██████████████████████████████████████████| 390/390 [00:11<00:00, 34.08batch/s, accuracy=84.3, loss=0.36]\n"
     ]
    },
    {
     "name": "stdout",
     "output_type": "stream",
     "text": [
      "===> Epoch 8 Complete: Avg. Loss: 0.3599, Validation Accuracy: 83.65%\n",
      "Validation accuracy improved, saving model...\n",
      "\n"
     ]
    },
    {
     "name": "stderr",
     "output_type": "stream",
     "text": [
      "Epoch 9: 100%|█████████████████████████████████████████| 390/390 [00:11<00:00, 34.55batch/s, accuracy=85.3, loss=0.344]\n"
     ]
    },
    {
     "name": "stdout",
     "output_type": "stream",
     "text": [
      "===> Epoch 9 Complete: Avg. Loss: 0.3436, Validation Accuracy: 84.05%\n",
      "Validation accuracy improved, saving model...\n",
      "\n"
     ]
    },
    {
     "name": "stderr",
     "output_type": "stream",
     "text": [
      "Epoch 10: 100%|████████████████████████████████████████| 390/390 [00:11<00:00, 33.44batch/s, accuracy=85.6, loss=0.331]\n"
     ]
    },
    {
     "name": "stdout",
     "output_type": "stream",
     "text": [
      "===> Epoch 10 Complete: Avg. Loss: 0.3314, Validation Accuracy: 82.72%\n"
     ]
    },
    {
     "name": "stderr",
     "output_type": "stream",
     "text": [
      "Epoch 11: 100%|████████████████████████████████████████| 390/390 [00:11<00:00, 34.61batch/s, accuracy=86.8, loss=0.315]\n"
     ]
    },
    {
     "name": "stdout",
     "output_type": "stream",
     "text": [
      "===> Epoch 11 Complete: Avg. Loss: 0.3146, Validation Accuracy: 83.70%\n",
      "Validation accuracy did not improve for 2 epochs, stopping training...\n"
     ]
    },
    {
     "name": "stderr",
     "output_type": "stream",
     "text": [
      "Epoch 12: 100%|████████████████████████████████████████| 390/390 [00:11<00:00, 34.40batch/s, accuracy=87.3, loss=0.304]\n"
     ]
    },
    {
     "name": "stdout",
     "output_type": "stream",
     "text": [
      "===> Epoch 12 Complete: Avg. Loss: 0.3041, Validation Accuracy: 83.93%\n"
     ]
    },
    {
     "name": "stderr",
     "output_type": "stream",
     "text": [
      "Epoch 13: 100%|████████████████████████████████████████| 390/390 [00:11<00:00, 34.05batch/s, accuracy=87.9, loss=0.292]\n"
     ]
    },
    {
     "name": "stdout",
     "output_type": "stream",
     "text": [
      "===> Epoch 13 Complete: Avg. Loss: 0.2923, Validation Accuracy: 84.48%\n",
      "Validation accuracy improved, saving model...\n",
      "\n"
     ]
    },
    {
     "name": "stderr",
     "output_type": "stream",
     "text": [
      "Epoch 14: 100%|█████████████████████████████████████████| 390/390 [00:11<00:00, 33.73batch/s, accuracy=88.3, loss=0.28]\n"
     ]
    },
    {
     "name": "stdout",
     "output_type": "stream",
     "text": [
      "===> Epoch 14 Complete: Avg. Loss: 0.2805, Validation Accuracy: 84.78%\n",
      "Validation accuracy improved, saving model...\n",
      "\n"
     ]
    },
    {
     "name": "stderr",
     "output_type": "stream",
     "text": [
      "Epoch 15: 100%|████████████████████████████████████████| 390/390 [00:11<00:00, 33.80batch/s, accuracy=88.7, loss=0.276]\n"
     ]
    },
    {
     "name": "stdout",
     "output_type": "stream",
     "text": [
      "===> Epoch 15 Complete: Avg. Loss: 0.2757, Validation Accuracy: 84.61%\n",
      "Loading best checkpoint...\n",
      "done.\n"
     ]
    }
   ],
   "source": [
    "from tqdm import tqdm\n",
    "\n",
    "model = HAN(input_size, n_units, index_to_word).to(device)\n",
    "model = model.double()\n",
    "lr = 0.001  # learning rate\n",
    "criterion = torch.nn.BCELoss() # fill the gap, use Binary cross entropy from torch.nn: https://pytorch.org/docs/stable/nn.html#loss-functions\n",
    "optimizer = torch.optim.Adam(model.parameters(), lr=lr) #fill me\n",
    "\n",
    "def train(x_train=my_docs_array_train,\n",
    "          y_train=my_labels_array_train,\n",
    "          x_test=my_docs_array_test,\n",
    "          y_test=my_labels_array_test,\n",
    "          word_dict=index_to_word,\n",
    "          batch_size=batch_size):\n",
    "  \n",
    "    train_data = get_loader(x_train, y_train, batch_size)\n",
    "    test_data = get_loader(my_docs_array_test, my_labels_array_test, batch_size)\n",
    "\n",
    "    best_validation_acc = 0.0\n",
    "    p = 0 # patience\n",
    "\n",
    "    for epoch in range(1, nb_epochs + 1): \n",
    "        losses = []\n",
    "        accuracies = []\n",
    "        with tqdm(train_data, unit=\"batch\") as tepoch:\n",
    "            for idx, data in enumerate(tepoch):\n",
    "                tepoch.set_description(f\"Epoch {epoch}\")\n",
    "                model.train()\n",
    "                optimizer.zero_grad()\n",
    "                input = data['document'].to(device)\n",
    "                label = data['label'].to(device)\n",
    "                label = label.double()\n",
    "                output = model.forward(input)[0]\n",
    "                output = output[:, -1]\n",
    "                loss = criterion(output, label) # fill the gap # compute the loss\n",
    "                loss.backward()\n",
    "                torch.nn.utils.clip_grad_norm_(model.parameters(), 0.5) # prevent exploding gradient \n",
    "                optimizer.step()\n",
    "\n",
    "                losses.append(loss.item())\n",
    "                accuracy = torch.sum(torch.round(output) == label).item() / batch_size\n",
    "                accuracies.append(accuracy)\n",
    "                tepoch.set_postfix(loss=sum(losses)/len(losses), accuracy=100. * sum(accuracies)/len(accuracies))\n",
    "\n",
    "        train_acc = evaluate_accuracy(train_data, False)\n",
    "        test_acc = evaluate_accuracy(test_data, False)\n",
    "        print(\"===> Epoch {} Complete: Avg. Loss: {:.4f}, Validation Accuracy: {:3.2f}%\"\n",
    "              .format(epoch, sum(losses)/len(losses), 100.*test_acc))\n",
    "        if test_acc >= best_validation_acc:\n",
    "            best_validation_acc = test_acc\n",
    "            print(\"Validation accuracy improved, saving model...\")\n",
    "            torch.save(model.state_dict(), './best_model.pt')\n",
    "            p = 0\n",
    "            print()\n",
    "        else:\n",
    "            p += 1\n",
    "            if p==my_patience:\n",
    "                print(\"Validation accuracy did not improve for {} epochs, stopping training...\".format(my_patience))\n",
    "    print(\"Loading best checkpoint...\")    \n",
    "    model.load_state_dict(torch.load('./best_model.pt'))\n",
    "    model.eval()\n",
    "    print('done.')\n",
    "\n",
    "train()"
   ]
  },
  {
   "cell_type": "markdown",
   "metadata": {
    "id": "Dvyr8B5QHlst"
   },
   "source": [
    "### = = = = = Extraction of Attention Coefficients = = = = =\n",
    "In this section, we will extract and display the attention coefficients on two levels: sentence level and word level. To do so, we will extract the corresponding weights from our model.\n",
    "#### <b>Task 3:</b>"
   ]
  },
  {
   "cell_type": "code",
   "execution_count": 24,
   "metadata": {
    "id": "UVr8cS4MHlst",
    "scrolled": true
   },
   "outputs": [
    {
     "name": "stdout",
     "output_type": "stream",
     "text": [
      "[['My', 'qualifications', 'for', 'this', 'review', '?'], ['I', 'own', 'all', 'the', 'Alien', 'and', 'Predator', 'movies', '&', 'I', 'have', 'and', 'have', 'read', 'almost', 'all', 'the', 'books', 'I', 'can', 'find', 'that', 'are', 'related', 'to', 'this', 'series', '.'], ['I', 'can', 'safely', 'say', ',', 'this', 'movie', 'is', 'a', 'OOV', '.'], ['Save', 'your', 'money', '&', 'do', \"n't\", 'waste', 'your', 'time', '.'], ['If', 'you', 'like', 'mindless', 'action', ',', 'mindless', 'gore', ',', 'no', 'plot', 'to', 'speak', 'of', '&', 'like', 'being', 'taken', 'by', 'Hollywood', ',', 'see', 'the', 'movie', '.'], ['If', 'you', 'are', 'a', 'serious', 'Alien', 'series', 'fan', ',', 'send', 'a', 'message', 'to', 'the', 'over', 'stuffed', ',', 'over', 'paid', 'suits', 'in', 'Hollywood', '&', '20th', 'Century', 'Fox', '&', 'do', \"n't\", 'give'], ['This', 'movie', 'has', 'so', 'many', 'plot', 'holes', 'in', 'it', 'you', 'could', 'OOV', 'pasta', 'through', 'it', '.']]\n"
     ]
    }
   ],
   "source": [
    "# select last review:\n",
    "my_review = my_docs_array_test[-5:,:,:]\n",
    " \n",
    "# convert integer review to text:\n",
    "index_to_word[1] = 'OOV'\n",
    "my_review_text = [[index_to_word[idx] for idx in sent if idx in index_to_word] for sent in my_review.tolist()[0]]\n",
    "\n",
    "print(my_review_text)"
   ]
  },
  {
   "cell_type": "markdown",
   "metadata": {
    "id": "wHDJ7JiqHlsu"
   },
   "source": [
    "###   &emsp;&emsp;  = = = = = Attention Over Sentences in the Document = = = = ="
   ]
  },
  {
   "cell_type": "code",
   "execution_count": 25,
   "metadata": {
    "colab": {
     "base_uri": "https://localhost:8080/"
    },
    "id": "yooWg3kkHlsu",
    "outputId": "2421291a-c557-46a9-8f75-74c998053f74"
   },
   "outputs": [
    {
     "name": "stdout",
     "output_type": "stream",
     "text": [
      "7.8 My qualifications for this review ?\n",
      "8.09 I own all the Alien and Predator movies & I have and have read almost all the books I can find that are related to this series .\n",
      "14.0 I can safely say , this movie is a OOV .\n",
      "35.25 Save your money & do n't waste your time .\n",
      "7.53 If you like mindless action , mindless gore , no plot to speak of & like being taken by Hollywood , see the movie .\n",
      "8.41 If you are a serious Alien series fan , send a message to the over stuffed , over paid suits in Hollywood & 20th Century Fox & do n't give\n",
      "18.92 This movie has so many plot holes in it you could OOV pasta through it .\n"
     ]
    }
   ],
   "source": [
    "my_input = torch.tensor(my_review).to(device)\n",
    "sent_coeffs = model.forward(my_input)[2]\n",
    "sent_coeffs = sent_coeffs[0,:,:]\n",
    "\n",
    "for elt in zip(sent_coeffs[:,0].tolist(),[' '.join(elt) for elt in my_review_text]):\n",
    "    print(round(elt[0]*100,2),elt[1])"
   ]
  },
  {
   "cell_type": "markdown",
   "metadata": {
    "id": "rII-DNrKHlsu"
   },
   "source": [
    "### &emsp;&emsp; = = = = = Attention Over Words in Each Sentence = = = = ="
   ]
  },
  {
   "cell_type": "code",
   "execution_count": 26,
   "metadata": {
    "colab": {
     "base_uri": "https://localhost:8080/"
    },
    "id": "JyFjAga6Hlsu",
    "outputId": "d9640e73-a3a1-4745-b215-d55470036a3c",
    "scrolled": true
   },
   "outputs": [
    {
     "name": "stdout",
     "output_type": "stream",
     "text": [
      "('My', 0.04322487144668034)\n",
      "('qualifications', 0.05740911467985909)\n",
      "('for', 0.04221436426902895)\n",
      "('this', 0.03762763882790029)\n",
      "('review', 0.049934280279544746)\n",
      "('?', 0.052032918559249165)\n",
      "= = = =\n",
      "('I', 0.03880938749658358)\n",
      "('own', 0.028227324938628638)\n",
      "('all', 0.034486170050654776)\n",
      "('the', 0.027872352404946676)\n",
      "('Alien', 0.09715767890220363)\n",
      "('and', 0.03817438862846461)\n",
      "('Predator', 0.08228158579628778)\n",
      "('movies', 0.027617303806024354)\n",
      "('&', 0.025068116198917266)\n",
      "('I', 0.02423523855417599)\n",
      "('have', 0.023272346319724493)\n",
      "('and', 0.02437903014839657)\n",
      "('have', 0.02206714496967554)\n",
      "('read', 0.03671260060159055)\n",
      "('almost', 0.025935296927112387)\n",
      "('all', 0.02496695920367788)\n",
      "('the', 0.019916440807830983)\n",
      "('books', 0.02385582314384015)\n",
      "('I', 0.024415302339321095)\n",
      "('can', 0.02359575416356501)\n",
      "('find', 0.028677525710348924)\n",
      "('that', 0.03302017472057713)\n",
      "('are', 0.025687937998548405)\n",
      "('related', 0.02511677151646435)\n",
      "('to', 0.02409256398439847)\n",
      "('this', 0.026458235839321772)\n",
      "('series', 0.06310498442214933)\n",
      "('.', 0.03889072251861542)\n",
      "= = = =\n",
      "('I', 0.03756576396551474)\n",
      "('can', 0.032001665304893824)\n",
      "('safely', 0.03457431205199175)\n",
      "('say', 0.02892142582899349)\n",
      "(',', 0.0324144374991306)\n",
      "('this', 0.03961386469087847)\n",
      "('movie', 0.04284255637976519)\n",
      "('is', 0.03763627724757537)\n",
      "('a', 0.05103143508828687)\n",
      "('OOV', 0.051383597631649916)\n",
      "('.', 0.04195811936641709)\n",
      "= = = =\n",
      "('Save', 0.12353858583784587)\n",
      "('your', 0.06396825947945053)\n",
      "('money', 0.08211204999279399)\n",
      "('&', 0.043998633622691435)\n",
      "('do', 0.040137653006324325)\n",
      "(\"n't\", 0.03055506483301987)\n",
      "('waste', 0.17857829184085972)\n",
      "('your', 0.031402896762982156)\n",
      "('time', 0.025894519520197112)\n",
      "('.', 0.02784130131588483)\n",
      "= = = =\n",
      "('If', 0.04003018872840631)\n",
      "('you', 0.03778627688029693)\n",
      "('like', 0.03345133827769535)\n",
      "('mindless', 0.03907033432146048)\n",
      "('action', 0.04012821388706136)\n",
      "(',', 0.03219644957330045)\n",
      "('mindless', 0.04936024328836604)\n",
      "('gore', 0.043696611442843536)\n",
      "(',', 0.029459704453123337)\n",
      "('no', 0.040622001983127404)\n",
      "('plot', 0.05439466968810244)\n",
      "('to', 0.03064546250685799)\n",
      "('speak', 0.023483980860499704)\n",
      "('of', 0.022090657641753084)\n",
      "('&', 0.026179312964082595)\n",
      "('like', 0.027750942652660027)\n",
      "('being', 0.02101146358274512)\n",
      "('taken', 0.024421842479960144)\n",
      "('by', 0.029302142044400976)\n",
      "('Hollywood', 0.04437836472271452)\n",
      "(',', 0.030270284694285537)\n",
      "('see', 0.03699844172117709)\n",
      "('the', 0.02602314002117332)\n",
      "('movie', 0.041497840673001385)\n",
      "('.', 0.03258191624532833)\n",
      "= = = =\n",
      "('If', 0.03882901731302478)\n",
      "('you', 0.02910626528599235)\n",
      "('are', 0.02412435986954444)\n",
      "('a', 0.0247085774807156)\n",
      "('serious', 0.03796489645395097)\n",
      "('Alien', 0.04436020186204912)\n",
      "('series', 0.03509519437434281)\n",
      "('fan', 0.026560396643637345)\n",
      "(',', 0.027643430851955364)\n",
      "('send', 0.024944411035797483)\n",
      "('a', 0.025646061111737416)\n",
      "('message', 0.03681213627292466)\n",
      "('to', 0.023055161902011904)\n",
      "('the', 0.018789441536991663)\n",
      "('over', 0.02731454329590146)\n",
      "('stuffed', 0.04265539833534018)\n",
      "(',', 0.024045676555866435)\n",
      "('over', 0.02527363830353651)\n",
      "('paid', 0.04995919192967844)\n",
      "('suits', 0.03666322278065953)\n",
      "('in', 0.027118893940853175)\n",
      "('Hollywood', 0.03620764244380342)\n",
      "('&', 0.03312622045322743)\n",
      "('20th', 0.06296334277042297)\n",
      "('Century', 0.06009328584826936)\n",
      "('Fox', 0.03902915737218294)\n",
      "('&', 0.030268560438367044)\n",
      "('do', 0.03151800439650806)\n",
      "(\"n't\", 0.031111353367552334)\n",
      "('give', 0.025012315678664108)\n",
      "= = = =\n",
      "('This', 0.043915213580369275)\n",
      "('movie', 0.04063142577673717)\n",
      "('has', 0.058036838612651034)\n",
      "('so', 0.0724771961303519)\n",
      "('many', 0.08211663072544144)\n",
      "('plot', 0.0872338598160928)\n",
      "('holes', 0.049058326195743664)\n",
      "('in', 0.022325899247582427)\n",
      "('it', 0.02663142074496178)\n",
      "('you', 0.028913492055935335)\n",
      "('could', 0.029777831880463835)\n",
      "('OOV', 0.020285032198015175)\n",
      "('pasta', 0.021915191491516547)\n",
      "('through', 0.030798603897338205)\n",
      "('it', 0.02512180808683194)\n",
      "('.', 0.03161034763381088)\n",
      "= = = =\n",
      "('qualifications', 0.05740911467985909)\n",
      "('?', 0.052032918559249165)\n",
      "('review', 0.049934280279544746)\n",
      "('My', 0.04322487144668034)\n",
      "('for', 0.04221436426902895)\n",
      "('this', 0.03762763882790029)\n",
      "= = = =\n",
      "('Alien', 0.09715767890220363)\n",
      "('Predator', 0.08228158579628778)\n",
      "('series', 0.06310498442214933)\n",
      "('.', 0.03889072251861542)\n",
      "('I', 0.03880938749658358)\n",
      "('and', 0.03817438862846461)\n",
      "('read', 0.03671260060159055)\n",
      "('all', 0.034486170050654776)\n",
      "('that', 0.03302017472057713)\n",
      "('find', 0.028677525710348924)\n",
      "('own', 0.028227324938628638)\n",
      "('the', 0.027872352404946676)\n",
      "('movies', 0.027617303806024354)\n",
      "('this', 0.026458235839321772)\n",
      "('almost', 0.025935296927112387)\n",
      "('are', 0.025687937998548405)\n",
      "('related', 0.02511677151646435)\n",
      "('&', 0.025068116198917266)\n",
      "('all', 0.02496695920367788)\n",
      "('I', 0.024415302339321095)\n",
      "('and', 0.02437903014839657)\n",
      "('I', 0.02423523855417599)\n",
      "('to', 0.02409256398439847)\n",
      "('books', 0.02385582314384015)\n",
      "('can', 0.02359575416356501)\n",
      "('have', 0.023272346319724493)\n",
      "('have', 0.02206714496967554)\n",
      "('the', 0.019916440807830983)\n",
      "= = = =\n",
      "('OOV', 0.051383597631649916)\n",
      "('a', 0.05103143508828687)\n",
      "('movie', 0.04284255637976519)\n",
      "('.', 0.04195811936641709)\n",
      "('this', 0.03961386469087847)\n",
      "('is', 0.03763627724757537)\n",
      "('I', 0.03756576396551474)\n",
      "('safely', 0.03457431205199175)\n",
      "(',', 0.0324144374991306)\n",
      "('can', 0.032001665304893824)\n",
      "('say', 0.02892142582899349)\n",
      "= = = =\n",
      "('waste', 0.17857829184085972)\n",
      "('Save', 0.12353858583784587)\n",
      "('money', 0.08211204999279399)\n",
      "('your', 0.06396825947945053)\n",
      "('&', 0.043998633622691435)\n",
      "('do', 0.040137653006324325)\n",
      "('your', 0.031402896762982156)\n",
      "(\"n't\", 0.03055506483301987)\n",
      "('.', 0.02784130131588483)\n",
      "('time', 0.025894519520197112)\n",
      "= = = =\n",
      "('plot', 0.05439466968810244)\n",
      "('mindless', 0.04936024328836604)\n",
      "('Hollywood', 0.04437836472271452)\n",
      "('gore', 0.043696611442843536)\n",
      "('movie', 0.041497840673001385)\n",
      "('no', 0.040622001983127404)\n",
      "('action', 0.04012821388706136)\n",
      "('If', 0.04003018872840631)\n",
      "('mindless', 0.03907033432146048)\n",
      "('you', 0.03778627688029693)\n",
      "('see', 0.03699844172117709)\n",
      "('like', 0.03345133827769535)\n",
      "('.', 0.03258191624532833)\n",
      "(',', 0.03219644957330045)\n",
      "('to', 0.03064546250685799)\n",
      "(',', 0.030270284694285537)\n",
      "(',', 0.029459704453123337)\n",
      "('by', 0.029302142044400976)\n",
      "('like', 0.027750942652660027)\n",
      "('&', 0.026179312964082595)\n",
      "('the', 0.02602314002117332)\n",
      "('taken', 0.024421842479960144)\n",
      "('speak', 0.023483980860499704)\n",
      "('of', 0.022090657641753084)\n",
      "('being', 0.02101146358274512)\n",
      "= = = =\n",
      "('20th', 0.06296334277042297)\n",
      "('Century', 0.06009328584826936)\n",
      "('paid', 0.04995919192967844)\n",
      "('Alien', 0.04436020186204912)\n",
      "('stuffed', 0.04265539833534018)\n",
      "('Fox', 0.03902915737218294)\n",
      "('If', 0.03882901731302478)\n",
      "('serious', 0.03796489645395097)\n",
      "('message', 0.03681213627292466)\n",
      "('suits', 0.03666322278065953)\n",
      "('Hollywood', 0.03620764244380342)\n",
      "('series', 0.03509519437434281)\n",
      "('&', 0.03312622045322743)\n",
      "('do', 0.03151800439650806)\n",
      "(\"n't\", 0.031111353367552334)\n",
      "('&', 0.030268560438367044)\n",
      "('you', 0.02910626528599235)\n",
      "(',', 0.027643430851955364)\n",
      "('over', 0.02731454329590146)\n",
      "('in', 0.027118893940853175)\n",
      "('fan', 0.026560396643637345)\n",
      "('a', 0.025646061111737416)\n",
      "('over', 0.02527363830353651)\n",
      "('give', 0.025012315678664108)\n",
      "('send', 0.024944411035797483)\n",
      "('a', 0.0247085774807156)\n",
      "('are', 0.02412435986954444)\n",
      "(',', 0.024045676555866435)\n",
      "('to', 0.023055161902011904)\n",
      "('the', 0.018789441536991663)\n",
      "= = = =\n",
      "('plot', 0.0872338598160928)\n",
      "('many', 0.08211663072544144)\n",
      "('so', 0.0724771961303519)\n",
      "('has', 0.058036838612651034)\n",
      "('holes', 0.049058326195743664)\n",
      "('This', 0.043915213580369275)\n",
      "('movie', 0.04063142577673717)\n",
      "('.', 0.03161034763381088)\n",
      "('through', 0.030798603897338205)\n",
      "('could', 0.029777831880463835)\n",
      "('you', 0.028913492055935335)\n",
      "('it', 0.02663142074496178)\n",
      "('it', 0.02512180808683194)\n",
      "('in', 0.022325899247582427)\n",
      "('pasta', 0.021915191491516547)\n",
      "('OOV', 0.020285032198015175)\n",
      "= = = =\n"
     ]
    }
   ],
   "source": [
    "word_coeffs = model.forward(my_input)[1]\n",
    "\n",
    "word_coeffs_list = word_coeffs.reshape(35,30).tolist()\n",
    "\n",
    "# match text and coefficients:\n",
    "text_word_coeffs = [list(zip(words,word_coeffs_list[idx][:len(words)])) for idx,words in enumerate(my_review_text)]\n",
    "\n",
    "for sent in text_word_coeffs:\n",
    "    [print(elt) for elt in sent]\n",
    "    print('= = = =')\n",
    "\n",
    "# sort words by importance within each sentence:\n",
    "text_word_coeffs_sorted = [sorted(elt,key=operator.itemgetter(1),reverse=True) for elt in text_word_coeffs]\n",
    "\n",
    "for sent in text_word_coeffs_sorted:\n",
    "    [print(elt) for elt in sent]\n",
    "    print('= = = =')"
   ]
  },
  {
   "cell_type": "code",
   "execution_count": null,
   "metadata": {},
   "outputs": [],
   "source": []
  }
 ],
 "metadata": {
  "accelerator": "GPU",
  "colab": {
   "collapsed_sections": [],
   "provenance": []
  },
  "kernelspec": {
   "display_name": "Python 3 (ipykernel)",
   "language": "python",
   "name": "python3"
  },
  "language_info": {
   "codemirror_mode": {
    "name": "ipython",
    "version": 3
   },
   "file_extension": ".py",
   "mimetype": "text/x-python",
   "name": "python",
   "nbconvert_exporter": "python",
   "pygments_lexer": "ipython3",
   "version": "3.9.13"
  },
  "vscode": {
   "interpreter": {
    "hash": "b0fa6594d8f4cbf19f97940f81e996739fb7646882a419484c72d19e05852a7e"
   }
  }
 },
 "nbformat": 4,
 "nbformat_minor": 1
}
