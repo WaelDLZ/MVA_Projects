{
 "cells": [
  {
   "cell_type": "markdown",
   "metadata": {
    "id": "DlAfI8mCWAf3"
   },
   "source": [
    "<center><h2>ALTeGraD 2022<br>Lab Session 2: Transfer learning for NLP</h2> 27 / 10 / 2022<br> M. Kamal Eddine, H. Abdine<br><br>\n",
    "\n",
    "\n",
    "<b>Student name:</b> Waël Doulazmi\n",
    "\n",
    "</center>\n",
    "\n",
    "<br><br>\n",
    "In this lab we will:\n",
    "* Implement and pretrain a language model with transformer architecture.\n",
    "* Use the pretrained model (transfer learning) to perform a sentiment analysis task which consists of classifying some books reviews into positive and negative ones.\n",
    "* Compare the performance of the pretrained model to a model trained from scratch.\n",
    " <br>\n",
    " \n",
    "<b>The deadline for this lab is November 14, 2022 11:59 PM.</b> More details about the submission and the architecture for this lab can be found in the handout PDF."
   ]
  },
  {
   "cell_type": "code",
   "execution_count": 1,
   "metadata": {
    "id": "IqukuIe0Rb_c"
   },
   "outputs": [],
   "source": [
    "import math\n",
    "\n",
    "import torch\n",
    "import torch.nn as nn\n",
    "from torch.nn.utils.rnn import pad_sequence\n",
    "\n",
    "device = torch.device(\"cuda\" if torch.cuda.is_available() else \"cpu\")"
   ]
  },
  {
   "cell_type": "markdown",
   "metadata": {
    "id": "5FF6fjkqgN39"
   },
   "source": [
    "### The Model"
   ]
  },
  {
   "cell_type": "code",
   "execution_count": 2,
   "metadata": {
    "id": "p0cj9WkSFQwl"
   },
   "outputs": [],
   "source": [
    "class TransformerModel(nn.Module):\n",
    "    def __init__(self, ntoken, nhead, nhid, nlayers, dropout=0.5):\n",
    "        super(TransformerModel, self).__init__()\n",
    "        '''\n",
    "        ntokens: the size of vocabulary\n",
    "        nhid: the hidden dimension of the model.\n",
    "        We assume that embedding_dim = nhid\n",
    "        nlayers: the number of nn.TransformerEncoderLayer in nn.TransformerEncoder\n",
    "        nhead: the number of heads in the multiheadattention models\n",
    "        dropout: the dropout value\n",
    "         '''\n",
    "        self.model_type = \"Transformer\"\n",
    "        self.encoder = nn.Embedding(num_embeddings=ntoken, embedding_dim=nhid) # fill me, nhid = the dim_embed\n",
    "        self.pos_encoder = PositionalEncoding(nhid, dropout=dropout) #fill me, the PositionalEncoding class is implemented in the next cell\n",
    "        encoder_layers = nn.TransformerEncoderLayer(d_model=nhid, nhead=nhead, dim_feedforward=nhid,\n",
    "                                                   dropout=dropout) #fill me we assume nhid = d_model = dim_feedforward\n",
    "        self.transformer_encoder = nn.TransformerEncoder(encoder_layers, nlayers) #fill me\n",
    "        self.nhid = nhid\n",
    "        self.init_weights()\n",
    "\n",
    "    def generate_square_subsequent_mask(self, sz):\n",
    "        mask = (torch.triu(torch.ones(sz, sz)) == 1).transpose(0, 1)\n",
    "        mask = (\n",
    "            mask.float()\n",
    "            .masked_fill(mask == 0, float(\"-inf\"))\n",
    "            .masked_fill(mask == 1, float(0.0))\n",
    "        )\n",
    "        return mask\n",
    "\n",
    "    def init_weights(self):\n",
    "        initrange = 0.1\n",
    "        self.encoder.weight.data.uniform_(-initrange, initrange)\n",
    "\n",
    "    def forward(self, src, src_mask):\n",
    "        src = self.encoder(src) * math.sqrt(self.nhid) \n",
    "        src = self.pos_encoder(src)\n",
    "        output = self.transformer_encoder(src, src_mask)\n",
    "        return output\n",
    "\n",
    "\n",
    "class ClassificationHead(nn.Module):\n",
    "    def __init__(self, nhid, nclasses):\n",
    "        super(ClassificationHead, self).__init__()\n",
    "        self.decoder = nn.Linear(nhid, nclasses)\n",
    "        self.init_weights()\n",
    "\n",
    "    def init_weights(self):\n",
    "        initrange = 0.1\n",
    "        self.decoder.bias.data.zero_()\n",
    "        self.decoder.weight.data.uniform_(-initrange, initrange)\n",
    "\n",
    "    def forward(self, src):\n",
    "        output = self.decoder(src)\n",
    "        return output\n",
    "    \n",
    "class Model(nn.Module):\n",
    "    def __init__(self, ntoken, nhead, nhid, nlayers, nclasses, dropout=0.5):\n",
    "        super(Model, self).__init__()\n",
    "        self.base = TransformerModel(ntoken, nhead, nhid, nlayers, dropout)\n",
    "        self.classifier = ClassificationHead(nhid, nclasses)\n",
    "\n",
    "    def forward(self, src, src_mask):\n",
    "        # base model\n",
    "        x = self.base(src, src_mask)\n",
    "        # classifier model\n",
    "        output = self.classifier(x)\n",
    "        return output"
   ]
  },
  {
   "cell_type": "code",
   "execution_count": 3,
   "metadata": {
    "id": "kt2QQohaFZry"
   },
   "outputs": [],
   "source": [
    "class PositionalEncoding(nn.Module):\n",
    "    def __init__(self, nhid, dropout=0.1, max_len=5000):\n",
    "        super(PositionalEncoding, self).__init__()\n",
    "        self.dropout = nn.Dropout(p=dropout)\n",
    "\n",
    "        pe = torch.zeros(max_len, nhid)\n",
    "        position = torch.arange(0, max_len, dtype=torch.float).unsqueeze(1)\n",
    "        div_term = torch.exp(\n",
    "            torch.arange(0, nhid, 2).float() * (-math.log(10000.0) / nhid)\n",
    "        )\n",
    "        pe[:, 0::2] = torch.sin(position * div_term)\n",
    "        pe[:, 1::2] = torch.cos(position * div_term)\n",
    "        pe = pe.unsqueeze(0).transpose(0, 1)\n",
    "        self.register_buffer(\"pe\", pe)\n",
    "\n",
    "    def forward(self, x):\n",
    "        x = x + self.pe[: x.size(0), :]\n",
    "        return self.dropout(x)"
   ]
  },
  {
   "cell_type": "markdown",
   "metadata": {
    "id": "SfEYHJx2JW6l"
   },
   "source": [
    "Let's verify if our model works, by applying one inference step"
   ]
  },
  {
   "cell_type": "code",
   "execution_count": 10,
   "metadata": {
    "id": "rhb2gkUhJMR0"
   },
   "outputs": [
    {
     "name": "stdout",
     "output_type": "stream",
     "text": [
      "torch.Size([1, 6, 100])\n"
     ]
    }
   ],
   "source": [
    "ntokens = 100 # the size of vocabulary\n",
    "nhid = 200  # hidden dimension\n",
    "nlayers = 4  # the number of nn.TransformerEncoderLayer in nn.TransformerEncoder\n",
    "nhead = 2  # the number of heads in the multiheadattention models\n",
    "dropout = 0  # the dropout value\n",
    "\n",
    "\n",
    "model = Model(ntokens, nhead, nhid, nlayers, ntokens, dropout).to(device)\n",
    "dummy_input = torch.tensor([[2, 6, 2, 5, 43, 21]]).to(device)\n",
    "src_mask = model.base.generate_square_subsequent_mask(1).to(device)\n",
    "out = model.forward(dummy_input, src_mask)\n",
    "\n",
    "print(out.shape) # is it the right shape?\n",
    "\n",
    "# Here output is : for each token in the vocabulary (100 tokens),\n",
    "# It's probability to come after each word (6 tokens)\n",
    "# In the given sequence (2,6,2,5,43,21)\n",
    "# so the output should be of dim 6 * 100 which is the case !"
   ]
  },
  {
   "cell_type": "markdown",
   "metadata": {
    "id": "i74NN897Fcit"
   },
   "source": [
    "## Vocabulary and Tokenization"
   ]
  },
  {
   "cell_type": "code",
   "execution_count": 15,
   "metadata": {
    "id": "vFdH_-JeFbGA"
   },
   "outputs": [
    {
     "name": "stdout",
     "output_type": "stream",
     "text": [
      "▁trop\n"
     ]
    }
   ],
   "source": [
    "path_vocab = \"data/dict.txt\"\n",
    "token2ind = {\"<sos>\": 0, \"<pad>\": 1, \"<eos>\": 2, \"<oov>\": 3} # the 4 first indices are reserved to special tokens\n",
    "with open(path_vocab, \"r\", encoding='utf-8') as f:\n",
    "    for idx, line in enumerate(f):\n",
    "        word = line.split()[0].strip()\n",
    "        token2ind[word] =  4 + idx\n",
    "\n",
    "ind2token = {token2ind[token]: token for token in token2ind.keys()}\n",
    "\n",
    "print(ind2token[1111])"
   ]
  },
  {
   "cell_type": "markdown",
   "metadata": {
    "id": "XOExGODajN8p"
   },
   "source": [
    "### Data Loader\n"
   ]
  },
  {
   "cell_type": "code",
   "execution_count": 16,
   "metadata": {
    "id": "Y0jN-Ar9i5Q1"
   },
   "outputs": [],
   "source": [
    "import numpy\n",
    "import torch\n",
    "from torch.nn.utils.rnn import pad_sequence\n",
    "from torch.utils.data import DataLoader, Dataset\n",
    "\n",
    "\n",
    "class Dataset(Dataset):\n",
    "    def __init__(\n",
    "        self,\n",
    "        path_documents,\n",
    "        path_labels=None,\n",
    "        token2ind={},\n",
    "        max_len=512,\n",
    "        task=\"language_modeling\",\n",
    "    ):\n",
    "        self.task = task\n",
    "        self.max_len = max_len\n",
    "        self.token2ind = token2ind\n",
    "        self.documents = []\n",
    "        self.labels = []\n",
    "        with open(path_documents, \"r\", encoding='utf_8') as f1:\n",
    "            for line in f1:\n",
    "                self.documents.append(line.strip())\n",
    "        if task == \"classification\":\n",
    "            with open(path_labels, \"r\") as f1:\n",
    "                for line in f1:\n",
    "                    self.labels.append(int(line.strip()))\n",
    "            assert len(self.labels) == len(self.documents)\n",
    "\n",
    "    def __len__(self):\n",
    "        return len(self.documents)\n",
    "\n",
    "    def __getitem__(self, index):\n",
    "        sequence = self.documents[index].split()\n",
    "        if len(sequence) > self.max_len - 1:\n",
    "            sequence = sequence[: self.max_len - 1]\n",
    "        source_sequence = [0] + [token2ind[token] if token in token2ind.keys() else 3 for token in sequence]\n",
    "        # If we didn't crop the sequence we also add the eos token\n",
    "        if len(sequence) < self.max_len - 1:\n",
    "            source_sequence.append(2)\n",
    "        #fill me (constract the input sequence using token2ind, sequence and special tokens)\n",
    "        if self.task == \"language_modeling\":\n",
    "            target = source_sequence[1:]\n",
    "            target.append(self.token2ind[\"<eos>\"])\n",
    "        elif self.task == \"classification\":\n",
    "            target = [self.labels[index]]\n",
    "        sample = {\n",
    "            \"source_sequence\": torch.tensor(source_sequence),\n",
    "            \"target\": torch.tensor(target),\n",
    "        }\n",
    "        return sample\n",
    "\n",
    "\n",
    "def MyCollator(batch):\n",
    "    source_sequences = pad_sequence(\n",
    "        #we use padding to match the length of the sequences in the same batch\n",
    "        [sample[\"source_sequence\"] for sample in batch], padding_value=token2ind[\"<pad>\"]\n",
    "    )\n",
    "    target = pad_sequence(\n",
    "        [sample[\"target\"] for sample in batch], padding_value=token2ind[\"<pad>\"]\n",
    "    )\n",
    "    return source_sequences, target.reshape(-1)\n",
    "\n",
    "\n",
    "def get_loader(\n",
    "    path_documents,\n",
    "    path_labels=None,\n",
    "    token2ind={},\n",
    "    max_len=512,\n",
    "    batch_size=32,\n",
    "    task=\"language_modeling\",\n",
    "):\n",
    "    dataset = Dataset(\n",
    "        path_documents,\n",
    "        path_labels=path_labels,\n",
    "        token2ind=token2ind,\n",
    "        max_len=512,\n",
    "        task=task,\n",
    "    )\n",
    "    data_loader = DataLoader(\n",
    "        dataset=dataset,\n",
    "        batch_size=batch_size,\n",
    "        shuffle=True,\n",
    "        collate_fn=MyCollator,\n",
    "        pin_memory=True,\n",
    "        drop_last=True,\n",
    "    )\n",
    "    return data_loader"
   ]
  },
  {
   "cell_type": "markdown",
   "metadata": {
    "id": "uTns4lHrjUTa"
   },
   "source": [
    "## The Training"
   ]
  },
  {
   "cell_type": "code",
   "execution_count": 17,
   "metadata": {
    "id": "4_jwosiLjRsS"
   },
   "outputs": [],
   "source": [
    "def train(\n",
    "    path_data_train,\n",
    "    path_labels_train=None,\n",
    "    path_data_valid=None,\n",
    "    save_interval=-1,\n",
    "    log_interval=5,\n",
    "    task=\"language_modeling\",\n",
    "    batch_size=32,\n",
    "):\n",
    "    model.train()\n",
    "    total_loss = 0.0\n",
    "    ntokens = len(token2ind)\n",
    "    data_loader = get_loader(\n",
    "        path_data_train,\n",
    "        path_labels_train,\n",
    "        token2ind,\n",
    "        task=task,\n",
    "        batch_size=batch_size,\n",
    "    )\n",
    "    \n",
    "    losses = []\n",
    "    for idx, data in enumerate(data_loader): #step 1\n",
    "        optimizer.zero_grad()\n",
    "        src_mask = model.base.generate_square_subsequent_mask(data[0].size(0)).to(\n",
    "            device\n",
    "        )\n",
    "        input = data[0].to(device)\n",
    "        output = model(input, src_mask) #step 2\n",
    "        if task == 'classification':\n",
    "            #last vector only\n",
    "            output = output[-1,:,:]\n",
    "        output = output.view(-1, output.shape[-1])\n",
    "        target =  data[1]\n",
    "        target = target.to(device)\n",
    "        loss = criterion(output, target)\n",
    "        loss.backward()\n",
    "        torch.nn.utils.clip_grad_norm_(model.parameters(), 0.5) # prevent exploding gradient \n",
    "        #fill me step 4\n",
    "        optimizer.step()\n",
    "\n",
    "        total_loss += loss.item() \n",
    "        if idx % log_interval == 0 and idx > 0:\n",
    "            cur_loss = total_loss / log_interval\n",
    "            print(\n",
    "                \"| epoch {:3d} | {:5d}/{:5d} steps | \"\n",
    "                \"loss {:5.5f} | ppl {:8.3f}\".format(\n",
    "                    epoch, idx, len(data_loader), cur_loss, math.exp(cur_loss),\n",
    "                )\n",
    "            )\n",
    "            losses.append(cur_loss)\n",
    "            total_loss = 0\n",
    "    return losses"
   ]
  },
  {
   "cell_type": "code",
   "execution_count": 24,
   "metadata": {
    "id": "pgf6BDB9jUr6"
   },
   "outputs": [],
   "source": [
    "ntokens = len(ind2token) # the size of vocabulary\n",
    "nhid = 200  # the dimension of the feedforward network model in nn.TransformerEncoder\n",
    "nlayers = 4  # the number of nn.TransformerEncoderLayer in nn.TransformerEncoder\n",
    "nhead = 2  # the number of heads in the multiheadattention models\n",
    "dropout = 0  # the dropout value\n",
    "\n",
    "nclasses = 2 # for classification task only\n",
    "\n",
    "model = Model(ntokens, nhead, nhid, nlayers, ntokens, dropout).to(device)"
   ]
  },
  {
   "cell_type": "code",
   "execution_count": 25,
   "metadata": {},
   "outputs": [
    {
     "name": "stdout",
     "output_type": "stream",
     "text": [
      "50001\n"
     ]
    }
   ],
   "source": [
    "print(ntokens)"
   ]
  },
  {
   "cell_type": "code",
   "execution_count": 19,
   "metadata": {
    "id": "u-OLy4KIkDwf"
   },
   "outputs": [],
   "source": [
    "# optimization paramerters\n",
    "\n",
    "criterion = nn.CrossEntropyLoss(ignore_index=token2ind['<pad>'])\n",
    "lr = 0.0003  # learning rate\n",
    "optimizer = torch.optim.Adam(model.parameters(), lr=lr)"
   ]
  },
  {
   "cell_type": "code",
   "execution_count": 20,
   "metadata": {
    "id": "Bwh3n9xZQy4e"
   },
   "outputs": [],
   "source": [
    "#!wget https://raw.githubusercontent.com/moussaKam/transfer_learning_transformers/main/pretraining_subset.txt\n",
    "path_data_train = \"data/pretraining_subset.txt\""
   ]
  },
  {
   "cell_type": "code",
   "execution_count": 11,
   "metadata": {
    "id": "0m11g4ScjZaR"
   },
   "outputs": [
    {
     "name": "stdout",
     "output_type": "stream",
     "text": [
      "| epoch   1 |   500/ 3125 steps | loss 7.08424 | ppl 1193.015\n",
      "| epoch   1 |  1000/ 3125 steps | loss 6.25863 | ppl  522.505\n",
      "| epoch   1 |  1500/ 3125 steps | loss 5.99199 | ppl  400.212\n",
      "| epoch   1 |  2000/ 3125 steps | loss 5.85258 | ppl  348.131\n",
      "| epoch   1 |  2500/ 3125 steps | loss 5.71147 | ppl  302.315\n",
      "| epoch   1 |  3000/ 3125 steps | loss 5.63465 | ppl  279.962\n",
      "| epoch   2 |   500/ 3125 steps | loss 5.33706 | ppl  207.900\n",
      "| epoch   2 |  1000/ 3125 steps | loss 5.28275 | ppl  196.912\n",
      "| epoch   2 |  1500/ 3125 steps | loss 5.27460 | ppl  195.312\n",
      "| epoch   2 |  2000/ 3125 steps | loss 5.22453 | ppl  185.773\n",
      "| epoch   2 |  2500/ 3125 steps | loss 5.20574 | ppl  182.316\n",
      "| epoch   2 |  3000/ 3125 steps | loss 5.17918 | ppl  177.538\n"
     ]
    }
   ],
   "source": [
    "#pretraining on a tiny subset\n",
    "log_interval = 500\n",
    "epochs = 2\n",
    "for epoch in range(1, epochs + 1): #5\n",
    "    train(\n",
    "        path_data_train,\n",
    "        save_interval=-1,\n",
    "        task=\"language_modeling\", # fill me\n",
    "        batch_size=16,\n",
    "        log_interval=log_interval,\n",
    "    )"
   ]
  },
  {
   "cell_type": "markdown",
   "metadata": {
    "id": "MeOM1dOvkO4e"
   },
   "source": [
    "## Text Generation\n"
   ]
  },
  {
   "cell_type": "code",
   "execution_count": 12,
   "metadata": {
    "id": "-BcBC6FSkMH3"
   },
   "outputs": [
    {
     "data": {
      "text/plain": [
       "<All keys matched successfully>"
      ]
     },
     "execution_count": 12,
     "metadata": {},
     "output_type": "execute_result"
    }
   ],
   "source": [
    "#!wget https://raw.githubusercontent.com/moussaKam/transfer_learning_transformers/main/pretrained_model_4layers.pt\n",
    "\n",
    "model = Model(ntokens, nhead, nhid, nlayers, ntokens).to(device) \n",
    "\n",
    "#load the checkpoint\n",
    "checkpoint = torch.load('pretrained_model_4layers.pt') \n",
    "#load state dict\n",
    "model.load_state_dict(checkpoint['model_state_dict']) "
   ]
  },
  {
   "cell_type": "code",
   "execution_count": 13,
   "metadata": {
    "id": "tBRRVsWqlIoQ"
   },
   "outputs": [
    {
     "name": "stdout",
     "output_type": "stream",
     "text": [
      "['▁Bonjour', '▁les', '▁amis', '!']\n",
      "Bonjour les amis!\n"
     ]
    }
   ],
   "source": [
    "#!pip install sentencepiece\n",
    "#!wget https://raw.githubusercontent.com/moussaKam/transfer_learning_transformers/main/sentencepiece.french.model\n",
    "\n",
    "import sentencepiece as spm\n",
    "\n",
    "s = spm.SentencePieceProcessor(model_file='sentencepiece.french.model') #load sentencepiece model\n",
    "\n",
    "#examples\n",
    "encoded = s.encode_as_pieces(\"Bonjour les amis!\")\n",
    "decoded = s.decode_pieces(encoded)\n",
    "print(encoded)\n",
    "print(decoded)"
   ]
  },
  {
   "cell_type": "code",
   "execution_count": 14,
   "metadata": {
    "id": "TtLlV05pkQI3"
   },
   "outputs": [],
   "source": [
    "def infer_next_token(sent):\n",
    "    model.eval()\n",
    "    sent_pieces = s.encode_as_pieces(sent)\n",
    "    source = [token2ind['<sos>']] + [token2ind[el] for el in sent_pieces] # list of tokens\n",
    "    source = torch.tensor(source).to(device)\n",
    "    source = source.reshape(-1, 1)\n",
    "    src_mask = model.base.generate_square_subsequent_mask(source.size(0)).to(device)\n",
    "    out = model(source, src_mask)\n",
    "    next_token_ind =  int(torch.argmax(out[-1,0,:])) # most prob token after the last token\n",
    "    return next_token_ind, out\n",
    "    \n",
    "def infer_next_tokens(sent, max_len=50):\n",
    "    not_over = True\n",
    "    length = len(sent)\n",
    "    while length < max_len and not_over:\n",
    "        token_ind = infer_next_token(sent)[0]\n",
    "        not_over = token_ind !=2\n",
    "        if not_over:\n",
    "            sent += ' ' + s.decode_pieces(ind2token[token_ind])\n",
    "            length+=1\n",
    "            print(sent)"
   ]
  },
  {
   "cell_type": "code",
   "execution_count": 15,
   "metadata": {
    "id": "f83Nn5nSly4v"
   },
   "outputs": [
    {
     "name": "stdout",
     "output_type": "stream",
     "text": [
      "Bonjour les gens\n",
      "Bonjour les gens qui\n",
      "Bonjour les gens qui ont\n",
      "Bonjour les gens qui ont été\n",
      "Bonjour les gens qui ont été très\n",
      "Bonjour les gens qui ont été très accueillants\n",
      "Bonjour les gens qui ont été très accueillants et\n",
      "Bonjour les gens qui ont été très accueillants et sympathiques\n",
      "Bonjour les gens qui ont été très accueillants et sympathiques .\n"
     ]
    }
   ],
   "source": [
    "sent = \"Bonjour les\"\n",
    "infer_next_tokens(sent)"
   ]
  },
  {
   "cell_type": "markdown",
   "metadata": {
    "id": "Lp7mjVzomoZ3"
   },
   "source": [
    "### Supervised task"
   ]
  },
  {
   "cell_type": "code",
   "execution_count": 16,
   "metadata": {
    "id": "0K1BZsblmEmx"
   },
   "outputs": [],
   "source": [
    "# !wget https://raw.githubusercontent.com/moussaKam/transfer_learning_transformers/main/cls-books/train.review.spm\n",
    "# !wget https://raw.githubusercontent.com/moussaKam/transfer_learning_transformers/main/cls-books/train.label\n",
    "# !wget https://raw.githubusercontent.com/moussaKam/transfer_learning_transformers/main/cls-books/test.review.spm\n",
    "# !wget https://raw.githubusercontent.com/moussaKam/transfer_learning_transformers/main/cls-books/test.label\n",
    "\n",
    "path_data_train = \"data/train.review.spm\"\n",
    "path_labels_train = \"data/train.label\"\n",
    "\n",
    "path_data_valid = \"data/test.review.spm\"\n",
    "path_labels_valid = \"data/test.label\""
   ]
  },
  {
   "cell_type": "code",
   "execution_count": 17,
   "metadata": {
    "id": "_MLfvjiom2SL"
   },
   "outputs": [],
   "source": [
    "# a function to evaluate the validation accuracy of the model.\n",
    "def evaluate_accuracy(data_loader, verbose=True):\n",
    "    model.eval()\n",
    "    ncorrect = ntotal = 0\n",
    "    with torch.no_grad():\n",
    "        for idx, data in enumerate(data_loader):\n",
    "            # inference \n",
    "            source = data[0].to(device)\n",
    "            src_mask = model.base.generate_square_subsequent_mask(source.size(0)).to(device)\n",
    "            output = model(source, src_mask)\n",
    "            output = nn.functional.softmax(output[-1,:,:], dim=-1)\n",
    "            # total number of examples\n",
    "            ntotal +=  output.shape[0]\n",
    "            # number of correct predictions \n",
    "            predictions = torch.round(output[:, 1])\n",
    "            #print(\"predictions\", predictions)\n",
    "            label = data[1].to(device)\n",
    "            #print(\"labels\", label)\n",
    "            ncorrect += torch.sum(predictions==label) #fill me # number of correct prediction - hint: use torch.sum \n",
    "        acc = ncorrect.item() / ntotal\n",
    "        if verbose:\n",
    "          print(\"validation accuracy: {:3.2f}\".format(acc*100))\n",
    "        return acc"
   ]
  },
  {
   "cell_type": "code",
   "execution_count": 18,
   "metadata": {
    "id": "qzmx7T7xoa6v"
   },
   "outputs": [],
   "source": [
    "#save the base model to be loaded later in the fine-tuning phase\n",
    "torch.save({\"model_state_dict\": model.base.state_dict(),}, \"pretrained_model_4layers_no_class_head.pt\")"
   ]
  },
  {
   "cell_type": "code",
   "execution_count": 19,
   "metadata": {
    "id": "i-xclMCpnVpw",
    "scrolled": false
   },
   "outputs": [
    {
     "name": "stdout",
     "output_type": "stream",
     "text": [
      "=====Trainig FROM SCRATCH======\n",
      "| epoch   1 |    50/  200 steps | loss 0.82276 | ppl    2.277\n",
      "| epoch   1 |   100/  200 steps | loss 0.72513 | ppl    2.065\n",
      "| epoch   1 |   150/  200 steps | loss 0.75930 | ppl    2.137\n",
      "validation accuracy: 58.30\n",
      "| epoch   2 |    50/  200 steps | loss 0.62912 | ppl    1.876\n",
      "| epoch   2 |   100/  200 steps | loss 0.67138 | ppl    1.957\n",
      "| epoch   2 |   150/  200 steps | loss 0.65583 | ppl    1.927\n",
      "validation accuracy: 65.70\n",
      "| epoch   3 |    50/  200 steps | loss 0.46150 | ppl    1.586\n",
      "| epoch   3 |   100/  200 steps | loss 0.45437 | ppl    1.575\n",
      "| epoch   3 |   150/  200 steps | loss 0.39543 | ppl    1.485\n",
      "validation accuracy: 63.50\n",
      "| epoch   4 |    50/  200 steps | loss 0.17086 | ppl    1.186\n",
      "| epoch   4 |   100/  200 steps | loss 0.15355 | ppl    1.166\n",
      "| epoch   4 |   150/  200 steps | loss 0.28639 | ppl    1.332\n",
      "validation accuracy: 74.80\n",
      "| epoch   5 |    50/  200 steps | loss 0.03364 | ppl    1.034\n",
      "| epoch   5 |   100/  200 steps | loss 0.02968 | ppl    1.030\n",
      "| epoch   5 |   150/  200 steps | loss 0.13308 | ppl    1.142\n",
      "validation accuracy: 74.05\n",
      "| epoch   6 |    50/  200 steps | loss 0.01019 | ppl    1.010\n",
      "| epoch   6 |   100/  200 steps | loss 0.00093 | ppl    1.001\n",
      "| epoch   6 |   150/  200 steps | loss 0.01846 | ppl    1.019\n",
      "validation accuracy: 74.90\n",
      "| epoch   7 |    50/  200 steps | loss 0.00003 | ppl    1.000\n",
      "| epoch   7 |   100/  200 steps | loss 0.00041 | ppl    1.000\n",
      "| epoch   7 |   150/  200 steps | loss 0.00008 | ppl    1.000\n",
      "validation accuracy: 74.55\n",
      "| epoch   8 |    50/  200 steps | loss 0.00001 | ppl    1.000\n",
      "| epoch   8 |   100/  200 steps | loss 0.00001 | ppl    1.000\n",
      "| epoch   8 |   150/  200 steps | loss 0.00001 | ppl    1.000\n",
      "validation accuracy: 74.50\n",
      "| epoch   9 |    50/  200 steps | loss 0.00001 | ppl    1.000\n",
      "| epoch   9 |   100/  200 steps | loss 0.00001 | ppl    1.000\n",
      "| epoch   9 |   150/  200 steps | loss 0.00001 | ppl    1.000\n",
      "validation accuracy: 74.95\n",
      "| epoch  10 |    50/  200 steps | loss 0.00001 | ppl    1.000\n",
      "| epoch  10 |   100/  200 steps | loss 0.00001 | ppl    1.000\n",
      "| epoch  10 |   150/  200 steps | loss 0.00001 | ppl    1.000\n",
      "validation accuracy: 74.45\n",
      "| epoch  11 |    50/  200 steps | loss 0.00002 | ppl    1.000\n",
      "| epoch  11 |   100/  200 steps | loss 0.00001 | ppl    1.000\n",
      "| epoch  11 |   150/  200 steps | loss 0.00000 | ppl    1.000\n",
      "validation accuracy: 74.55\n",
      "| epoch  12 |    50/  200 steps | loss 0.00000 | ppl    1.000\n",
      "| epoch  12 |   100/  200 steps | loss 0.00000 | ppl    1.000\n",
      "| epoch  12 |   150/  200 steps | loss 0.00000 | ppl    1.000\n",
      "validation accuracy: 75.10\n",
      "| epoch  13 |    50/  200 steps | loss 0.00000 | ppl    1.000\n",
      "| epoch  13 |   100/  200 steps | loss 0.00000 | ppl    1.000\n",
      "| epoch  13 |   150/  200 steps | loss 0.00000 | ppl    1.000\n",
      "validation accuracy: 74.15\n",
      "| epoch  14 |    50/  200 steps | loss 0.00000 | ppl    1.000\n",
      "| epoch  14 |   100/  200 steps | loss 0.00000 | ppl    1.000\n",
      "| epoch  14 |   150/  200 steps | loss 0.00000 | ppl    1.000\n",
      "validation accuracy: 74.55\n",
      "| epoch  15 |    50/  200 steps | loss 0.00000 | ppl    1.000\n",
      "| epoch  15 |   100/  200 steps | loss 0.00000 | ppl    1.000\n",
      "| epoch  15 |   150/  200 steps | loss 0.00000 | ppl    1.000\n",
      "validation accuracy: 74.65\n",
      "\n",
      "=====PRETRAINED MODEL======\n",
      "| epoch   1 |    50/  200 steps | loss 0.81334 | ppl    2.255\n",
      "| epoch   1 |   100/  200 steps | loss 0.66533 | ppl    1.945\n",
      "| epoch   1 |   150/  200 steps | loss 0.64318 | ppl    1.903\n",
      "validation accuracy: 76.15\n",
      "| epoch   2 |    50/  200 steps | loss 0.47203 | ppl    1.603\n",
      "| epoch   2 |   100/  200 steps | loss 0.48782 | ppl    1.629\n",
      "| epoch   2 |   150/  200 steps | loss 0.41864 | ppl    1.520\n",
      "validation accuracy: 77.70\n",
      "| epoch   3 |    50/  200 steps | loss 0.41639 | ppl    1.516\n",
      "| epoch   3 |   100/  200 steps | loss 0.37523 | ppl    1.455\n",
      "| epoch   3 |   150/  200 steps | loss 0.32310 | ppl    1.381\n",
      "validation accuracy: 78.15\n",
      "| epoch   4 |    50/  200 steps | loss 0.27253 | ppl    1.313\n",
      "| epoch   4 |   100/  200 steps | loss 0.26321 | ppl    1.301\n",
      "| epoch   4 |   150/  200 steps | loss 0.29758 | ppl    1.347\n",
      "validation accuracy: 80.85\n",
      "| epoch   5 |    50/  200 steps | loss 0.10036 | ppl    1.106\n",
      "| epoch   5 |   100/  200 steps | loss 0.18158 | ppl    1.199\n",
      "| epoch   5 |   150/  200 steps | loss 0.23821 | ppl    1.269\n",
      "validation accuracy: 80.10\n",
      "| epoch   6 |    50/  200 steps | loss 0.05752 | ppl    1.059\n",
      "| epoch   6 |   100/  200 steps | loss 0.08345 | ppl    1.087\n",
      "| epoch   6 |   150/  200 steps | loss 0.07150 | ppl    1.074\n",
      "validation accuracy: 79.30\n",
      "| epoch   7 |    50/  200 steps | loss 0.02023 | ppl    1.020\n",
      "| epoch   7 |   100/  200 steps | loss 0.00246 | ppl    1.002\n",
      "| epoch   7 |   150/  200 steps | loss 0.02276 | ppl    1.023\n",
      "validation accuracy: 79.00\n",
      "| epoch   8 |    50/  200 steps | loss 0.00841 | ppl    1.008\n",
      "| epoch   8 |   100/  200 steps | loss 0.00053 | ppl    1.001\n",
      "| epoch   8 |   150/  200 steps | loss 0.00547 | ppl    1.005\n",
      "validation accuracy: 79.15\n",
      "| epoch   9 |    50/  200 steps | loss 0.00968 | ppl    1.010\n",
      "| epoch   9 |   100/  200 steps | loss 0.00004 | ppl    1.000\n",
      "| epoch   9 |   150/  200 steps | loss 0.00171 | ppl    1.002\n",
      "validation accuracy: 80.00\n",
      "| epoch  10 |    50/  200 steps | loss 0.00001 | ppl    1.000\n",
      "| epoch  10 |   100/  200 steps | loss 0.00002 | ppl    1.000\n",
      "| epoch  10 |   150/  200 steps | loss 0.00322 | ppl    1.003\n",
      "validation accuracy: 79.70\n",
      "| epoch  11 |    50/  200 steps | loss 0.00000 | ppl    1.000\n",
      "| epoch  11 |   100/  200 steps | loss 0.00187 | ppl    1.002\n",
      "| epoch  11 |   150/  200 steps | loss 0.00003 | ppl    1.000\n",
      "validation accuracy: 79.30\n",
      "| epoch  12 |    50/  200 steps | loss 0.00001 | ppl    1.000\n",
      "| epoch  12 |   100/  200 steps | loss 0.00000 | ppl    1.000\n",
      "| epoch  12 |   150/  200 steps | loss 0.00000 | ppl    1.000\n",
      "validation accuracy: 79.70\n",
      "| epoch  13 |    50/  200 steps | loss 0.00000 | ppl    1.000\n",
      "| epoch  13 |   100/  200 steps | loss 0.00000 | ppl    1.000\n",
      "| epoch  13 |   150/  200 steps | loss 0.00000 | ppl    1.000\n",
      "validation accuracy: 79.45\n",
      "| epoch  14 |    50/  200 steps | loss 0.00000 | ppl    1.000\n",
      "| epoch  14 |   100/  200 steps | loss 0.00000 | ppl    1.000\n",
      "| epoch  14 |   150/  200 steps | loss 0.00000 | ppl    1.000\n",
      "validation accuracy: 79.30\n",
      "| epoch  15 |    50/  200 steps | loss 0.00000 | ppl    1.000\n",
      "| epoch  15 |   100/  200 steps | loss 0.00000 | ppl    1.000\n",
      "| epoch  15 |   150/  200 steps | loss 0.00000 | ppl    1.000\n",
      "validation accuracy: 79.20\n",
      "\n"
     ]
    }
   ],
   "source": [
    "from_scratch_settings = [True, False]\n",
    "\n",
    "from_scratch_valid_acc = []\n",
    "pretrained_valid_acc = []\n",
    "lr = 0.0001\n",
    "\n",
    "for from_scratch in from_scratch_settings:\n",
    "    model = Model(ntokens, nhead, nhid, nlayers, 2, dropout).to(device)\n",
    "    criterion = nn.CrossEntropyLoss()\n",
    "    optimizer = torch.optim.Adam(model.parameters(), lr=lr)\n",
    "    if not from_scratch:\n",
    "        print(\"=====PRETRAINED MODEL======\")\n",
    "        #load checkpoint\n",
    "        checkpoint = torch.load(\"pretrained_model_4layers_no_class_head.pt\")\n",
    "        #load state dict\n",
    "        model.base.load_state_dict(checkpoint['model_state_dict'])\n",
    "    else:\n",
    "        print(\"=====Trainig FROM SCRATCH======\")\n",
    "    epochs = 15\n",
    "    for epoch in range(1, epochs + 1):\n",
    "        train(\n",
    "            path_data_train,\n",
    "            path_labels_train,\n",
    "            save_interval=-1,\n",
    "            task='classification',\n",
    "            batch_size=8,\n",
    "            log_interval=50,\n",
    "        )\n",
    "        acc = evaluate_accuracy(\n",
    "            get_loader(\n",
    "                path_data_valid,\n",
    "                path_labels_valid,\n",
    "                token2ind=token2ind,\n",
    "                batch_size=20,\n",
    "                task='classification',\n",
    "            )\n",
    "        )\n",
    "        if from_scratch:\n",
    "            from_scratch_valid_acc.append(acc)\n",
    "        else:\n",
    "            pretrained_valid_acc.append(acc)\n",
    "    print()"
   ]
  },
  {
   "cell_type": "code",
   "execution_count": 23,
   "metadata": {},
   "outputs": [
    {
     "data": {
      "image/png": "[encoded data removed]",
      "text/plain": [
       "<Figure size 640x480 with 1 Axes>"
      ]
     },
     "metadata": {},
     "output_type": "display_data"
    }
   ],
   "source": [
    "import numpy as np\n",
    "import matplotlib.pyplot as plt\n",
    "\n",
    "scratch = np.array(from_scratch_valid_acc)\n",
    "pretrained = np.array(pretrained_valid_acc)\n",
    "epochs = np.arange(1,16)\n",
    "\n",
    "plt.ylabel('Validation accuracy')\n",
    "plt.xlabel('Epoch')\n",
    "\n",
    "plt.ylim(0.4,1)\n",
    "plt.xlim(1,15)\n",
    "\n",
    "plt.plot(epochs, pretrained, label='Pretrained')\n",
    "plt.plot(epochs, scratch, label= 'From scratch')\n",
    "\n",
    "plt.title(\"Comparison between the pretrained model and a model learning from scratch\")\n",
    "\n",
    "\n",
    "plt.legend()\n",
    "plt.show()"
   ]
  },
  {
   "cell_type": "code",
   "execution_count": null,
   "metadata": {},
   "outputs": [],
   "source": []
  }
 ],
 "metadata": {
  "accelerator": "GPU",
  "colab": {
   "collapsed_sections": [],
   "name": "ALTEGRAD_2020_transfer_learning.ipynb",
   "provenance": []
  },
  "kernelspec": {
   "display_name": "Python 3 (ipykernel)",
   "language": "python",
   "name": "python3"
  },
  "language_info": {
   "codemirror_mode": {
    "name": "ipython",
    "version": 3
   },
   "file_extension": ".py",
   "mimetype": "text/x-python",
   "name": "python",
   "nbconvert_exporter": "python",
   "pygments_lexer": "ipython3",
   "version": "3.9.13"
  },
  "vscode": {
   "interpreter": {
    "hash": "1f3cfdeab8dd8f9900bd16266619de191cf0f5e09365d74b1fba1714dce58066"
   }
  }
 },
 "nbformat": 4,
 "nbformat_minor": 1
}
